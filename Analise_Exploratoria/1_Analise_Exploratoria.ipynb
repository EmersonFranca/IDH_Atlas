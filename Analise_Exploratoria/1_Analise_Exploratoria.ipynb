{
  "nbformat": 4,
  "nbformat_minor": 0,
  "metadata": {
    "colab": {
      "name": "1 Analise Exploratoria.ipynb",
      "provenance": [],
      "authorship_tag": "ABX9TyMFhTuXROTpiXA3H/6ZR+Qq",
      "include_colab_link": true
    },
    "kernelspec": {
      "name": "python3",
      "display_name": "Python 3"
    }
  },
  "cells": [
    {
      "cell_type": "markdown",
      "metadata": {
        "id": "view-in-github",
        "colab_type": "text"
      },
      "source": [
        "<a href=\"https://colab.research.google.com/github/EmersonFranca/IDH_Atlas/blob/master/Analise_Exploratoria/1_Analise_Exploratoria.ipynb\" target=\"_parent\"><img src=\"https://colab.research.google.com/assets/colab-badge.svg\" alt=\"Open In Colab\"/></a>"
      ]
    },
    {
      "cell_type": "markdown",
      "metadata": {
        "id": "OPjPkFy652St",
        "colab_type": "text"
      },
      "source": [
        "# 1. Importando bibliotecas"
      ]
    },
    {
      "cell_type": "code",
      "metadata": {
        "id": "m-MErDYB5TKu",
        "colab_type": "code",
        "outputId": "799a480e-d5c7-4cdf-d25f-38b8d963f2bc",
        "colab": {
          "base_uri": "https://localhost:8080/",
          "height": 71
        }
      },
      "source": [
        "import pandas as pd\n",
        "import numpy as np\n",
        "import seaborn as sns\n",
        "import matplotlib.pyplot as plt"
      ],
      "execution_count": 1,
      "outputs": [
        {
          "output_type": "stream",
          "text": [
            "/usr/local/lib/python3.6/dist-packages/statsmodels/tools/_testing.py:19: FutureWarning: pandas.util.testing is deprecated. Use the functions in the public API at pandas.testing instead.\n",
            "  import pandas.util.testing as tm\n"
          ],
          "name": "stderr"
        }
      ]
    },
    {
      "cell_type": "markdown",
      "metadata": {
        "id": "UiEJFeS159_s",
        "colab_type": "text"
      },
      "source": [
        "# 2. Versões das bibliotecas importadas"
      ]
    },
    {
      "cell_type": "code",
      "metadata": {
        "id": "vs0pijWG51ck",
        "colab_type": "code",
        "outputId": "56958177-474f-4aa0-9cc8-02af011e4f04",
        "colab": {
          "base_uri": "https://localhost:8080/",
          "height": 68
        }
      },
      "source": [
        "print(pd.__version__)\n",
        "print(np.__version__)\n",
        "print(sns.__version__)\n"
      ],
      "execution_count": 2,
      "outputs": [
        {
          "output_type": "stream",
          "text": [
            "1.0.3\n",
            "1.18.4\n",
            "0.10.1\n"
          ],
          "name": "stdout"
        }
      ]
    },
    {
      "cell_type": "markdown",
      "metadata": {
        "id": "QzpvS3WG6WWp",
        "colab_type": "text"
      },
      "source": [
        "# 3. Importando os dados"
      ]
    },
    {
      "cell_type": "code",
      "metadata": {
        "id": "uv6OHjnJ6Ti8",
        "colab_type": "code",
        "colab": {}
      },
      "source": [
        "URL_IDH_1991 = \"https://github.com/EmersonFranca/IDH_Atlas/blob/master/Dados/IDH_1991.csv?raw=true\"\n",
        "URL_IDH_2000 = \"https://github.com/EmersonFranca/IDH_Atlas/blob/master/Dados/IDH_2000.csv?raw=true\"\n",
        "URL_IDH_2010 = \"https://github.com/EmersonFranca/IDH_Atlas/blob/master/Dados/IDH_2010.csv?raw=true\""
      ],
      "execution_count": 0,
      "outputs": []
    },
    {
      "cell_type": "code",
      "metadata": {
        "id": "TAjihqeN626b",
        "colab_type": "code",
        "colab": {}
      },
      "source": [
        "dfIDH_2000 = pd.read_csv(URL_IDH_2000,sep=';')"
      ],
      "execution_count": 0,
      "outputs": []
    },
    {
      "cell_type": "code",
      "metadata": {
        "id": "JKxr2hzH6599",
        "colab_type": "code",
        "outputId": "db88ae0d-db0c-452a-f645-72397ec66415",
        "colab": {
          "base_uri": "https://localhost:8080/",
          "height": 287
        }
      },
      "source": [
        "dfIDH_2000.head()"
      ],
      "execution_count": 5,
      "outputs": [
        {
          "output_type": "execute_result",
          "data": {
            "text/html": [
              "<div>\n",
              "<style scoped>\n",
              "    .dataframe tbody tr th:only-of-type {\n",
              "        vertical-align: middle;\n",
              "    }\n",
              "\n",
              "    .dataframe tbody tr th {\n",
              "        vertical-align: top;\n",
              "    }\n",
              "\n",
              "    .dataframe thead th {\n",
              "        text-align: right;\n",
              "    }\n",
              "</style>\n",
              "<table border=\"1\" class=\"dataframe\">\n",
              "  <thead>\n",
              "    <tr style=\"text-align: right;\">\n",
              "      <th></th>\n",
              "      <th>ANO</th>\n",
              "      <th>UF</th>\n",
              "      <th>Codmun6</th>\n",
              "      <th>Codmun7</th>\n",
              "      <th>Município</th>\n",
              "      <th>ESPVIDA</th>\n",
              "      <th>FECTOT</th>\n",
              "      <th>MORT1</th>\n",
              "      <th>MORT5</th>\n",
              "      <th>RAZDEP</th>\n",
              "      <th>SOBRE40</th>\n",
              "      <th>SOBRE60</th>\n",
              "      <th>T_ENV</th>\n",
              "      <th>E_ANOSESTUDO</th>\n",
              "      <th>T_ANALF11A14</th>\n",
              "      <th>T_ANALF15A17</th>\n",
              "      <th>T_ANALF15M</th>\n",
              "      <th>T_ANALF18A24</th>\n",
              "      <th>T_ANALF18M</th>\n",
              "      <th>T_ANALF25A29</th>\n",
              "      <th>T_ANALF25M</th>\n",
              "      <th>T_ATRASO_0_BASICO</th>\n",
              "      <th>T_ATRASO_0_FUND</th>\n",
              "      <th>T_ATRASO_0_MED</th>\n",
              "      <th>T_ATRASO_1_BASICO</th>\n",
              "      <th>T_ATRASO_1_FUND</th>\n",
              "      <th>T_ATRASO_1_MED</th>\n",
              "      <th>T_ATRASO_2_BASICO</th>\n",
              "      <th>T_ATRASO_2_FUND</th>\n",
              "      <th>T_ATRASO_2_MED</th>\n",
              "      <th>T_FBBAS</th>\n",
              "      <th>T_FBFUND</th>\n",
              "      <th>T_FBMED</th>\n",
              "      <th>T_FBPRE</th>\n",
              "      <th>T_FBSUPER</th>\n",
              "      <th>T_FLBAS</th>\n",
              "      <th>T_FLFUND</th>\n",
              "      <th>T_FLMED</th>\n",
              "      <th>T_FLPRE</th>\n",
              "      <th>T_FLSUPER</th>\n",
              "      <th>...</th>\n",
              "      <th>PEA18M</th>\n",
              "      <th>peso1</th>\n",
              "      <th>PESO1114</th>\n",
              "      <th>PESO1113</th>\n",
              "      <th>PESO1214</th>\n",
              "      <th>peso13</th>\n",
              "      <th>PESO15</th>\n",
              "      <th>peso1517</th>\n",
              "      <th>PESO1524</th>\n",
              "      <th>PESO1618</th>\n",
              "      <th>PESO18</th>\n",
              "      <th>Peso1820</th>\n",
              "      <th>PESO1824</th>\n",
              "      <th>Peso1921</th>\n",
              "      <th>PESO25</th>\n",
              "      <th>peso4</th>\n",
              "      <th>peso5</th>\n",
              "      <th>peso6</th>\n",
              "      <th>PESO610</th>\n",
              "      <th>Peso617</th>\n",
              "      <th>PESO65</th>\n",
              "      <th>PESOM1014</th>\n",
              "      <th>PESOM1517</th>\n",
              "      <th>PESOM15M</th>\n",
              "      <th>PESOM25M</th>\n",
              "      <th>pesoRUR</th>\n",
              "      <th>pesotot</th>\n",
              "      <th>pesourb</th>\n",
              "      <th>PIA</th>\n",
              "      <th>PIA1014</th>\n",
              "      <th>PIA1517</th>\n",
              "      <th>PIA18M</th>\n",
              "      <th>POP</th>\n",
              "      <th>POPT</th>\n",
              "      <th>I_ESCOLARIDADE</th>\n",
              "      <th>I_FREQ_PROP</th>\n",
              "      <th>IDHM</th>\n",
              "      <th>IDHM_E</th>\n",
              "      <th>IDHM_L</th>\n",
              "      <th>IDHM_R</th>\n",
              "    </tr>\n",
              "  </thead>\n",
              "  <tbody>\n",
              "    <tr>\n",
              "      <th>0</th>\n",
              "      <td>2000</td>\n",
              "      <td>11</td>\n",
              "      <td>110001</td>\n",
              "      <td>1100015</td>\n",
              "      <td>ALTA FLORESTA D'OESTE</td>\n",
              "      <td>66.90</td>\n",
              "      <td>3.11</td>\n",
              "      <td>28.36</td>\n",
              "      <td>33.96</td>\n",
              "      <td>61.65</td>\n",
              "      <td>89.61</td>\n",
              "      <td>75.40</td>\n",
              "      <td>3.35</td>\n",
              "      <td>7.76</td>\n",
              "      <td>2.32</td>\n",
              "      <td>2.60</td>\n",
              "      <td>15.84</td>\n",
              "      <td>4.11</td>\n",
              "      <td>17.42</td>\n",
              "      <td>6.37</td>\n",
              "      <td>21.54</td>\n",
              "      <td>49.82</td>\n",
              "      <td>54.43</td>\n",
              "      <td>62.62</td>\n",
              "      <td>25.57</td>\n",
              "      <td>26.10</td>\n",
              "      <td>34.18</td>\n",
              "      <td>24.62</td>\n",
              "      <td>19.47</td>\n",
              "      <td>3.21</td>\n",
              "      <td>85.50</td>\n",
              "      <td>99.90</td>\n",
              "      <td>40.47</td>\n",
              "      <td>9.63</td>\n",
              "      <td>5.19</td>\n",
              "      <td>76.88</td>\n",
              "      <td>85.59</td>\n",
              "      <td>18.01</td>\n",
              "      <td>9.63</td>\n",
              "      <td>2.22</td>\n",
              "      <td>...</td>\n",
              "      <td>10724</td>\n",
              "      <td>515</td>\n",
              "      <td>2453</td>\n",
              "      <td>1899</td>\n",
              "      <td>1780</td>\n",
              "      <td>1747</td>\n",
              "      <td>17300</td>\n",
              "      <td>1848</td>\n",
              "      <td>5502</td>\n",
              "      <td>1793</td>\n",
              "      <td>15458</td>\n",
              "      <td>1699</td>\n",
              "      <td>3654</td>\n",
              "      <td>1588</td>\n",
              "      <td>11802</td>\n",
              "      <td>606</td>\n",
              "      <td>655</td>\n",
              "      <td>634</td>\n",
              "      <td>3251</td>\n",
              "      <td>7552</td>\n",
              "      <td>890</td>\n",
              "      <td>1532</td>\n",
              "      <td>895</td>\n",
              "      <td>8123</td>\n",
              "      <td>5437</td>\n",
              "      <td>14192</td>\n",
              "      <td>26533</td>\n",
              "      <td>12341</td>\n",
              "      <td>20346</td>\n",
              "      <td>3040</td>\n",
              "      <td>1830</td>\n",
              "      <td>15476</td>\n",
              "      <td>25920</td>\n",
              "      <td>24888</td>\n",
              "      <td>0.195</td>\n",
              "      <td>0.303</td>\n",
              "      <td>0.483</td>\n",
              "      <td>0.262</td>\n",
              "      <td>0.698</td>\n",
              "      <td>0.617</td>\n",
              "    </tr>\n",
              "    <tr>\n",
              "      <th>1</th>\n",
              "      <td>2000</td>\n",
              "      <td>11</td>\n",
              "      <td>110002</td>\n",
              "      <td>1100023</td>\n",
              "      <td>ARIQUEMES</td>\n",
              "      <td>69.52</td>\n",
              "      <td>2.77</td>\n",
              "      <td>21.68</td>\n",
              "      <td>25.99</td>\n",
              "      <td>59.88</td>\n",
              "      <td>91.91</td>\n",
              "      <td>80.15</td>\n",
              "      <td>2.92</td>\n",
              "      <td>7.61</td>\n",
              "      <td>2.64</td>\n",
              "      <td>2.52</td>\n",
              "      <td>11.77</td>\n",
              "      <td>3.57</td>\n",
              "      <td>12.81</td>\n",
              "      <td>5.28</td>\n",
              "      <td>15.76</td>\n",
              "      <td>52.48</td>\n",
              "      <td>58.38</td>\n",
              "      <td>54.89</td>\n",
              "      <td>21.16</td>\n",
              "      <td>21.67</td>\n",
              "      <td>24.89</td>\n",
              "      <td>26.35</td>\n",
              "      <td>19.96</td>\n",
              "      <td>20.22</td>\n",
              "      <td>65.70</td>\n",
              "      <td>76.08</td>\n",
              "      <td>34.92</td>\n",
              "      <td>20.81</td>\n",
              "      <td>6.57</td>\n",
              "      <td>55.27</td>\n",
              "      <td>61.64</td>\n",
              "      <td>13.88</td>\n",
              "      <td>18.93</td>\n",
              "      <td>2.03</td>\n",
              "      <td>...</td>\n",
              "      <td>29999</td>\n",
              "      <td>1784</td>\n",
              "      <td>6771</td>\n",
              "      <td>5112</td>\n",
              "      <td>5027</td>\n",
              "      <td>5075</td>\n",
              "      <td>48771</td>\n",
              "      <td>4922</td>\n",
              "      <td>15534</td>\n",
              "      <td>5040</td>\n",
              "      <td>43857</td>\n",
              "      <td>4812</td>\n",
              "      <td>10612</td>\n",
              "      <td>4550</td>\n",
              "      <td>33238</td>\n",
              "      <td>1816</td>\n",
              "      <td>1840</td>\n",
              "      <td>1720</td>\n",
              "      <td>8438</td>\n",
              "      <td>20131</td>\n",
              "      <td>2178</td>\n",
              "      <td>4206</td>\n",
              "      <td>2527</td>\n",
              "      <td>23904</td>\n",
              "      <td>16013</td>\n",
              "      <td>19385</td>\n",
              "      <td>74503</td>\n",
              "      <td>55118</td>\n",
              "      <td>57064</td>\n",
              "      <td>8285</td>\n",
              "      <td>5190</td>\n",
              "      <td>43589</td>\n",
              "      <td>71789</td>\n",
              "      <td>69829</td>\n",
              "      <td>0.314</td>\n",
              "      <td>0.358</td>\n",
              "      <td>0.556</td>\n",
              "      <td>0.343</td>\n",
              "      <td>0.742</td>\n",
              "      <td>0.674</td>\n",
              "    </tr>\n",
              "    <tr>\n",
              "      <th>2</th>\n",
              "      <td>2000</td>\n",
              "      <td>11</td>\n",
              "      <td>110003</td>\n",
              "      <td>1100031</td>\n",
              "      <td>CABIXI</td>\n",
              "      <td>65.62</td>\n",
              "      <td>2.95</td>\n",
              "      <td>31.99</td>\n",
              "      <td>38.27</td>\n",
              "      <td>60.81</td>\n",
              "      <td>88.40</td>\n",
              "      <td>73.03</td>\n",
              "      <td>4.56</td>\n",
              "      <td>8.02</td>\n",
              "      <td>3.24</td>\n",
              "      <td>2.46</td>\n",
              "      <td>17.50</td>\n",
              "      <td>2.99</td>\n",
              "      <td>19.42</td>\n",
              "      <td>5.31</td>\n",
              "      <td>23.80</td>\n",
              "      <td>46.67</td>\n",
              "      <td>53.61</td>\n",
              "      <td>53.44</td>\n",
              "      <td>23.55</td>\n",
              "      <td>24.82</td>\n",
              "      <td>29.98</td>\n",
              "      <td>29.79</td>\n",
              "      <td>21.57</td>\n",
              "      <td>16.58</td>\n",
              "      <td>87.72</td>\n",
              "      <td>108.11</td>\n",
              "      <td>35.20</td>\n",
              "      <td>35.97</td>\n",
              "      <td>8.50</td>\n",
              "      <td>78.95</td>\n",
              "      <td>87.31</td>\n",
              "      <td>18.52</td>\n",
              "      <td>31.32</td>\n",
              "      <td>0.00</td>\n",
              "      <td>...</td>\n",
              "      <td>2780</td>\n",
              "      <td>153</td>\n",
              "      <td>771</td>\n",
              "      <td>572</td>\n",
              "      <td>581</td>\n",
              "      <td>462</td>\n",
              "      <td>5018</td>\n",
              "      <td>570</td>\n",
              "      <td>1506</td>\n",
              "      <td>551</td>\n",
              "      <td>4448</td>\n",
              "      <td>449</td>\n",
              "      <td>936</td>\n",
              "      <td>412</td>\n",
              "      <td>3512</td>\n",
              "      <td>139</td>\n",
              "      <td>172</td>\n",
              "      <td>157</td>\n",
              "      <td>803</td>\n",
              "      <td>2144</td>\n",
              "      <td>343</td>\n",
              "      <td>451</td>\n",
              "      <td>277</td>\n",
              "      <td>2318</td>\n",
              "      <td>1601</td>\n",
              "      <td>4846</td>\n",
              "      <td>7518</td>\n",
              "      <td>2672</td>\n",
              "      <td>5945</td>\n",
              "      <td>927</td>\n",
              "      <td>591</td>\n",
              "      <td>4427</td>\n",
              "      <td>7474</td>\n",
              "      <td>7076</td>\n",
              "      <td>0.177</td>\n",
              "      <td>0.359</td>\n",
              "      <td>0.488</td>\n",
              "      <td>0.284</td>\n",
              "      <td>0.677</td>\n",
              "      <td>0.604</td>\n",
              "    </tr>\n",
              "    <tr>\n",
              "      <th>3</th>\n",
              "      <td>2000</td>\n",
              "      <td>11</td>\n",
              "      <td>110004</td>\n",
              "      <td>1100049</td>\n",
              "      <td>CACOAL</td>\n",
              "      <td>69.70</td>\n",
              "      <td>2.34</td>\n",
              "      <td>21.27</td>\n",
              "      <td>25.50</td>\n",
              "      <td>57.28</td>\n",
              "      <td>92.05</td>\n",
              "      <td>80.46</td>\n",
              "      <td>3.82</td>\n",
              "      <td>8.25</td>\n",
              "      <td>1.63</td>\n",
              "      <td>1.90</td>\n",
              "      <td>12.14</td>\n",
              "      <td>2.59</td>\n",
              "      <td>13.24</td>\n",
              "      <td>4.64</td>\n",
              "      <td>16.56</td>\n",
              "      <td>52.51</td>\n",
              "      <td>57.85</td>\n",
              "      <td>64.69</td>\n",
              "      <td>22.44</td>\n",
              "      <td>23.23</td>\n",
              "      <td>28.79</td>\n",
              "      <td>25.05</td>\n",
              "      <td>18.92</td>\n",
              "      <td>6.52</td>\n",
              "      <td>89.49</td>\n",
              "      <td>104.49</td>\n",
              "      <td>44.25</td>\n",
              "      <td>23.62</td>\n",
              "      <td>8.75</td>\n",
              "      <td>79.88</td>\n",
              "      <td>87.28</td>\n",
              "      <td>23.27</td>\n",
              "      <td>22.64</td>\n",
              "      <td>3.78</td>\n",
              "      <td>...</td>\n",
              "      <td>30480</td>\n",
              "      <td>1431</td>\n",
              "      <td>6691</td>\n",
              "      <td>5032</td>\n",
              "      <td>5015</td>\n",
              "      <td>4574</td>\n",
              "      <td>49586</td>\n",
              "      <td>4839</td>\n",
              "      <td>15456</td>\n",
              "      <td>4944</td>\n",
              "      <td>44752</td>\n",
              "      <td>4893</td>\n",
              "      <td>10617</td>\n",
              "      <td>4689</td>\n",
              "      <td>34132</td>\n",
              "      <td>1572</td>\n",
              "      <td>1615</td>\n",
              "      <td>1670</td>\n",
              "      <td>8094</td>\n",
              "      <td>19624</td>\n",
              "      <td>2813</td>\n",
              "      <td>4135</td>\n",
              "      <td>2361</td>\n",
              "      <td>24582</td>\n",
              "      <td>16848</td>\n",
              "      <td>22170</td>\n",
              "      <td>73568</td>\n",
              "      <td>51398</td>\n",
              "      <td>57913</td>\n",
              "      <td>8322</td>\n",
              "      <td>4926</td>\n",
              "      <td>44665</td>\n",
              "      <td>73104</td>\n",
              "      <td>71703</td>\n",
              "      <td>0.310</td>\n",
              "      <td>0.416</td>\n",
              "      <td>0.567</td>\n",
              "      <td>0.377</td>\n",
              "      <td>0.745</td>\n",
              "      <td>0.650</td>\n",
              "    </tr>\n",
              "    <tr>\n",
              "      <th>4</th>\n",
              "      <td>2000</td>\n",
              "      <td>11</td>\n",
              "      <td>110005</td>\n",
              "      <td>1100056</td>\n",
              "      <td>CEREJEIRAS</td>\n",
              "      <td>67.22</td>\n",
              "      <td>2.44</td>\n",
              "      <td>27.50</td>\n",
              "      <td>32.93</td>\n",
              "      <td>59.85</td>\n",
              "      <td>89.90</td>\n",
              "      <td>75.99</td>\n",
              "      <td>4.56</td>\n",
              "      <td>9.13</td>\n",
              "      <td>1.25</td>\n",
              "      <td>1.72</td>\n",
              "      <td>13.90</td>\n",
              "      <td>2.59</td>\n",
              "      <td>15.26</td>\n",
              "      <td>4.22</td>\n",
              "      <td>18.79</td>\n",
              "      <td>56.58</td>\n",
              "      <td>63.87</td>\n",
              "      <td>69.59</td>\n",
              "      <td>19.73</td>\n",
              "      <td>19.47</td>\n",
              "      <td>28.06</td>\n",
              "      <td>23.68</td>\n",
              "      <td>16.66</td>\n",
              "      <td>2.34</td>\n",
              "      <td>94.71</td>\n",
              "      <td>109.38</td>\n",
              "      <td>46.34</td>\n",
              "      <td>15.22</td>\n",
              "      <td>12.34</td>\n",
              "      <td>85.14</td>\n",
              "      <td>89.75</td>\n",
              "      <td>23.26</td>\n",
              "      <td>14.04</td>\n",
              "      <td>5.89</td>\n",
              "      <td>...</td>\n",
              "      <td>7488</td>\n",
              "      <td>332</td>\n",
              "      <td>1758</td>\n",
              "      <td>1303</td>\n",
              "      <td>1326</td>\n",
              "      <td>1091</td>\n",
              "      <td>12220</td>\n",
              "      <td>1223</td>\n",
              "      <td>3619</td>\n",
              "      <td>1201</td>\n",
              "      <td>10997</td>\n",
              "      <td>1102</td>\n",
              "      <td>2396</td>\n",
              "      <td>1041</td>\n",
              "      <td>8601</td>\n",
              "      <td>342</td>\n",
              "      <td>425</td>\n",
              "      <td>416</td>\n",
              "      <td>2039</td>\n",
              "      <td>5020</td>\n",
              "      <td>830</td>\n",
              "      <td>1050</td>\n",
              "      <td>600</td>\n",
              "      <td>5971</td>\n",
              "      <td>4178</td>\n",
              "      <td>3361</td>\n",
              "      <td>18207</td>\n",
              "      <td>14846</td>\n",
              "      <td>14358</td>\n",
              "      <td>2138</td>\n",
              "      <td>1169</td>\n",
              "      <td>11051</td>\n",
              "      <td>18056</td>\n",
              "      <td>17283</td>\n",
              "      <td>0.247</td>\n",
              "      <td>0.395</td>\n",
              "      <td>0.542</td>\n",
              "      <td>0.338</td>\n",
              "      <td>0.704</td>\n",
              "      <td>0.668</td>\n",
              "    </tr>\n",
              "  </tbody>\n",
              "</table>\n",
              "<p>5 rows × 237 columns</p>\n",
              "</div>"
            ],
            "text/plain": [
              "    ANO  UF  Codmun6  Codmun7  ...   IDHM  IDHM_E  IDHM_L  IDHM_R\n",
              "0  2000  11   110001  1100015  ...  0.483   0.262   0.698   0.617\n",
              "1  2000  11   110002  1100023  ...  0.556   0.343   0.742   0.674\n",
              "2  2000  11   110003  1100031  ...  0.488   0.284   0.677   0.604\n",
              "3  2000  11   110004  1100049  ...  0.567   0.377   0.745   0.650\n",
              "4  2000  11   110005  1100056  ...  0.542   0.338   0.704   0.668\n",
              "\n",
              "[5 rows x 237 columns]"
            ]
          },
          "metadata": {
            "tags": []
          },
          "execution_count": 5
        }
      ]
    },
    {
      "cell_type": "markdown",
      "metadata": {
        "id": "4FWQoEzp7JD1",
        "colab_type": "text"
      },
      "source": [
        "# 4. Comparando com os outros anos"
      ]
    },
    {
      "cell_type": "code",
      "metadata": {
        "id": "vl1Qz_1P67qT",
        "colab_type": "code",
        "colab": {}
      },
      "source": [
        "dfIDH_1991 = pd.read_csv(URL_IDH_1991,sep=';')\n",
        "dfIDH_2010 = pd.read_csv(URL_IDH_2010,sep=';')"
      ],
      "execution_count": 0,
      "outputs": []
    },
    {
      "cell_type": "code",
      "metadata": {
        "id": "9A22oa74-NcM",
        "colab_type": "code",
        "colab": {}
      },
      "source": [
        "colunas_idh = ['IDHM', 'IDHM_E', 'IDHM_L', 'IDHM_R']"
      ],
      "execution_count": 0,
      "outputs": []
    },
    {
      "cell_type": "code",
      "metadata": {
        "id": "XfGxXvUp93qm",
        "colab_type": "code",
        "outputId": "6ebd1efb-fb47-410e-ef4d-65923525c18f",
        "colab": {
          "base_uri": "https://localhost:8080/",
          "height": 297
        }
      },
      "source": [
        "dfIDH_1991[colunas_idh].describe()"
      ],
      "execution_count": 8,
      "outputs": [
        {
          "output_type": "execute_result",
          "data": {
            "text/html": [
              "<div>\n",
              "<style scoped>\n",
              "    .dataframe tbody tr th:only-of-type {\n",
              "        vertical-align: middle;\n",
              "    }\n",
              "\n",
              "    .dataframe tbody tr th {\n",
              "        vertical-align: top;\n",
              "    }\n",
              "\n",
              "    .dataframe thead th {\n",
              "        text-align: right;\n",
              "    }\n",
              "</style>\n",
              "<table border=\"1\" class=\"dataframe\">\n",
              "  <thead>\n",
              "    <tr style=\"text-align: right;\">\n",
              "      <th></th>\n",
              "      <th>IDHM</th>\n",
              "      <th>IDHM_E</th>\n",
              "      <th>IDHM_L</th>\n",
              "      <th>IDHM_R</th>\n",
              "    </tr>\n",
              "  </thead>\n",
              "  <tbody>\n",
              "    <tr>\n",
              "      <th>count</th>\n",
              "      <td>5565.000000</td>\n",
              "      <td>5565.000000</td>\n",
              "      <td>5565.000000</td>\n",
              "      <td>5565.000000</td>\n",
              "    </tr>\n",
              "    <tr>\n",
              "      <th>mean</th>\n",
              "      <td>0.381372</td>\n",
              "      <td>0.178705</td>\n",
              "      <td>0.645658</td>\n",
              "      <td>0.514515</td>\n",
              "    </tr>\n",
              "    <tr>\n",
              "      <th>std</th>\n",
              "      <td>0.103097</td>\n",
              "      <td>0.091976</td>\n",
              "      <td>0.078733</td>\n",
              "      <td>0.096943</td>\n",
              "    </tr>\n",
              "    <tr>\n",
              "      <th>min</th>\n",
              "      <td>0.120000</td>\n",
              "      <td>0.010000</td>\n",
              "      <td>0.433000</td>\n",
              "      <td>0.229000</td>\n",
              "    </tr>\n",
              "    <tr>\n",
              "      <th>25%</th>\n",
              "      <td>0.299000</td>\n",
              "      <td>0.106000</td>\n",
              "      <td>0.587000</td>\n",
              "      <td>0.435000</td>\n",
              "    </tr>\n",
              "    <tr>\n",
              "      <th>50%</th>\n",
              "      <td>0.382000</td>\n",
              "      <td>0.168000</td>\n",
              "      <td>0.658000</td>\n",
              "      <td>0.518000</td>\n",
              "    </tr>\n",
              "    <tr>\n",
              "      <th>75%</th>\n",
              "      <td>0.463000</td>\n",
              "      <td>0.245000</td>\n",
              "      <td>0.710000</td>\n",
              "      <td>0.590000</td>\n",
              "    </tr>\n",
              "    <tr>\n",
              "      <th>max</th>\n",
              "      <td>0.697000</td>\n",
              "      <td>0.557000</td>\n",
              "      <td>0.810000</td>\n",
              "      <td>0.803000</td>\n",
              "    </tr>\n",
              "  </tbody>\n",
              "</table>\n",
              "</div>"
            ],
            "text/plain": [
              "              IDHM       IDHM_E       IDHM_L       IDHM_R\n",
              "count  5565.000000  5565.000000  5565.000000  5565.000000\n",
              "mean      0.381372     0.178705     0.645658     0.514515\n",
              "std       0.103097     0.091976     0.078733     0.096943\n",
              "min       0.120000     0.010000     0.433000     0.229000\n",
              "25%       0.299000     0.106000     0.587000     0.435000\n",
              "50%       0.382000     0.168000     0.658000     0.518000\n",
              "75%       0.463000     0.245000     0.710000     0.590000\n",
              "max       0.697000     0.557000     0.810000     0.803000"
            ]
          },
          "metadata": {
            "tags": []
          },
          "execution_count": 8
        }
      ]
    },
    {
      "cell_type": "code",
      "metadata": {
        "id": "ILbmuyBrzdgI",
        "colab_type": "code",
        "colab": {}
      },
      "source": [
        ""
      ],
      "execution_count": 0,
      "outputs": []
    },
    {
      "cell_type": "markdown",
      "metadata": {
        "id": "6zDMAsB00hYw",
        "colab_type": "text"
      },
      "source": [
        "# 5. Explorando os dados"
      ]
    },
    {
      "cell_type": "code",
      "metadata": {
        "id": "w-EGgn-k0jzi",
        "colab_type": "code",
        "outputId": "cfc0a30f-37a8-48c6-b624-9bfd242fa317",
        "colab": {
          "base_uri": "https://localhost:8080/",
          "height": 297
        }
      },
      "source": [
        "dfIDH_1991[colunas_idh].describe()"
      ],
      "execution_count": 9,
      "outputs": [
        {
          "output_type": "execute_result",
          "data": {
            "text/html": [
              "<div>\n",
              "<style scoped>\n",
              "    .dataframe tbody tr th:only-of-type {\n",
              "        vertical-align: middle;\n",
              "    }\n",
              "\n",
              "    .dataframe tbody tr th {\n",
              "        vertical-align: top;\n",
              "    }\n",
              "\n",
              "    .dataframe thead th {\n",
              "        text-align: right;\n",
              "    }\n",
              "</style>\n",
              "<table border=\"1\" class=\"dataframe\">\n",
              "  <thead>\n",
              "    <tr style=\"text-align: right;\">\n",
              "      <th></th>\n",
              "      <th>IDHM</th>\n",
              "      <th>IDHM_E</th>\n",
              "      <th>IDHM_L</th>\n",
              "      <th>IDHM_R</th>\n",
              "    </tr>\n",
              "  </thead>\n",
              "  <tbody>\n",
              "    <tr>\n",
              "      <th>count</th>\n",
              "      <td>5565.000000</td>\n",
              "      <td>5565.000000</td>\n",
              "      <td>5565.000000</td>\n",
              "      <td>5565.000000</td>\n",
              "    </tr>\n",
              "    <tr>\n",
              "      <th>mean</th>\n",
              "      <td>0.381372</td>\n",
              "      <td>0.178705</td>\n",
              "      <td>0.645658</td>\n",
              "      <td>0.514515</td>\n",
              "    </tr>\n",
              "    <tr>\n",
              "      <th>std</th>\n",
              "      <td>0.103097</td>\n",
              "      <td>0.091976</td>\n",
              "      <td>0.078733</td>\n",
              "      <td>0.096943</td>\n",
              "    </tr>\n",
              "    <tr>\n",
              "      <th>min</th>\n",
              "      <td>0.120000</td>\n",
              "      <td>0.010000</td>\n",
              "      <td>0.433000</td>\n",
              "      <td>0.229000</td>\n",
              "    </tr>\n",
              "    <tr>\n",
              "      <th>25%</th>\n",
              "      <td>0.299000</td>\n",
              "      <td>0.106000</td>\n",
              "      <td>0.587000</td>\n",
              "      <td>0.435000</td>\n",
              "    </tr>\n",
              "    <tr>\n",
              "      <th>50%</th>\n",
              "      <td>0.382000</td>\n",
              "      <td>0.168000</td>\n",
              "      <td>0.658000</td>\n",
              "      <td>0.518000</td>\n",
              "    </tr>\n",
              "    <tr>\n",
              "      <th>75%</th>\n",
              "      <td>0.463000</td>\n",
              "      <td>0.245000</td>\n",
              "      <td>0.710000</td>\n",
              "      <td>0.590000</td>\n",
              "    </tr>\n",
              "    <tr>\n",
              "      <th>max</th>\n",
              "      <td>0.697000</td>\n",
              "      <td>0.557000</td>\n",
              "      <td>0.810000</td>\n",
              "      <td>0.803000</td>\n",
              "    </tr>\n",
              "  </tbody>\n",
              "</table>\n",
              "</div>"
            ],
            "text/plain": [
              "              IDHM       IDHM_E       IDHM_L       IDHM_R\n",
              "count  5565.000000  5565.000000  5565.000000  5565.000000\n",
              "mean      0.381372     0.178705     0.645658     0.514515\n",
              "std       0.103097     0.091976     0.078733     0.096943\n",
              "min       0.120000     0.010000     0.433000     0.229000\n",
              "25%       0.299000     0.106000     0.587000     0.435000\n",
              "50%       0.382000     0.168000     0.658000     0.518000\n",
              "75%       0.463000     0.245000     0.710000     0.590000\n",
              "max       0.697000     0.557000     0.810000     0.803000"
            ]
          },
          "metadata": {
            "tags": []
          },
          "execution_count": 9
        }
      ]
    },
    {
      "cell_type": "code",
      "metadata": {
        "id": "hzUoGjHS0kR-",
        "colab_type": "code",
        "outputId": "c85acdbe-07f3-4391-cfc9-da1263bcdba9",
        "colab": {
          "base_uri": "https://localhost:8080/",
          "height": 282
        }
      },
      "source": [
        "dfIDH_1991['IDHM'].hist(bins=50)"
      ],
      "execution_count": 10,
      "outputs": [
        {
          "output_type": "execute_result",
          "data": {
            "text/plain": [
              "<matplotlib.axes._subplots.AxesSubplot at 0x7fe6b4c1b1d0>"
            ]
          },
          "metadata": {
            "tags": []
          },
          "execution_count": 10
        },
        {
          "output_type": "display_data",
          "data": {
            "image/png": "[encoded data removed]",
            "text/plain": [
              "<Figure size 432x288 with 1 Axes>"
            ]
          },
          "metadata": {
            "tags": [],
            "needs_background": "light"
          }
        }
      ]
    },
    {
      "cell_type": "code",
      "metadata": {
        "id": "WrNmSZJC08J3",
        "colab_type": "code",
        "outputId": "f9ce16f5-d983-400d-d596-6440f0dbc89d",
        "colab": {
          "base_uri": "https://localhost:8080/",
          "height": 282
        }
      },
      "source": [
        "dfIDH_1991['IDHM_L'].hist(bins=50)"
      ],
      "execution_count": 11,
      "outputs": [
        {
          "output_type": "execute_result",
          "data": {
            "text/plain": [
              "<matplotlib.axes._subplots.AxesSubplot at 0x7fe6b4b14e48>"
            ]
          },
          "metadata": {
            "tags": []
          },
          "execution_count": 11
        },
        {
          "output_type": "display_data",
          "data": {
            "image/png": "[encoded data removed]",
            "text/plain": [
              "<Figure size 432x288 with 1 Axes>"
            ]
          },
          "metadata": {
            "tags": [],
            "needs_background": "light"
          }
        }
      ]
    },
    {
      "cell_type": "code",
      "metadata": {
        "id": "ZjGER3GK1J0D",
        "colab_type": "code",
        "outputId": "cd85fbce-cca9-494e-efcb-405fa0884039",
        "colab": {
          "base_uri": "https://localhost:8080/",
          "height": 282
        }
      },
      "source": [
        "dfIDH_1991['RDPC'].hist(bins=50) # Renda per capita"
      ],
      "execution_count": 12,
      "outputs": [
        {
          "output_type": "execute_result",
          "data": {
            "text/plain": [
              "<matplotlib.axes._subplots.AxesSubplot at 0x7fe6b4589a20>"
            ]
          },
          "metadata": {
            "tags": []
          },
          "execution_count": 12
        },
        {
          "output_type": "display_data",
          "data": {
            "image/png": "[encoded data removed]",
            "text/plain": [
              "<Figure size 432x288 with 1 Axes>"
            ]
          },
          "metadata": {
            "tags": [],
            "needs_background": "light"
          }
        }
      ]
    },
    {
      "cell_type": "code",
      "metadata": {
        "id": "NcljBZ912YI0",
        "colab_type": "code",
        "outputId": "7f287cb3-fdba-41e0-8a53-19e86714ee5f",
        "colab": {
          "base_uri": "https://localhost:8080/",
          "height": 204
        }
      },
      "source": [
        "dfIDH_1991[['RDPC','IDHM', 'IDHM_E', 'IDHM_L', 'IDHM_R']].corr()"
      ],
      "execution_count": 13,
      "outputs": [
        {
          "output_type": "execute_result",
          "data": {
            "text/html": [
              "<div>\n",
              "<style scoped>\n",
              "    .dataframe tbody tr th:only-of-type {\n",
              "        vertical-align: middle;\n",
              "    }\n",
              "\n",
              "    .dataframe tbody tr th {\n",
              "        vertical-align: top;\n",
              "    }\n",
              "\n",
              "    .dataframe thead th {\n",
              "        text-align: right;\n",
              "    }\n",
              "</style>\n",
              "<table border=\"1\" class=\"dataframe\">\n",
              "  <thead>\n",
              "    <tr style=\"text-align: right;\">\n",
              "      <th></th>\n",
              "      <th>RDPC</th>\n",
              "      <th>IDHM</th>\n",
              "      <th>IDHM_E</th>\n",
              "      <th>IDHM_L</th>\n",
              "      <th>IDHM_R</th>\n",
              "    </tr>\n",
              "  </thead>\n",
              "  <tbody>\n",
              "    <tr>\n",
              "      <th>RDPC</th>\n",
              "      <td>1.000000</td>\n",
              "      <td>0.851182</td>\n",
              "      <td>0.791423</td>\n",
              "      <td>0.710204</td>\n",
              "      <td>0.943227</td>\n",
              "    </tr>\n",
              "    <tr>\n",
              "      <th>IDHM</th>\n",
              "      <td>0.851182</td>\n",
              "      <td>1.000000</td>\n",
              "      <td>0.968659</td>\n",
              "      <td>0.801583</td>\n",
              "      <td>0.897720</td>\n",
              "    </tr>\n",
              "    <tr>\n",
              "      <th>IDHM_E</th>\n",
              "      <td>0.791423</td>\n",
              "      <td>0.968659</td>\n",
              "      <td>1.000000</td>\n",
              "      <td>0.684742</td>\n",
              "      <td>0.802412</td>\n",
              "    </tr>\n",
              "    <tr>\n",
              "      <th>IDHM_L</th>\n",
              "      <td>0.710204</td>\n",
              "      <td>0.801583</td>\n",
              "      <td>0.684742</td>\n",
              "      <td>1.000000</td>\n",
              "      <td>0.789020</td>\n",
              "    </tr>\n",
              "    <tr>\n",
              "      <th>IDHM_R</th>\n",
              "      <td>0.943227</td>\n",
              "      <td>0.897720</td>\n",
              "      <td>0.802412</td>\n",
              "      <td>0.789020</td>\n",
              "      <td>1.000000</td>\n",
              "    </tr>\n",
              "  </tbody>\n",
              "</table>\n",
              "</div>"
            ],
            "text/plain": [
              "            RDPC      IDHM    IDHM_E    IDHM_L    IDHM_R\n",
              "RDPC    1.000000  0.851182  0.791423  0.710204  0.943227\n",
              "IDHM    0.851182  1.000000  0.968659  0.801583  0.897720\n",
              "IDHM_E  0.791423  0.968659  1.000000  0.684742  0.802412\n",
              "IDHM_L  0.710204  0.801583  0.684742  1.000000  0.789020\n",
              "IDHM_R  0.943227  0.897720  0.802412  0.789020  1.000000"
            ]
          },
          "metadata": {
            "tags": []
          },
          "execution_count": 13
        }
      ]
    },
    {
      "cell_type": "code",
      "metadata": {
        "id": "jiefuB7I2gRJ",
        "colab_type": "code",
        "outputId": "4088c866-6fda-4ae3-a228-14dd602be40b",
        "colab": {
          "base_uri": "https://localhost:8080/",
          "height": 204
        }
      },
      "source": [
        "dfIDH_2000[['RDPC','IDHM', 'IDHM_E', 'IDHM_L', 'IDHM_R']].corr()"
      ],
      "execution_count": 14,
      "outputs": [
        {
          "output_type": "execute_result",
          "data": {
            "text/html": [
              "<div>\n",
              "<style scoped>\n",
              "    .dataframe tbody tr th:only-of-type {\n",
              "        vertical-align: middle;\n",
              "    }\n",
              "\n",
              "    .dataframe tbody tr th {\n",
              "        vertical-align: top;\n",
              "    }\n",
              "\n",
              "    .dataframe thead th {\n",
              "        text-align: right;\n",
              "    }\n",
              "</style>\n",
              "<table border=\"1\" class=\"dataframe\">\n",
              "  <thead>\n",
              "    <tr style=\"text-align: right;\">\n",
              "      <th></th>\n",
              "      <th>RDPC</th>\n",
              "      <th>IDHM</th>\n",
              "      <th>IDHM_E</th>\n",
              "      <th>IDHM_L</th>\n",
              "      <th>IDHM_R</th>\n",
              "    </tr>\n",
              "  </thead>\n",
              "  <tbody>\n",
              "    <tr>\n",
              "      <th>RDPC</th>\n",
              "      <td>1.000000</td>\n",
              "      <td>0.878620</td>\n",
              "      <td>0.815036</td>\n",
              "      <td>0.773219</td>\n",
              "      <td>0.948658</td>\n",
              "    </tr>\n",
              "    <tr>\n",
              "      <th>IDHM</th>\n",
              "      <td>0.878620</td>\n",
              "      <td>1.000000</td>\n",
              "      <td>0.975847</td>\n",
              "      <td>0.870053</td>\n",
              "      <td>0.929387</td>\n",
              "    </tr>\n",
              "    <tr>\n",
              "      <th>IDHM_E</th>\n",
              "      <td>0.815036</td>\n",
              "      <td>0.975847</td>\n",
              "      <td>1.000000</td>\n",
              "      <td>0.782391</td>\n",
              "      <td>0.846917</td>\n",
              "    </tr>\n",
              "    <tr>\n",
              "      <th>IDHM_L</th>\n",
              "      <td>0.773219</td>\n",
              "      <td>0.870053</td>\n",
              "      <td>0.782391</td>\n",
              "      <td>1.000000</td>\n",
              "      <td>0.836550</td>\n",
              "    </tr>\n",
              "    <tr>\n",
              "      <th>IDHM_R</th>\n",
              "      <td>0.948658</td>\n",
              "      <td>0.929387</td>\n",
              "      <td>0.846917</td>\n",
              "      <td>0.836550</td>\n",
              "      <td>1.000000</td>\n",
              "    </tr>\n",
              "  </tbody>\n",
              "</table>\n",
              "</div>"
            ],
            "text/plain": [
              "            RDPC      IDHM    IDHM_E    IDHM_L    IDHM_R\n",
              "RDPC    1.000000  0.878620  0.815036  0.773219  0.948658\n",
              "IDHM    0.878620  1.000000  0.975847  0.870053  0.929387\n",
              "IDHM_E  0.815036  0.975847  1.000000  0.782391  0.846917\n",
              "IDHM_L  0.773219  0.870053  0.782391  1.000000  0.836550\n",
              "IDHM_R  0.948658  0.929387  0.846917  0.836550  1.000000"
            ]
          },
          "metadata": {
            "tags": []
          },
          "execution_count": 14
        }
      ]
    },
    {
      "cell_type": "code",
      "metadata": {
        "id": "kJDVw80e79zc",
        "colab_type": "code",
        "outputId": "43307212-bd68-44a1-c369-9bb87c1cad42",
        "colab": {
          "base_uri": "https://localhost:8080/",
          "height": 204
        }
      },
      "source": [
        "dfIDH_2010[['RDPC','IDHM', 'IDHM_E', 'IDHM_L', 'IDHM_R']].corr()"
      ],
      "execution_count": 15,
      "outputs": [
        {
          "output_type": "execute_result",
          "data": {
            "text/html": [
              "<div>\n",
              "<style scoped>\n",
              "    .dataframe tbody tr th:only-of-type {\n",
              "        vertical-align: middle;\n",
              "    }\n",
              "\n",
              "    .dataframe tbody tr th {\n",
              "        vertical-align: top;\n",
              "    }\n",
              "\n",
              "    .dataframe thead th {\n",
              "        text-align: right;\n",
              "    }\n",
              "</style>\n",
              "<table border=\"1\" class=\"dataframe\">\n",
              "  <thead>\n",
              "    <tr style=\"text-align: right;\">\n",
              "      <th></th>\n",
              "      <th>RDPC</th>\n",
              "      <th>IDHM</th>\n",
              "      <th>IDHM_E</th>\n",
              "      <th>IDHM_L</th>\n",
              "      <th>IDHM_R</th>\n",
              "    </tr>\n",
              "  </thead>\n",
              "  <tbody>\n",
              "    <tr>\n",
              "      <th>RDPC</th>\n",
              "      <td>1.000000</td>\n",
              "      <td>0.907988</td>\n",
              "      <td>0.791389</td>\n",
              "      <td>0.784216</td>\n",
              "      <td>0.961664</td>\n",
              "    </tr>\n",
              "    <tr>\n",
              "      <th>IDHM</th>\n",
              "      <td>0.907988</td>\n",
              "      <td>1.000000</td>\n",
              "      <td>0.950875</td>\n",
              "      <td>0.852149</td>\n",
              "      <td>0.948321</td>\n",
              "    </tr>\n",
              "    <tr>\n",
              "      <th>IDHM_E</th>\n",
              "      <td>0.791389</td>\n",
              "      <td>0.950875</td>\n",
              "      <td>1.000000</td>\n",
              "      <td>0.704460</td>\n",
              "      <td>0.819628</td>\n",
              "    </tr>\n",
              "    <tr>\n",
              "      <th>IDHM_L</th>\n",
              "      <td>0.784216</td>\n",
              "      <td>0.852149</td>\n",
              "      <td>0.704460</td>\n",
              "      <td>1.000000</td>\n",
              "      <td>0.833867</td>\n",
              "    </tr>\n",
              "    <tr>\n",
              "      <th>IDHM_R</th>\n",
              "      <td>0.961664</td>\n",
              "      <td>0.948321</td>\n",
              "      <td>0.819628</td>\n",
              "      <td>0.833867</td>\n",
              "      <td>1.000000</td>\n",
              "    </tr>\n",
              "  </tbody>\n",
              "</table>\n",
              "</div>"
            ],
            "text/plain": [
              "            RDPC      IDHM    IDHM_E    IDHM_L    IDHM_R\n",
              "RDPC    1.000000  0.907988  0.791389  0.784216  0.961664\n",
              "IDHM    0.907988  1.000000  0.950875  0.852149  0.948321\n",
              "IDHM_E  0.791389  0.950875  1.000000  0.704460  0.819628\n",
              "IDHM_L  0.784216  0.852149  0.704460  1.000000  0.833867\n",
              "IDHM_R  0.961664  0.948321  0.819628  0.833867  1.000000"
            ]
          },
          "metadata": {
            "tags": []
          },
          "execution_count": 15
        }
      ]
    },
    {
      "cell_type": "markdown",
      "metadata": {
        "id": "xHT1OItX8eaa",
        "colab_type": "text"
      },
      "source": [
        "## 5.1 Explorando o Índice Desenvolvimento Humano Municipal"
      ]
    },
    {
      "cell_type": "code",
      "metadata": {
        "id": "U06iwdhi8DmZ",
        "colab_type": "code",
        "outputId": "fd81e9cd-b78b-4d7e-91b8-91ffd0e30619",
        "colab": {
          "base_uri": "https://localhost:8080/",
          "height": 170
        }
      },
      "source": [
        "dfIDH_2000.IDHM.describe()"
      ],
      "execution_count": 16,
      "outputs": [
        {
          "output_type": "execute_result",
          "data": {
            "text/plain": [
              "count    5565.000000\n",
              "mean        0.523481\n",
              "std         0.104396\n",
              "min         0.208000\n",
              "25%         0.436000\n",
              "50%         0.533000\n",
              "75%         0.609000\n",
              "max         0.820000\n",
              "Name: IDHM, dtype: float64"
            ]
          },
          "metadata": {
            "tags": []
          },
          "execution_count": 16
        }
      ]
    },
    {
      "cell_type": "markdown",
      "metadata": {
        "id": "kKazo9ZH-DED",
        "colab_type": "text"
      },
      "source": [
        "## <font color = 'red'> 75% dos IDHM estão concentrados entre **0.436** e **0.609** "
      ]
    },
    {
      "cell_type": "code",
      "metadata": {
        "id": "J89mzJAg3x5H",
        "colab_type": "code",
        "outputId": "9d7d62cc-2944-408b-e8f3-0b905d75e93e",
        "colab": {
          "base_uri": "https://localhost:8080/",
          "height": 437
        }
      },
      "source": [
        "sns.set(style='whitegrid')\n",
        "ax = sns.boxplot(data=dfIDH_2000, x='IDHM', width=0.8, linewidth=1.5,palette=\"Set3\")\n",
        "ax.figure.set_size_inches(12,6)\n",
        "ax.set_title('Box plot', fontsize=20)\n",
        "ax.set_xlabel('Índice de Desenvolvimento Humano Municipal - IDHM', fontsize=16)\n",
        "ax"
      ],
      "execution_count": 17,
      "outputs": [
        {
          "output_type": "execute_result",
          "data": {
            "text/plain": [
              "<matplotlib.axes._subplots.AxesSubplot at 0x7fe6b4589b38>"
            ]
          },
          "metadata": {
            "tags": []
          },
          "execution_count": 17
        },
        {
          "output_type": "display_data",
          "data": {
            "image/png": "[encoded data removed]",
            "text/plain": [
              "<Figure size 864x432 with 1 Axes>"
            ]
          },
          "metadata": {
            "tags": []
          }
        }
      ]
    },
    {
      "cell_type": "markdown",
      "metadata": {
        "id": "RnnsWqyT8zCq",
        "colab_type": "text"
      },
      "source": [
        "### <font color=green> Parece que os dados seguem quase uma distribuição normal. </font> \n",
        "\n",
        "<font color=blue> Quando vai chegando ao índice 0.500, vai diminuindo as frequências. Só que depois do 0.500, as frequências vão aumentando  </font>"
      ]
    },
    {
      "cell_type": "code",
      "metadata": {
        "id": "bkrBpnNZ4Btb",
        "colab_type": "code",
        "outputId": "4f9d2f28-1bbe-44e6-a4a9-78b52f11f018",
        "colab": {
          "base_uri": "https://localhost:8080/",
          "height": 440
        }
      },
      "source": [
        "ax = sns.distplot(a=dfIDH_2000.IDHM, bins = 60)\n",
        "ax.figure.set_size_inches(12,6)\n",
        "ax.set_title('Distribuição do Índice de Desenvolvimento Humano Municipal no ano de 2000', fontsize=20)\n",
        "ax.set_xlabel('Índice de Desenvolvimento Humano Municipal - IDHM', fontsize=16)"
      ],
      "execution_count": 18,
      "outputs": [
        {
          "output_type": "execute_result",
          "data": {
            "text/plain": [
              "Text(0.5, 0, 'Índice de Desenvolvimento Humano Municipal - IDHM')"
            ]
          },
          "metadata": {
            "tags": []
          },
          "execution_count": 18
        },
        {
          "output_type": "display_data",
          "data": {
            "image/png": "[encoded data removed]",
            "text/plain": [
              "<Figure size 864x432 with 1 Axes>"
            ]
          },
          "metadata": {
            "tags": []
          }
        }
      ]
    },
    {
      "cell_type": "code",
      "metadata": {
        "id": "18vhOj5t4gRi",
        "colab_type": "code",
        "colab": {}
      },
      "source": [
        ""
      ],
      "execution_count": 0,
      "outputs": []
    },
    {
      "cell_type": "markdown",
      "metadata": {
        "id": "DgAQo4fI-hXj",
        "colab_type": "text"
      },
      "source": [
        "## 5.2 Explorando Renda per Capita (RDPC)"
      ]
    },
    {
      "cell_type": "code",
      "metadata": {
        "id": "zUvQccvi-kYc",
        "colab_type": "code",
        "outputId": "afc0e7b9-501c-4bc6-c44c-c7495db3e11c",
        "colab": {
          "base_uri": "https://localhost:8080/",
          "height": 170
        }
      },
      "source": [
        "dfIDH_2000.RDPC.describe()"
      ],
      "execution_count": 19,
      "outputs": [
        {
          "output_type": "execute_result",
          "data": {
            "text/plain": [
              "count    5565.000000\n",
              "mean      338.542322\n",
              "std       192.443425\n",
              "min        62.650000\n",
              "25%       173.490000\n",
              "50%       308.580000\n",
              "75%       463.200000\n",
              "max      1759.760000\n",
              "Name: RDPC, dtype: float64"
            ]
          },
          "metadata": {
            "tags": []
          },
          "execution_count": 19
        }
      ]
    },
    {
      "cell_type": "markdown",
      "metadata": {
        "id": "nqRG5Y47AMz9",
        "colab_type": "text"
      },
      "source": [
        "## <font color = 'red'> Justamente por ser uma variável de renda, é esperado que a concentração da Renda per Capita esteja nos menores valores. </font>\n",
        "\n",
        "<font color = 'blue'> Vou analisar as Rendas Per Capitas que aparecem como \"OutSiders\" </color>"
      ]
    },
    {
      "cell_type": "code",
      "metadata": {
        "id": "uFXIi_HU-t99",
        "colab_type": "code",
        "outputId": "65c31ca3-9ff4-4676-8650-7159f28cf4a4",
        "colab": {
          "base_uri": "https://localhost:8080/",
          "height": 434
        }
      },
      "source": [
        "sns.set(style='whitegrid')\n",
        "ax = sns.boxplot(data=dfIDH_2000, x='RDPC', width=0.8, linewidth=1.5,palette=\"Set3\")\n",
        "ax.figure.set_size_inches(12,6)\n",
        "ax.set_title('Box plot de Renda per Capita dos municípios no ano de 2000', fontsize=20)\n",
        "ax.set_xlabel('Renda per Capita - RDPC em R$', fontsize=16)\n",
        "ax"
      ],
      "execution_count": 20,
      "outputs": [
        {
          "output_type": "execute_result",
          "data": {
            "text/plain": [
              "<matplotlib.axes._subplots.AxesSubplot at 0x7fe6b4362f98>"
            ]
          },
          "metadata": {
            "tags": []
          },
          "execution_count": 20
        },
        {
          "output_type": "display_data",
          "data": {
            "image/png": "[encoded data removed]",
            "text/plain": [
              "<Figure size 864x432 with 1 Axes>"
            ]
          },
          "metadata": {
            "tags": []
          }
        }
      ]
    },
    {
      "cell_type": "markdown",
      "metadata": {
        "id": "8kP4paE8A-Il",
        "colab_type": "text"
      },
      "source": [
        "### <font color = 'red'> Como disse no comentário acima, é esperado que o gráfico esteja com a distribuição maior do lado esquerdo. Justamente por ser distribuição de Renda Per Capita </font>"
      ]
    },
    {
      "cell_type": "code",
      "metadata": {
        "id": "nJ2oFmME_Y0K",
        "colab_type": "code",
        "outputId": "e3b366ad-e44b-4246-e274-cb4f0acb48ae",
        "colab": {
          "base_uri": "https://localhost:8080/",
          "height": 434
        }
      },
      "source": [
        "ax = sns.distplot(a=dfIDH_2000.RDPC, bins = 60)\n",
        "ax.figure.set_size_inches(12,6)\n",
        "ax.set_title('Distribuição da Renda per Capita em 2000', fontsize=20)\n",
        "ax.set_xlabel('Renda per Capita - RDPC em (R$)', fontsize=16)"
      ],
      "execution_count": 21,
      "outputs": [
        {
          "output_type": "execute_result",
          "data": {
            "text/plain": [
              "Text(0.5, 0, 'Renda per Capita - RDPC em (R$)')"
            ]
          },
          "metadata": {
            "tags": []
          },
          "execution_count": 21
        },
        {
          "output_type": "display_data",
          "data": {
            "image/png": "[encoded data removed]",
            "text/plain": [
              "<Figure size 864x432 with 1 Axes>"
            ]
          },
          "metadata": {
            "tags": []
          }
        }
      ]
    },
    {
      "cell_type": "markdown",
      "metadata": {
        "id": "2bZnvWCuUIHD",
        "colab_type": "text"
      },
      "source": [
        "### <font color = 'red'> Analisando as maiores rendas per capita. Não consegui tirar nenhum conclusão além do óbvio: S]ao cidades com uma ótima infra-estrutura  </font>"
      ]
    },
    {
      "cell_type": "code",
      "metadata": {
        "id": "hqEbc15c_xgB",
        "colab_type": "code",
        "outputId": "7d557eaf-b62e-4561-9927-59ba6fccc17a",
        "colab": {
          "base_uri": "https://localhost:8080/",
          "height": 447
        }
      },
      "source": [
        "colunas = ['Município','ESPVIDA','MORT1','RDPC','RDPC5','R2040','IDHM','IDHM_E', 'IDHM_L','IDHM_R', 'PRENTRAB','pesotot','T_AGUA','AGUA_ESGOTO','REN0',\n",
        "           'REN1','REN2','REN3','PMPOB']\n",
        "dfIDH_2000[colunas].sort_values(by='RDPC', ascending=False).head(10)  "
      ],
      "execution_count": 30,
      "outputs": [
        {
          "output_type": "execute_result",
          "data": {
            "text/html": [
              "<div>\n",
              "<style scoped>\n",
              "    .dataframe tbody tr th:only-of-type {\n",
              "        vertical-align: middle;\n",
              "    }\n",
              "\n",
              "    .dataframe tbody tr th {\n",
              "        vertical-align: top;\n",
              "    }\n",
              "\n",
              "    .dataframe thead th {\n",
              "        text-align: right;\n",
              "    }\n",
              "</style>\n",
              "<table border=\"1\" class=\"dataframe\">\n",
              "  <thead>\n",
              "    <tr style=\"text-align: right;\">\n",
              "      <th></th>\n",
              "      <th>Município</th>\n",
              "      <th>ESPVIDA</th>\n",
              "      <th>MORT1</th>\n",
              "      <th>RDPC</th>\n",
              "      <th>RDPC5</th>\n",
              "      <th>R2040</th>\n",
              "      <th>IDHM</th>\n",
              "      <th>IDHM_E</th>\n",
              "      <th>IDHM_L</th>\n",
              "      <th>IDHM_R</th>\n",
              "      <th>PRENTRAB</th>\n",
              "      <th>pesotot</th>\n",
              "      <th>T_AGUA</th>\n",
              "      <th>AGUA_ESGOTO</th>\n",
              "      <th>REN0</th>\n",
              "      <th>REN1</th>\n",
              "      <th>REN2</th>\n",
              "      <th>REN3</th>\n",
              "      <th>PMPOB</th>\n",
              "    </tr>\n",
              "  </thead>\n",
              "  <tbody>\n",
              "    <tr>\n",
              "      <th>3272</th>\n",
              "      <td>ÁGUAS DE SÃO PEDRO</td>\n",
              "      <td>77.18</td>\n",
              "      <td>11.40</td>\n",
              "      <td>1759.76</td>\n",
              "      <td>5380.11</td>\n",
              "      <td>15.71</td>\n",
              "      <td>0.791</td>\n",
              "      <td>0.657</td>\n",
              "      <td>0.870</td>\n",
              "      <td>0.867</td>\n",
              "      <td>62.48</td>\n",
              "      <td>1883</td>\n",
              "      <td>100.00</td>\n",
              "      <td>0.00</td>\n",
              "      <td>2.89</td>\n",
              "      <td>19.67</td>\n",
              "      <td>52.18</td>\n",
              "      <td>62.37</td>\n",
              "      <td>0.70</td>\n",
              "    </tr>\n",
              "    <tr>\n",
              "      <th>3811</th>\n",
              "      <td>SÃO CAETANO DO SUL</td>\n",
              "      <td>77.18</td>\n",
              "      <td>11.40</td>\n",
              "      <td>1639.93</td>\n",
              "      <td>4502.58</td>\n",
              "      <td>9.32</td>\n",
              "      <td>0.820</td>\n",
              "      <td>0.740</td>\n",
              "      <td>0.870</td>\n",
              "      <td>0.855</td>\n",
              "      <td>81.10</td>\n",
              "      <td>140159</td>\n",
              "      <td>99.36</td>\n",
              "      <td>0.00</td>\n",
              "      <td>1.31</td>\n",
              "      <td>8.44</td>\n",
              "      <td>33.33</td>\n",
              "      <td>44.98</td>\n",
              "      <td>1.38</td>\n",
              "    </tr>\n",
              "    <tr>\n",
              "      <th>3221</th>\n",
              "      <td>NITERÓI</td>\n",
              "      <td>72.26</td>\n",
              "      <td>14.04</td>\n",
              "      <td>1596.51</td>\n",
              "      <td>4871.07</td>\n",
              "      <td>16.80</td>\n",
              "      <td>0.771</td>\n",
              "      <td>0.684</td>\n",
              "      <td>0.788</td>\n",
              "      <td>0.851</td>\n",
              "      <td>67.53</td>\n",
              "      <td>459451</td>\n",
              "      <td>87.83</td>\n",
              "      <td>3.72</td>\n",
              "      <td>1.51</td>\n",
              "      <td>21.28</td>\n",
              "      <td>46.81</td>\n",
              "      <td>56.54</td>\n",
              "      <td>6.60</td>\n",
              "    </tr>\n",
              "    <tr>\n",
              "      <th>3794</th>\n",
              "      <td>SANTANA DE PARNAÍBA</td>\n",
              "      <td>73.29</td>\n",
              "      <td>17.40</td>\n",
              "      <td>1565.51</td>\n",
              "      <td>6064.71</td>\n",
              "      <td>32.53</td>\n",
              "      <td>0.713</td>\n",
              "      <td>0.530</td>\n",
              "      <td>0.805</td>\n",
              "      <td>0.848</td>\n",
              "      <td>84.07</td>\n",
              "      <td>74828</td>\n",
              "      <td>90.62</td>\n",
              "      <td>4.20</td>\n",
              "      <td>1.33</td>\n",
              "      <td>16.67</td>\n",
              "      <td>55.74</td>\n",
              "      <td>64.53</td>\n",
              "      <td>11.53</td>\n",
              "    </tr>\n",
              "    <tr>\n",
              "      <th>4336</th>\n",
              "      <td>BALNEÁRIO CAMBORIÚ</td>\n",
              "      <td>74.76</td>\n",
              "      <td>15.47</td>\n",
              "      <td>1563.49</td>\n",
              "      <td>5526.50</td>\n",
              "      <td>20.05</td>\n",
              "      <td>0.777</td>\n",
              "      <td>0.668</td>\n",
              "      <td>0.829</td>\n",
              "      <td>0.848</td>\n",
              "      <td>55.85</td>\n",
              "      <td>73455</td>\n",
              "      <td>99.24</td>\n",
              "      <td>0.68</td>\n",
              "      <td>2.16</td>\n",
              "      <td>18.50</td>\n",
              "      <td>55.66</td>\n",
              "      <td>66.47</td>\n",
              "      <td>6.63</td>\n",
              "    </tr>\n",
              "    <tr>\n",
              "      <th>3808</th>\n",
              "      <td>SANTOS</td>\n",
              "      <td>73.58</td>\n",
              "      <td>16.88</td>\n",
              "      <td>1441.86</td>\n",
              "      <td>4116.02</td>\n",
              "      <td>10.98</td>\n",
              "      <td>0.785</td>\n",
              "      <td>0.714</td>\n",
              "      <td>0.810</td>\n",
              "      <td>0.835</td>\n",
              "      <td>69.03</td>\n",
              "      <td>417983</td>\n",
              "      <td>98.76</td>\n",
              "      <td>0.14</td>\n",
              "      <td>1.39</td>\n",
              "      <td>13.72</td>\n",
              "      <td>42.60</td>\n",
              "      <td>54.51</td>\n",
              "      <td>3.49</td>\n",
              "    </tr>\n",
              "    <tr>\n",
              "      <th>4927</th>\n",
              "      <td>PORTO ALEGRE</td>\n",
              "      <td>73.65</td>\n",
              "      <td>16.04</td>\n",
              "      <td>1399.50</td>\n",
              "      <td>4449.41</td>\n",
              "      <td>17.45</td>\n",
              "      <td>0.744</td>\n",
              "      <td>0.612</td>\n",
              "      <td>0.811</td>\n",
              "      <td>0.830</td>\n",
              "      <td>71.52</td>\n",
              "      <td>1360590</td>\n",
              "      <td>97.39</td>\n",
              "      <td>1.02</td>\n",
              "      <td>1.47</td>\n",
              "      <td>20.22</td>\n",
              "      <td>49.72</td>\n",
              "      <td>60.41</td>\n",
              "      <td>8.49</td>\n",
              "    </tr>\n",
              "    <tr>\n",
              "      <th>4397</th>\n",
              "      <td>FLORIANÓPOLIS</td>\n",
              "      <td>74.35</td>\n",
              "      <td>18.26</td>\n",
              "      <td>1383.78</td>\n",
              "      <td>4154.77</td>\n",
              "      <td>13.85</td>\n",
              "      <td>0.766</td>\n",
              "      <td>0.660</td>\n",
              "      <td>0.823</td>\n",
              "      <td>0.828</td>\n",
              "      <td>70.53</td>\n",
              "      <td>342695</td>\n",
              "      <td>96.21</td>\n",
              "      <td>0.52</td>\n",
              "      <td>1.42</td>\n",
              "      <td>17.16</td>\n",
              "      <td>48.32</td>\n",
              "      <td>59.51</td>\n",
              "      <td>5.31</td>\n",
              "    </tr>\n",
              "    <tr>\n",
              "      <th>3173</th>\n",
              "      <td>VITÓRIA</td>\n",
              "      <td>70.74</td>\n",
              "      <td>26.73</td>\n",
              "      <td>1315.63</td>\n",
              "      <td>4154.64</td>\n",
              "      <td>18.93</td>\n",
              "      <td>0.759</td>\n",
              "      <td>0.700</td>\n",
              "      <td>0.762</td>\n",
              "      <td>0.820</td>\n",
              "      <td>73.51</td>\n",
              "      <td>292944</td>\n",
              "      <td>97.42</td>\n",
              "      <td>0.15</td>\n",
              "      <td>1.45</td>\n",
              "      <td>26.56</td>\n",
              "      <td>52.51</td>\n",
              "      <td>61.21</td>\n",
              "      <td>10.30</td>\n",
              "    </tr>\n",
              "    <tr>\n",
              "      <th>3902</th>\n",
              "      <td>VINHEDO</td>\n",
              "      <td>74.67</td>\n",
              "      <td>15.10</td>\n",
              "      <td>1235.29</td>\n",
              "      <td>3744.62</td>\n",
              "      <td>11.18</td>\n",
              "      <td>0.749</td>\n",
              "      <td>0.626</td>\n",
              "      <td>0.828</td>\n",
              "      <td>0.810</td>\n",
              "      <td>83.90</td>\n",
              "      <td>47215</td>\n",
              "      <td>98.97</td>\n",
              "      <td>0.04</td>\n",
              "      <td>0.96</td>\n",
              "      <td>12.88</td>\n",
              "      <td>49.35</td>\n",
              "      <td>63.67</td>\n",
              "      <td>3.93</td>\n",
              "    </tr>\n",
              "  </tbody>\n",
              "</table>\n",
              "</div>"
            ],
            "text/plain": [
              "                Município  ESPVIDA  MORT1     RDPC  ...   REN1   REN2   REN3  PMPOB\n",
              "3272   ÁGUAS DE SÃO PEDRO    77.18  11.40  1759.76  ...  19.67  52.18  62.37   0.70\n",
              "3811   SÃO CAETANO DO SUL    77.18  11.40  1639.93  ...   8.44  33.33  44.98   1.38\n",
              "3221              NITERÓI    72.26  14.04  1596.51  ...  21.28  46.81  56.54   6.60\n",
              "3794  SANTANA DE PARNAÍBA    73.29  17.40  1565.51  ...  16.67  55.74  64.53  11.53\n",
              "4336   BALNEÁRIO CAMBORIÚ    74.76  15.47  1563.49  ...  18.50  55.66  66.47   6.63\n",
              "3808               SANTOS    73.58  16.88  1441.86  ...  13.72  42.60  54.51   3.49\n",
              "4927         PORTO ALEGRE    73.65  16.04  1399.50  ...  20.22  49.72  60.41   8.49\n",
              "4397        FLORIANÓPOLIS    74.35  18.26  1383.78  ...  17.16  48.32  59.51   5.31\n",
              "3173              VITÓRIA    70.74  26.73  1315.63  ...  26.56  52.51  61.21  10.30\n",
              "3902              VINHEDO    74.67  15.10  1235.29  ...  12.88  49.35  63.67   3.93\n",
              "\n",
              "[10 rows x 19 columns]"
            ]
          },
          "metadata": {
            "tags": []
          },
          "execution_count": 30
        }
      ]
    },
    {
      "cell_type": "code",
      "metadata": {
        "id": "ZMxUtu1PCiyJ",
        "colab_type": "code",
        "outputId": "531c1235-c4a8-43df-d68e-e6d217630b93",
        "colab": {
          "base_uri": "https://localhost:8080/",
          "height": 351
        }
      },
      "source": [
        "dfIDH_2000[colunas].sample(n = 8, random_state = 25454)"
      ],
      "execution_count": 24,
      "outputs": [
        {
          "output_type": "execute_result",
          "data": {
            "text/html": [
              "<div>\n",
              "<style scoped>\n",
              "    .dataframe tbody tr th:only-of-type {\n",
              "        vertical-align: middle;\n",
              "    }\n",
              "\n",
              "    .dataframe tbody tr th {\n",
              "        vertical-align: top;\n",
              "    }\n",
              "\n",
              "    .dataframe thead th {\n",
              "        text-align: right;\n",
              "    }\n",
              "</style>\n",
              "<table border=\"1\" class=\"dataframe\">\n",
              "  <thead>\n",
              "    <tr style=\"text-align: right;\">\n",
              "      <th></th>\n",
              "      <th>Município</th>\n",
              "      <th>ESPVIDA</th>\n",
              "      <th>MORT1</th>\n",
              "      <th>RDPC</th>\n",
              "      <th>RDPC5</th>\n",
              "      <th>R2040</th>\n",
              "      <th>IDHM</th>\n",
              "      <th>IDHM_E</th>\n",
              "      <th>IDHM_L</th>\n",
              "      <th>IDHM_R</th>\n",
              "      <th>PRENTRAB</th>\n",
              "      <th>pesotot</th>\n",
              "      <th>T_AGUA</th>\n",
              "      <th>AGUA_ESGOTO</th>\n",
              "      <th>REN0</th>\n",
              "      <th>REN1</th>\n",
              "      <th>REN2</th>\n",
              "      <th>REN3</th>\n",
              "      <th>PMPOB</th>\n",
              "    </tr>\n",
              "  </thead>\n",
              "  <tbody>\n",
              "    <tr>\n",
              "      <th>918</th>\n",
              "      <td>BELA CRUZ</td>\n",
              "      <td>62.24</td>\n",
              "      <td>63.28</td>\n",
              "      <td>124.25</td>\n",
              "      <td>352.85</td>\n",
              "      <td>11.84</td>\n",
              "      <td>0.406</td>\n",
              "      <td>0.244</td>\n",
              "      <td>0.621</td>\n",
              "      <td>0.441</td>\n",
              "      <td>67.77</td>\n",
              "      <td>28358</td>\n",
              "      <td>28.39</td>\n",
              "      <td>31.07</td>\n",
              "      <td>13.53</td>\n",
              "      <td>89.32</td>\n",
              "      <td>95.75</td>\n",
              "      <td>97.22</td>\n",
              "      <td>74.07</td>\n",
              "    </tr>\n",
              "    <tr>\n",
              "      <th>2177</th>\n",
              "      <td>SÃO DESIDÉRIO</td>\n",
              "      <td>64.30</td>\n",
              "      <td>44.73</td>\n",
              "      <td>163.73</td>\n",
              "      <td>462.30</td>\n",
              "      <td>14.22</td>\n",
              "      <td>0.398</td>\n",
              "      <td>0.199</td>\n",
              "      <td>0.655</td>\n",
              "      <td>0.485</td>\n",
              "      <td>73.38</td>\n",
              "      <td>19325</td>\n",
              "      <td>47.32</td>\n",
              "      <td>4.58</td>\n",
              "      <td>7.73</td>\n",
              "      <td>68.34</td>\n",
              "      <td>92.54</td>\n",
              "      <td>96.92</td>\n",
              "      <td>60.62</td>\n",
              "    </tr>\n",
              "    <tr>\n",
              "      <th>5482</th>\n",
              "      <td>NOVA VENEZA</td>\n",
              "      <td>68.82</td>\n",
              "      <td>29.70</td>\n",
              "      <td>320.19</td>\n",
              "      <td>840.64</td>\n",
              "      <td>7.61</td>\n",
              "      <td>0.549</td>\n",
              "      <td>0.382</td>\n",
              "      <td>0.730</td>\n",
              "      <td>0.593</td>\n",
              "      <td>81.09</td>\n",
              "      <td>6414</td>\n",
              "      <td>94.31</td>\n",
              "      <td>1.59</td>\n",
              "      <td>4.63</td>\n",
              "      <td>63.69</td>\n",
              "      <td>89.11</td>\n",
              "      <td>93.45</td>\n",
              "      <td>26.21</td>\n",
              "    </tr>\n",
              "    <tr>\n",
              "      <th>1863</th>\n",
              "      <td>BARRA DO ROCHA</td>\n",
              "      <td>59.20</td>\n",
              "      <td>65.00</td>\n",
              "      <td>162.51</td>\n",
              "      <td>496.03</td>\n",
              "      <td>10.98</td>\n",
              "      <td>0.386</td>\n",
              "      <td>0.208</td>\n",
              "      <td>0.570</td>\n",
              "      <td>0.484</td>\n",
              "      <td>78.95</td>\n",
              "      <td>8302</td>\n",
              "      <td>35.68</td>\n",
              "      <td>24.73</td>\n",
              "      <td>2.44</td>\n",
              "      <td>83.26</td>\n",
              "      <td>94.65</td>\n",
              "      <td>96.57</td>\n",
              "      <td>70.07</td>\n",
              "    </tr>\n",
              "    <tr>\n",
              "      <th>1513</th>\n",
              "      <td>CHÃ GRANDE</td>\n",
              "      <td>65.84</td>\n",
              "      <td>54.20</td>\n",
              "      <td>190.04</td>\n",
              "      <td>486.38</td>\n",
              "      <td>7.32</td>\n",
              "      <td>0.427</td>\n",
              "      <td>0.224</td>\n",
              "      <td>0.681</td>\n",
              "      <td>0.509</td>\n",
              "      <td>72.61</td>\n",
              "      <td>18407</td>\n",
              "      <td>49.51</td>\n",
              "      <td>21.41</td>\n",
              "      <td>8.80</td>\n",
              "      <td>81.17</td>\n",
              "      <td>93.62</td>\n",
              "      <td>95.57</td>\n",
              "      <td>51.97</td>\n",
              "    </tr>\n",
              "    <tr>\n",
              "      <th>3885</th>\n",
              "      <td>TURMALINA</td>\n",
              "      <td>71.95</td>\n",
              "      <td>19.70</td>\n",
              "      <td>391.28</td>\n",
              "      <td>991.00</td>\n",
              "      <td>6.86</td>\n",
              "      <td>0.653</td>\n",
              "      <td>0.568</td>\n",
              "      <td>0.783</td>\n",
              "      <td>0.625</td>\n",
              "      <td>80.40</td>\n",
              "      <td>2366</td>\n",
              "      <td>99.21</td>\n",
              "      <td>0.00</td>\n",
              "      <td>6.18</td>\n",
              "      <td>51.64</td>\n",
              "      <td>80.18</td>\n",
              "      <td>87.83</td>\n",
              "      <td>15.81</td>\n",
              "    </tr>\n",
              "    <tr>\n",
              "      <th>3679</th>\n",
              "      <td>PEDERNEIRAS</td>\n",
              "      <td>72.58</td>\n",
              "      <td>18.60</td>\n",
              "      <td>519.74</td>\n",
              "      <td>1451.64</td>\n",
              "      <td>8.75</td>\n",
              "      <td>0.663</td>\n",
              "      <td>0.548</td>\n",
              "      <td>0.793</td>\n",
              "      <td>0.671</td>\n",
              "      <td>78.07</td>\n",
              "      <td>36614</td>\n",
              "      <td>97.56</td>\n",
              "      <td>0.09</td>\n",
              "      <td>1.02</td>\n",
              "      <td>35.48</td>\n",
              "      <td>72.80</td>\n",
              "      <td>81.11</td>\n",
              "      <td>12.07</td>\n",
              "    </tr>\n",
              "    <tr>\n",
              "      <th>3277</th>\n",
              "      <td>ALTINÓPOLIS</td>\n",
              "      <td>73.55</td>\n",
              "      <td>16.90</td>\n",
              "      <td>772.55</td>\n",
              "      <td>2662.55</td>\n",
              "      <td>15.09</td>\n",
              "      <td>0.658</td>\n",
              "      <td>0.479</td>\n",
              "      <td>0.809</td>\n",
              "      <td>0.734</td>\n",
              "      <td>85.02</td>\n",
              "      <td>15481</td>\n",
              "      <td>99.70</td>\n",
              "      <td>0.11</td>\n",
              "      <td>0.98</td>\n",
              "      <td>39.09</td>\n",
              "      <td>75.90</td>\n",
              "      <td>84.36</td>\n",
              "      <td>11.34</td>\n",
              "    </tr>\n",
              "  </tbody>\n",
              "</table>\n",
              "</div>"
            ],
            "text/plain": [
              "           Município  ESPVIDA  MORT1    RDPC  ...   REN1   REN2   REN3  PMPOB\n",
              "918        BELA CRUZ    62.24  63.28  124.25  ...  89.32  95.75  97.22  74.07\n",
              "2177   SÃO DESIDÉRIO    64.30  44.73  163.73  ...  68.34  92.54  96.92  60.62\n",
              "5482     NOVA VENEZA    68.82  29.70  320.19  ...  63.69  89.11  93.45  26.21\n",
              "1863  BARRA DO ROCHA    59.20  65.00  162.51  ...  83.26  94.65  96.57  70.07\n",
              "1513      CHÃ GRANDE    65.84  54.20  190.04  ...  81.17  93.62  95.57  51.97\n",
              "3885       TURMALINA    71.95  19.70  391.28  ...  51.64  80.18  87.83  15.81\n",
              "3679     PEDERNEIRAS    72.58  18.60  519.74  ...  35.48  72.80  81.11  12.07\n",
              "3277     ALTINÓPOLIS    73.55  16.90  772.55  ...  39.09  75.90  84.36  11.34\n",
              "\n",
              "[8 rows x 19 columns]"
            ]
          },
          "metadata": {
            "tags": []
          },
          "execution_count": 24
        }
      ]
    },
    {
      "cell_type": "markdown",
      "metadata": {
        "id": "sJytdvJuVCNQ",
        "colab_type": "text"
      },
      "source": [
        "## 5.3 Analisando correlações das variáveis"
      ]
    },
    {
      "cell_type": "code",
      "metadata": {
        "id": "qZQWpkpbVUxE",
        "colab_type": "code",
        "colab": {}
      },
      "source": [
        "colunas = ['Município','ESPVIDA','MORT1','RDPC','RDPC5','R2040','IDHM','IDHM_E', 'IDHM_L','IDHM_R', 'PRENTRAB','pesotot','T_AGUA','AGUA_ESGOTO','REN0',\n",
        "           'REN1','REN2','REN3','PMPOB']"
      ],
      "execution_count": 0,
      "outputs": []
    },
    {
      "cell_type": "code",
      "metadata": {
        "id": "AKBha_veDZ1f",
        "colab_type": "code",
        "colab": {}
      },
      "source": [
        "#dfIDH_2000[colunas].corr()"
      ],
      "execution_count": 0,
      "outputs": []
    },
    {
      "cell_type": "markdown",
      "metadata": {
        "id": "vA-2Q9FSX5ps",
        "colab_type": "text"
      },
      "source": [
        "## <font color = 'blue'> Aqui na Reta de Regressão fica bem evidente que a partir de 800 R$ de renda per capita, a ***esperança de vida*** tende a ter uma correlação bem fraca com a ***Renda per Capita*** </font>"
      ]
    },
    {
      "cell_type": "code",
      "metadata": {
        "id": "UFijkRzUGsRq",
        "colab_type": "code",
        "colab": {
          "base_uri": "https://localhost:8080/",
          "height": 467
        },
        "outputId": "21ead22a-0a44-4ecc-fbf3-6baaea61cd56"
      },
      "source": [
        "ax = sns.lmplot(data=dfIDH_2000,x='RDPC', y='ESPVIDA')\n",
        "ax.fig.set_size_inches(12, 6)\n",
        "ax.fig.suptitle('Reta de Regressão - Renda per Capita X Esperança de Vida ao nascer', fontsize=16, y=1.02)\n",
        "ax.set_xlabels(\"Renda per Capita - RDPC em (R$)\", fontsize=14)\n",
        "ax.set_ylabels(\"Esperança de Vida ao nascer (em anos)\", fontsize=14)"
      ],
      "execution_count": 41,
      "outputs": [
        {
          "output_type": "execute_result",
          "data": {
            "text/plain": [
              "<seaborn.axisgrid.FacetGrid at 0x7fe6afa4b358>"
            ]
          },
          "metadata": {
            "tags": []
          },
          "execution_count": 41
        },
        {
          "output_type": "display_data",
          "data": {
            "image/png": "[encoded data removed]",
            "text/plain": [
              "<Figure size 864x432 with 1 Axes>"
            ]
          },
          "metadata": {
            "tags": []
          }
        }
      ]
    },
    {
      "cell_type": "markdown",
      "metadata": {
        "id": "3xACF828ZbKE",
        "colab_type": "text"
      },
      "source": [
        "\n",
        "\n",
        "> ## <font color = 'blue'> Aqui na Reta de Regressão fica bem evidente que a partir de 650 R$ de renda per capita, a ***Mortalidade Infantil até 1 ano*** tende a ter uma correlação bem fraca com a ***Renda per Capita*** </font>\n",
        "\n",
        "**Mortalidade Infantil até 1 ano -> quantidade de crianças até 1 ano que não deverão sobreviver a cada 1000 crianças nascidas vivas**\n"
      ]
    },
    {
      "cell_type": "code",
      "metadata": {
        "id": "22foYvDhX4Z2",
        "colab_type": "code",
        "colab": {
          "base_uri": "https://localhost:8080/",
          "height": 467
        },
        "outputId": "81ef09da-560e-4bd2-bd45-ada8e283fd2e"
      },
      "source": [
        "ax = sns.lmplot(data=dfIDH_2000,x='RDPC', y='MORT1')\n",
        "ax.fig.set_size_inches(12, 6)\n",
        "ax.fig.suptitle('Reta de Regressão - Renda per Capita X Mortalidade infantil até um ano', fontsize=16, y=1.02)\n",
        "ax.set_xlabels(\"Renda per Capita - RDPC em (R$)\", fontsize=14)\n",
        "ax.set_ylabels(\"Mortalidade infantil até um ano (a cada 1000 crianças)\", fontsize=14)"
      ],
      "execution_count": 44,
      "outputs": [
        {
          "output_type": "execute_result",
          "data": {
            "text/plain": [
              "<seaborn.axisgrid.FacetGrid at 0x7fe6af9526d8>"
            ]
          },
          "metadata": {
            "tags": []
          },
          "execution_count": 44
        },
        {
          "output_type": "display_data",
          "data": {
            "image/png": "[encoded data removed]",
            "text/plain": [
              "<Figure size 864x432 with 1 Axes>"
            ]
          },
          "metadata": {
            "tags": []
          }
        }
      ]
    },
    {
      "cell_type": "code",
      "metadata": {
        "id": "5LvaugPFSeVS",
        "colab_type": "code",
        "colab": {
          "base_uri": "https://localhost:8080/",
          "height": 190
        },
        "outputId": "db6e6a36-74bd-4934-e53b-6960d264e105"
      },
      "source": [
        "dfIDH_2000[colunas].sort_values(by='R2040', ascending=False).head(4)  "
      ],
      "execution_count": 29,
      "outputs": [
        {
          "output_type": "execute_result",
          "data": {
            "text/html": [
              "<div>\n",
              "<style scoped>\n",
              "    .dataframe tbody tr th:only-of-type {\n",
              "        vertical-align: middle;\n",
              "    }\n",
              "\n",
              "    .dataframe tbody tr th {\n",
              "        vertical-align: top;\n",
              "    }\n",
              "\n",
              "    .dataframe thead th {\n",
              "        text-align: right;\n",
              "    }\n",
              "</style>\n",
              "<table border=\"1\" class=\"dataframe\">\n",
              "  <thead>\n",
              "    <tr style=\"text-align: right;\">\n",
              "      <th></th>\n",
              "      <th>Município</th>\n",
              "      <th>ESPVIDA</th>\n",
              "      <th>MORT1</th>\n",
              "      <th>RDPC</th>\n",
              "      <th>RDPC5</th>\n",
              "      <th>R2040</th>\n",
              "      <th>IDHM</th>\n",
              "      <th>IDHM_E</th>\n",
              "      <th>IDHM_L</th>\n",
              "      <th>IDHM_R</th>\n",
              "      <th>PRENTRAB</th>\n",
              "      <th>pesotot</th>\n",
              "      <th>T_AGUA</th>\n",
              "      <th>AGUA_ESGOTO</th>\n",
              "      <th>REN0</th>\n",
              "      <th>REN1</th>\n",
              "      <th>REN2</th>\n",
              "      <th>REN3</th>\n",
              "      <th>PMPOB</th>\n",
              "    </tr>\n",
              "  </thead>\n",
              "  <tbody>\n",
              "    <tr>\n",
              "      <th>2330</th>\n",
              "      <td>Bonito de Minas</td>\n",
              "      <td>65.35</td>\n",
              "      <td>44.61</td>\n",
              "      <td>85.69</td>\n",
              "      <td>302.29</td>\n",
              "      <td>7891.53</td>\n",
              "      <td>0.336</td>\n",
              "      <td>0.148</td>\n",
              "      <td>0.673</td>\n",
              "      <td>0.381</td>\n",
              "      <td>58.77</td>\n",
              "      <td>7863</td>\n",
              "      <td>21.22</td>\n",
              "      <td>3.83</td>\n",
              "      <td>70.31</td>\n",
              "      <td>90.82</td>\n",
              "      <td>97.32</td>\n",
              "      <td>98.27</td>\n",
              "      <td>81.07</td>\n",
              "    </tr>\n",
              "    <tr>\n",
              "      <th>107</th>\n",
              "      <td>JUTAÍ</td>\n",
              "      <td>64.21</td>\n",
              "      <td>50.40</td>\n",
              "      <td>119.48</td>\n",
              "      <td>480.28</td>\n",
              "      <td>4297.56</td>\n",
              "      <td>0.304</td>\n",
              "      <td>0.099</td>\n",
              "      <td>0.654</td>\n",
              "      <td>0.434</td>\n",
              "      <td>86.05</td>\n",
              "      <td>22500</td>\n",
              "      <td>17.54</td>\n",
              "      <td>30.20</td>\n",
              "      <td>39.65</td>\n",
              "      <td>77.83</td>\n",
              "      <td>92.54</td>\n",
              "      <td>96.42</td>\n",
              "      <td>82.81</td>\n",
              "    </tr>\n",
              "    <tr>\n",
              "      <th>1594</th>\n",
              "      <td>QUIXABA</td>\n",
              "      <td>61.78</td>\n",
              "      <td>73.83</td>\n",
              "      <td>106.26</td>\n",
              "      <td>378.85</td>\n",
              "      <td>1331.63</td>\n",
              "      <td>0.394</td>\n",
              "      <td>0.240</td>\n",
              "      <td>0.613</td>\n",
              "      <td>0.416</td>\n",
              "      <td>47.87</td>\n",
              "      <td>6855</td>\n",
              "      <td>34.16</td>\n",
              "      <td>5.85</td>\n",
              "      <td>73.90</td>\n",
              "      <td>91.49</td>\n",
              "      <td>96.46</td>\n",
              "      <td>99.03</td>\n",
              "      <td>74.12</td>\n",
              "    </tr>\n",
              "    <tr>\n",
              "      <th>2072</th>\n",
              "      <td>MANSIDÃO</td>\n",
              "      <td>66.81</td>\n",
              "      <td>36.30</td>\n",
              "      <td>88.61</td>\n",
              "      <td>303.23</td>\n",
              "      <td>940.23</td>\n",
              "      <td>0.389</td>\n",
              "      <td>0.218</td>\n",
              "      <td>0.697</td>\n",
              "      <td>0.386</td>\n",
              "      <td>55.07</td>\n",
              "      <td>11902</td>\n",
              "      <td>17.23</td>\n",
              "      <td>10.17</td>\n",
              "      <td>46.97</td>\n",
              "      <td>84.81</td>\n",
              "      <td>95.18</td>\n",
              "      <td>97.75</td>\n",
              "      <td>78.81</td>\n",
              "    </tr>\n",
              "  </tbody>\n",
              "</table>\n",
              "</div>"
            ],
            "text/plain": [
              "            Município  ESPVIDA  MORT1    RDPC  ...   REN1   REN2   REN3  PMPOB\n",
              "2330  Bonito de Minas    65.35  44.61   85.69  ...  90.82  97.32  98.27  81.07\n",
              "107             JUTAÍ    64.21  50.40  119.48  ...  77.83  92.54  96.42  82.81\n",
              "1594          QUIXABA    61.78  73.83  106.26  ...  91.49  96.46  99.03  74.12\n",
              "2072         MANSIDÃO    66.81  36.30   88.61  ...  84.81  95.18  97.75  78.81\n",
              "\n",
              "[4 rows x 19 columns]"
            ]
          },
          "metadata": {
            "tags": []
          },
          "execution_count": 29
        }
      ]
    },
    {
      "cell_type": "code",
      "metadata": {
        "id": "Js1yaW2lSlMk",
        "colab_type": "code",
        "colab": {}
      },
      "source": [
        ""
      ],
      "execution_count": 0,
      "outputs": []
    }
  ]
}
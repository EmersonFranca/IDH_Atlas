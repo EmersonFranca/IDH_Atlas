{
  "nbformat": 4,
  "nbformat_minor": 0,
  "metadata": {
    "colab": {
      "name": "1 Analise Exploratoria.ipynb",
      "provenance": [],
      "authorship_tag": "ABX9TyOOchzFutZzMewwGvylvkxg",
      "include_colab_link": true
    },
    "kernelspec": {
      "name": "python3",
      "display_name": "Python 3"
    }
  },
  "cells": [
    {
      "cell_type": "markdown",
      "metadata": {
        "id": "view-in-github",
        "colab_type": "text"
      },
      "source": [
        "<a href=\"https://colab.research.google.com/github/EmersonFranca/IDH_Atlas/blob/master/Analise_Exploratoria/1_Analise_Exploratoria.ipynb\" target=\"_parent\"><img src=\"https://colab.research.google.com/assets/colab-badge.svg\" alt=\"Open In Colab\"/></a>"
      ]
    },
    {
      "cell_type": "markdown",
      "metadata": {
        "id": "OPjPkFy652St",
        "colab_type": "text"
      },
      "source": [
        "# 1. Importando bibliotecas"
      ]
    },
    {
      "cell_type": "code",
      "metadata": {
        "id": "m-MErDYB5TKu",
        "colab_type": "code",
        "outputId": "5af623d3-1b2a-4295-b37a-8c705181e689",
        "colab": {
          "base_uri": "https://localhost:8080/",
          "height": 71
        }
      },
      "source": [
        "import pandas as pd\n",
        "import numpy as np\n",
        "import seaborn as sns\n",
        "import matplotlib.pyplot as plt"
      ],
      "execution_count": 1,
      "outputs": [
        {
          "output_type": "stream",
          "text": [
            "/usr/local/lib/python3.6/dist-packages/statsmodels/tools/_testing.py:19: FutureWarning: pandas.util.testing is deprecated. Use the functions in the public API at pandas.testing instead.\n",
            "  import pandas.util.testing as tm\n"
          ],
          "name": "stderr"
        }
      ]
    },
    {
      "cell_type": "markdown",
      "metadata": {
        "id": "UiEJFeS159_s",
        "colab_type": "text"
      },
      "source": [
        "# 2. Versões das bibliotecas importadas"
      ]
    },
    {
      "cell_type": "code",
      "metadata": {
        "id": "vs0pijWG51ck",
        "colab_type": "code",
        "outputId": "95345d2d-9cf1-447e-d384-b69458e9697e",
        "colab": {
          "base_uri": "https://localhost:8080/",
          "height": 68
        }
      },
      "source": [
        "print(pd.__version__)\n",
        "print(np.__version__)\n",
        "print(sns.__version__)\n"
      ],
      "execution_count": 2,
      "outputs": [
        {
          "output_type": "stream",
          "text": [
            "1.0.3\n",
            "1.18.4\n",
            "0.10.1\n"
          ],
          "name": "stdout"
        }
      ]
    },
    {
      "cell_type": "markdown",
      "metadata": {
        "id": "QzpvS3WG6WWp",
        "colab_type": "text"
      },
      "source": [
        "# 3. Importando os dados"
      ]
    },
    {
      "cell_type": "code",
      "metadata": {
        "id": "uv6OHjnJ6Ti8",
        "colab_type": "code",
        "colab": {}
      },
      "source": [
        "URL_IDH_1991 = \"https://github.com/EmersonFranca/IDH_Atlas/blob/master/Dados/IDH_1991.csv?raw=true\"\n",
        "URL_IDH_2000 = \"https://github.com/EmersonFranca/IDH_Atlas/blob/master/Dados/IDH_2000.csv?raw=true\"\n",
        "URL_IDH_2010 = \"https://github.com/EmersonFranca/IDH_Atlas/blob/master/Dados/IDH_2010.csv?raw=true\""
      ],
      "execution_count": 0,
      "outputs": []
    },
    {
      "cell_type": "code",
      "metadata": {
        "id": "TAjihqeN626b",
        "colab_type": "code",
        "colab": {}
      },
      "source": [
        "dfIDH_2000 = pd.read_csv(URL_IDH_2000,sep=';')"
      ],
      "execution_count": 0,
      "outputs": []
    },
    {
      "cell_type": "code",
      "metadata": {
        "id": "JKxr2hzH6599",
        "colab_type": "code",
        "outputId": "07c35e6b-6eae-44d8-b6b9-52d0fedf165a",
        "colab": {
          "base_uri": "https://localhost:8080/",
          "height": 287
        }
      },
      "source": [
        "dfIDH_2000.head()"
      ],
      "execution_count": 5,
      "outputs": [
        {
          "output_type": "execute_result",
          "data": {
            "text/html": [
              "<div>\n",
              "<style scoped>\n",
              "    .dataframe tbody tr th:only-of-type {\n",
              "        vertical-align: middle;\n",
              "    }\n",
              "\n",
              "    .dataframe tbody tr th {\n",
              "        vertical-align: top;\n",
              "    }\n",
              "\n",
              "    .dataframe thead th {\n",
              "        text-align: right;\n",
              "    }\n",
              "</style>\n",
              "<table border=\"1\" class=\"dataframe\">\n",
              "  <thead>\n",
              "    <tr style=\"text-align: right;\">\n",
              "      <th></th>\n",
              "      <th>ANO</th>\n",
              "      <th>UF</th>\n",
              "      <th>Codmun6</th>\n",
              "      <th>Codmun7</th>\n",
              "      <th>Município</th>\n",
              "      <th>ESPVIDA</th>\n",
              "      <th>FECTOT</th>\n",
              "      <th>MORT1</th>\n",
              "      <th>MORT5</th>\n",
              "      <th>RAZDEP</th>\n",
              "      <th>SOBRE40</th>\n",
              "      <th>SOBRE60</th>\n",
              "      <th>T_ENV</th>\n",
              "      <th>E_ANOSESTUDO</th>\n",
              "      <th>T_ANALF11A14</th>\n",
              "      <th>T_ANALF15A17</th>\n",
              "      <th>T_ANALF15M</th>\n",
              "      <th>T_ANALF18A24</th>\n",
              "      <th>T_ANALF18M</th>\n",
              "      <th>T_ANALF25A29</th>\n",
              "      <th>T_ANALF25M</th>\n",
              "      <th>T_ATRASO_0_BASICO</th>\n",
              "      <th>T_ATRASO_0_FUND</th>\n",
              "      <th>T_ATRASO_0_MED</th>\n",
              "      <th>T_ATRASO_1_BASICO</th>\n",
              "      <th>T_ATRASO_1_FUND</th>\n",
              "      <th>T_ATRASO_1_MED</th>\n",
              "      <th>T_ATRASO_2_BASICO</th>\n",
              "      <th>T_ATRASO_2_FUND</th>\n",
              "      <th>T_ATRASO_2_MED</th>\n",
              "      <th>T_FBBAS</th>\n",
              "      <th>T_FBFUND</th>\n",
              "      <th>T_FBMED</th>\n",
              "      <th>T_FBPRE</th>\n",
              "      <th>T_FBSUPER</th>\n",
              "      <th>T_FLBAS</th>\n",
              "      <th>T_FLFUND</th>\n",
              "      <th>T_FLMED</th>\n",
              "      <th>T_FLPRE</th>\n",
              "      <th>T_FLSUPER</th>\n",
              "      <th>...</th>\n",
              "      <th>PEA18M</th>\n",
              "      <th>peso1</th>\n",
              "      <th>PESO1114</th>\n",
              "      <th>PESO1113</th>\n",
              "      <th>PESO1214</th>\n",
              "      <th>peso13</th>\n",
              "      <th>PESO15</th>\n",
              "      <th>peso1517</th>\n",
              "      <th>PESO1524</th>\n",
              "      <th>PESO1618</th>\n",
              "      <th>PESO18</th>\n",
              "      <th>Peso1820</th>\n",
              "      <th>PESO1824</th>\n",
              "      <th>Peso1921</th>\n",
              "      <th>PESO25</th>\n",
              "      <th>peso4</th>\n",
              "      <th>peso5</th>\n",
              "      <th>peso6</th>\n",
              "      <th>PESO610</th>\n",
              "      <th>Peso617</th>\n",
              "      <th>PESO65</th>\n",
              "      <th>PESOM1014</th>\n",
              "      <th>PESOM1517</th>\n",
              "      <th>PESOM15M</th>\n",
              "      <th>PESOM25M</th>\n",
              "      <th>pesoRUR</th>\n",
              "      <th>pesotot</th>\n",
              "      <th>pesourb</th>\n",
              "      <th>PIA</th>\n",
              "      <th>PIA1014</th>\n",
              "      <th>PIA1517</th>\n",
              "      <th>PIA18M</th>\n",
              "      <th>POP</th>\n",
              "      <th>POPT</th>\n",
              "      <th>I_ESCOLARIDADE</th>\n",
              "      <th>I_FREQ_PROP</th>\n",
              "      <th>IDHM</th>\n",
              "      <th>IDHM_E</th>\n",
              "      <th>IDHM_L</th>\n",
              "      <th>IDHM_R</th>\n",
              "    </tr>\n",
              "  </thead>\n",
              "  <tbody>\n",
              "    <tr>\n",
              "      <th>0</th>\n",
              "      <td>2000</td>\n",
              "      <td>11</td>\n",
              "      <td>110001</td>\n",
              "      <td>1100015</td>\n",
              "      <td>ALTA FLORESTA D'OESTE</td>\n",
              "      <td>66.90</td>\n",
              "      <td>3.11</td>\n",
              "      <td>28.36</td>\n",
              "      <td>33.96</td>\n",
              "      <td>61.65</td>\n",
              "      <td>89.61</td>\n",
              "      <td>75.40</td>\n",
              "      <td>3.35</td>\n",
              "      <td>7.76</td>\n",
              "      <td>2.32</td>\n",
              "      <td>2.60</td>\n",
              "      <td>15.84</td>\n",
              "      <td>4.11</td>\n",
              "      <td>17.42</td>\n",
              "      <td>6.37</td>\n",
              "      <td>21.54</td>\n",
              "      <td>49.82</td>\n",
              "      <td>54.43</td>\n",
              "      <td>62.62</td>\n",
              "      <td>25.57</td>\n",
              "      <td>26.10</td>\n",
              "      <td>34.18</td>\n",
              "      <td>24.62</td>\n",
              "      <td>19.47</td>\n",
              "      <td>3.21</td>\n",
              "      <td>85.50</td>\n",
              "      <td>99.90</td>\n",
              "      <td>40.47</td>\n",
              "      <td>9.63</td>\n",
              "      <td>5.19</td>\n",
              "      <td>76.88</td>\n",
              "      <td>85.59</td>\n",
              "      <td>18.01</td>\n",
              "      <td>9.63</td>\n",
              "      <td>2.22</td>\n",
              "      <td>...</td>\n",
              "      <td>10724</td>\n",
              "      <td>515</td>\n",
              "      <td>2453</td>\n",
              "      <td>1899</td>\n",
              "      <td>1780</td>\n",
              "      <td>1747</td>\n",
              "      <td>17300</td>\n",
              "      <td>1848</td>\n",
              "      <td>5502</td>\n",
              "      <td>1793</td>\n",
              "      <td>15458</td>\n",
              "      <td>1699</td>\n",
              "      <td>3654</td>\n",
              "      <td>1588</td>\n",
              "      <td>11802</td>\n",
              "      <td>606</td>\n",
              "      <td>655</td>\n",
              "      <td>634</td>\n",
              "      <td>3251</td>\n",
              "      <td>7552</td>\n",
              "      <td>890</td>\n",
              "      <td>1532</td>\n",
              "      <td>895</td>\n",
              "      <td>8123</td>\n",
              "      <td>5437</td>\n",
              "      <td>14192</td>\n",
              "      <td>26533</td>\n",
              "      <td>12341</td>\n",
              "      <td>20346</td>\n",
              "      <td>3040</td>\n",
              "      <td>1830</td>\n",
              "      <td>15476</td>\n",
              "      <td>25920</td>\n",
              "      <td>24888</td>\n",
              "      <td>0.195</td>\n",
              "      <td>0.303</td>\n",
              "      <td>0.483</td>\n",
              "      <td>0.262</td>\n",
              "      <td>0.698</td>\n",
              "      <td>0.617</td>\n",
              "    </tr>\n",
              "    <tr>\n",
              "      <th>1</th>\n",
              "      <td>2000</td>\n",
              "      <td>11</td>\n",
              "      <td>110002</td>\n",
              "      <td>1100023</td>\n",
              "      <td>ARIQUEMES</td>\n",
              "      <td>69.52</td>\n",
              "      <td>2.77</td>\n",
              "      <td>21.68</td>\n",
              "      <td>25.99</td>\n",
              "      <td>59.88</td>\n",
              "      <td>91.91</td>\n",
              "      <td>80.15</td>\n",
              "      <td>2.92</td>\n",
              "      <td>7.61</td>\n",
              "      <td>2.64</td>\n",
              "      <td>2.52</td>\n",
              "      <td>11.77</td>\n",
              "      <td>3.57</td>\n",
              "      <td>12.81</td>\n",
              "      <td>5.28</td>\n",
              "      <td>15.76</td>\n",
              "      <td>52.48</td>\n",
              "      <td>58.38</td>\n",
              "      <td>54.89</td>\n",
              "      <td>21.16</td>\n",
              "      <td>21.67</td>\n",
              "      <td>24.89</td>\n",
              "      <td>26.35</td>\n",
              "      <td>19.96</td>\n",
              "      <td>20.22</td>\n",
              "      <td>65.70</td>\n",
              "      <td>76.08</td>\n",
              "      <td>34.92</td>\n",
              "      <td>20.81</td>\n",
              "      <td>6.57</td>\n",
              "      <td>55.27</td>\n",
              "      <td>61.64</td>\n",
              "      <td>13.88</td>\n",
              "      <td>18.93</td>\n",
              "      <td>2.03</td>\n",
              "      <td>...</td>\n",
              "      <td>29999</td>\n",
              "      <td>1784</td>\n",
              "      <td>6771</td>\n",
              "      <td>5112</td>\n",
              "      <td>5027</td>\n",
              "      <td>5075</td>\n",
              "      <td>48771</td>\n",
              "      <td>4922</td>\n",
              "      <td>15534</td>\n",
              "      <td>5040</td>\n",
              "      <td>43857</td>\n",
              "      <td>4812</td>\n",
              "      <td>10612</td>\n",
              "      <td>4550</td>\n",
              "      <td>33238</td>\n",
              "      <td>1816</td>\n",
              "      <td>1840</td>\n",
              "      <td>1720</td>\n",
              "      <td>8438</td>\n",
              "      <td>20131</td>\n",
              "      <td>2178</td>\n",
              "      <td>4206</td>\n",
              "      <td>2527</td>\n",
              "      <td>23904</td>\n",
              "      <td>16013</td>\n",
              "      <td>19385</td>\n",
              "      <td>74503</td>\n",
              "      <td>55118</td>\n",
              "      <td>57064</td>\n",
              "      <td>8285</td>\n",
              "      <td>5190</td>\n",
              "      <td>43589</td>\n",
              "      <td>71789</td>\n",
              "      <td>69829</td>\n",
              "      <td>0.314</td>\n",
              "      <td>0.358</td>\n",
              "      <td>0.556</td>\n",
              "      <td>0.343</td>\n",
              "      <td>0.742</td>\n",
              "      <td>0.674</td>\n",
              "    </tr>\n",
              "    <tr>\n",
              "      <th>2</th>\n",
              "      <td>2000</td>\n",
              "      <td>11</td>\n",
              "      <td>110003</td>\n",
              "      <td>1100031</td>\n",
              "      <td>CABIXI</td>\n",
              "      <td>65.62</td>\n",
              "      <td>2.95</td>\n",
              "      <td>31.99</td>\n",
              "      <td>38.27</td>\n",
              "      <td>60.81</td>\n",
              "      <td>88.40</td>\n",
              "      <td>73.03</td>\n",
              "      <td>4.56</td>\n",
              "      <td>8.02</td>\n",
              "      <td>3.24</td>\n",
              "      <td>2.46</td>\n",
              "      <td>17.50</td>\n",
              "      <td>2.99</td>\n",
              "      <td>19.42</td>\n",
              "      <td>5.31</td>\n",
              "      <td>23.80</td>\n",
              "      <td>46.67</td>\n",
              "      <td>53.61</td>\n",
              "      <td>53.44</td>\n",
              "      <td>23.55</td>\n",
              "      <td>24.82</td>\n",
              "      <td>29.98</td>\n",
              "      <td>29.79</td>\n",
              "      <td>21.57</td>\n",
              "      <td>16.58</td>\n",
              "      <td>87.72</td>\n",
              "      <td>108.11</td>\n",
              "      <td>35.20</td>\n",
              "      <td>35.97</td>\n",
              "      <td>8.50</td>\n",
              "      <td>78.95</td>\n",
              "      <td>87.31</td>\n",
              "      <td>18.52</td>\n",
              "      <td>31.32</td>\n",
              "      <td>0.00</td>\n",
              "      <td>...</td>\n",
              "      <td>2780</td>\n",
              "      <td>153</td>\n",
              "      <td>771</td>\n",
              "      <td>572</td>\n",
              "      <td>581</td>\n",
              "      <td>462</td>\n",
              "      <td>5018</td>\n",
              "      <td>570</td>\n",
              "      <td>1506</td>\n",
              "      <td>551</td>\n",
              "      <td>4448</td>\n",
              "      <td>449</td>\n",
              "      <td>936</td>\n",
              "      <td>412</td>\n",
              "      <td>3512</td>\n",
              "      <td>139</td>\n",
              "      <td>172</td>\n",
              "      <td>157</td>\n",
              "      <td>803</td>\n",
              "      <td>2144</td>\n",
              "      <td>343</td>\n",
              "      <td>451</td>\n",
              "      <td>277</td>\n",
              "      <td>2318</td>\n",
              "      <td>1601</td>\n",
              "      <td>4846</td>\n",
              "      <td>7518</td>\n",
              "      <td>2672</td>\n",
              "      <td>5945</td>\n",
              "      <td>927</td>\n",
              "      <td>591</td>\n",
              "      <td>4427</td>\n",
              "      <td>7474</td>\n",
              "      <td>7076</td>\n",
              "      <td>0.177</td>\n",
              "      <td>0.359</td>\n",
              "      <td>0.488</td>\n",
              "      <td>0.284</td>\n",
              "      <td>0.677</td>\n",
              "      <td>0.604</td>\n",
              "    </tr>\n",
              "    <tr>\n",
              "      <th>3</th>\n",
              "      <td>2000</td>\n",
              "      <td>11</td>\n",
              "      <td>110004</td>\n",
              "      <td>1100049</td>\n",
              "      <td>CACOAL</td>\n",
              "      <td>69.70</td>\n",
              "      <td>2.34</td>\n",
              "      <td>21.27</td>\n",
              "      <td>25.50</td>\n",
              "      <td>57.28</td>\n",
              "      <td>92.05</td>\n",
              "      <td>80.46</td>\n",
              "      <td>3.82</td>\n",
              "      <td>8.25</td>\n",
              "      <td>1.63</td>\n",
              "      <td>1.90</td>\n",
              "      <td>12.14</td>\n",
              "      <td>2.59</td>\n",
              "      <td>13.24</td>\n",
              "      <td>4.64</td>\n",
              "      <td>16.56</td>\n",
              "      <td>52.51</td>\n",
              "      <td>57.85</td>\n",
              "      <td>64.69</td>\n",
              "      <td>22.44</td>\n",
              "      <td>23.23</td>\n",
              "      <td>28.79</td>\n",
              "      <td>25.05</td>\n",
              "      <td>18.92</td>\n",
              "      <td>6.52</td>\n",
              "      <td>89.49</td>\n",
              "      <td>104.49</td>\n",
              "      <td>44.25</td>\n",
              "      <td>23.62</td>\n",
              "      <td>8.75</td>\n",
              "      <td>79.88</td>\n",
              "      <td>87.28</td>\n",
              "      <td>23.27</td>\n",
              "      <td>22.64</td>\n",
              "      <td>3.78</td>\n",
              "      <td>...</td>\n",
              "      <td>30480</td>\n",
              "      <td>1431</td>\n",
              "      <td>6691</td>\n",
              "      <td>5032</td>\n",
              "      <td>5015</td>\n",
              "      <td>4574</td>\n",
              "      <td>49586</td>\n",
              "      <td>4839</td>\n",
              "      <td>15456</td>\n",
              "      <td>4944</td>\n",
              "      <td>44752</td>\n",
              "      <td>4893</td>\n",
              "      <td>10617</td>\n",
              "      <td>4689</td>\n",
              "      <td>34132</td>\n",
              "      <td>1572</td>\n",
              "      <td>1615</td>\n",
              "      <td>1670</td>\n",
              "      <td>8094</td>\n",
              "      <td>19624</td>\n",
              "      <td>2813</td>\n",
              "      <td>4135</td>\n",
              "      <td>2361</td>\n",
              "      <td>24582</td>\n",
              "      <td>16848</td>\n",
              "      <td>22170</td>\n",
              "      <td>73568</td>\n",
              "      <td>51398</td>\n",
              "      <td>57913</td>\n",
              "      <td>8322</td>\n",
              "      <td>4926</td>\n",
              "      <td>44665</td>\n",
              "      <td>73104</td>\n",
              "      <td>71703</td>\n",
              "      <td>0.310</td>\n",
              "      <td>0.416</td>\n",
              "      <td>0.567</td>\n",
              "      <td>0.377</td>\n",
              "      <td>0.745</td>\n",
              "      <td>0.650</td>\n",
              "    </tr>\n",
              "    <tr>\n",
              "      <th>4</th>\n",
              "      <td>2000</td>\n",
              "      <td>11</td>\n",
              "      <td>110005</td>\n",
              "      <td>1100056</td>\n",
              "      <td>CEREJEIRAS</td>\n",
              "      <td>67.22</td>\n",
              "      <td>2.44</td>\n",
              "      <td>27.50</td>\n",
              "      <td>32.93</td>\n",
              "      <td>59.85</td>\n",
              "      <td>89.90</td>\n",
              "      <td>75.99</td>\n",
              "      <td>4.56</td>\n",
              "      <td>9.13</td>\n",
              "      <td>1.25</td>\n",
              "      <td>1.72</td>\n",
              "      <td>13.90</td>\n",
              "      <td>2.59</td>\n",
              "      <td>15.26</td>\n",
              "      <td>4.22</td>\n",
              "      <td>18.79</td>\n",
              "      <td>56.58</td>\n",
              "      <td>63.87</td>\n",
              "      <td>69.59</td>\n",
              "      <td>19.73</td>\n",
              "      <td>19.47</td>\n",
              "      <td>28.06</td>\n",
              "      <td>23.68</td>\n",
              "      <td>16.66</td>\n",
              "      <td>2.34</td>\n",
              "      <td>94.71</td>\n",
              "      <td>109.38</td>\n",
              "      <td>46.34</td>\n",
              "      <td>15.22</td>\n",
              "      <td>12.34</td>\n",
              "      <td>85.14</td>\n",
              "      <td>89.75</td>\n",
              "      <td>23.26</td>\n",
              "      <td>14.04</td>\n",
              "      <td>5.89</td>\n",
              "      <td>...</td>\n",
              "      <td>7488</td>\n",
              "      <td>332</td>\n",
              "      <td>1758</td>\n",
              "      <td>1303</td>\n",
              "      <td>1326</td>\n",
              "      <td>1091</td>\n",
              "      <td>12220</td>\n",
              "      <td>1223</td>\n",
              "      <td>3619</td>\n",
              "      <td>1201</td>\n",
              "      <td>10997</td>\n",
              "      <td>1102</td>\n",
              "      <td>2396</td>\n",
              "      <td>1041</td>\n",
              "      <td>8601</td>\n",
              "      <td>342</td>\n",
              "      <td>425</td>\n",
              "      <td>416</td>\n",
              "      <td>2039</td>\n",
              "      <td>5020</td>\n",
              "      <td>830</td>\n",
              "      <td>1050</td>\n",
              "      <td>600</td>\n",
              "      <td>5971</td>\n",
              "      <td>4178</td>\n",
              "      <td>3361</td>\n",
              "      <td>18207</td>\n",
              "      <td>14846</td>\n",
              "      <td>14358</td>\n",
              "      <td>2138</td>\n",
              "      <td>1169</td>\n",
              "      <td>11051</td>\n",
              "      <td>18056</td>\n",
              "      <td>17283</td>\n",
              "      <td>0.247</td>\n",
              "      <td>0.395</td>\n",
              "      <td>0.542</td>\n",
              "      <td>0.338</td>\n",
              "      <td>0.704</td>\n",
              "      <td>0.668</td>\n",
              "    </tr>\n",
              "  </tbody>\n",
              "</table>\n",
              "<p>5 rows × 237 columns</p>\n",
              "</div>"
            ],
            "text/plain": [
              "    ANO  UF  Codmun6  Codmun7  ...   IDHM  IDHM_E  IDHM_L  IDHM_R\n",
              "0  2000  11   110001  1100015  ...  0.483   0.262   0.698   0.617\n",
              "1  2000  11   110002  1100023  ...  0.556   0.343   0.742   0.674\n",
              "2  2000  11   110003  1100031  ...  0.488   0.284   0.677   0.604\n",
              "3  2000  11   110004  1100049  ...  0.567   0.377   0.745   0.650\n",
              "4  2000  11   110005  1100056  ...  0.542   0.338   0.704   0.668\n",
              "\n",
              "[5 rows x 237 columns]"
            ]
          },
          "metadata": {
            "tags": []
          },
          "execution_count": 5
        }
      ]
    },
    {
      "cell_type": "markdown",
      "metadata": {
        "id": "4FWQoEzp7JD1",
        "colab_type": "text"
      },
      "source": [
        "# 4. Comparando com os outros anos"
      ]
    },
    {
      "cell_type": "code",
      "metadata": {
        "id": "vl1Qz_1P67qT",
        "colab_type": "code",
        "colab": {}
      },
      "source": [
        "dfIDH_1991 = pd.read_csv(URL_IDH_1991,sep=';')\n",
        "dfIDH_2010 = pd.read_csv(URL_IDH_2010,sep=';')"
      ],
      "execution_count": 0,
      "outputs": []
    },
    {
      "cell_type": "code",
      "metadata": {
        "id": "9A22oa74-NcM",
        "colab_type": "code",
        "colab": {}
      },
      "source": [
        "colunas_idh = ['IDHM', 'IDHM_E', 'IDHM_L', 'IDHM_R']"
      ],
      "execution_count": 0,
      "outputs": []
    },
    {
      "cell_type": "code",
      "metadata": {
        "id": "XfGxXvUp93qm",
        "colab_type": "code",
        "outputId": "a0cf5a10-347b-48a7-852b-de126342e1fb",
        "colab": {
          "base_uri": "https://localhost:8080/",
          "height": 297
        }
      },
      "source": [
        "dfIDH_1991[colunas_idh].describe()"
      ],
      "execution_count": 8,
      "outputs": [
        {
          "output_type": "execute_result",
          "data": {
            "text/html": [
              "<div>\n",
              "<style scoped>\n",
              "    .dataframe tbody tr th:only-of-type {\n",
              "        vertical-align: middle;\n",
              "    }\n",
              "\n",
              "    .dataframe tbody tr th {\n",
              "        vertical-align: top;\n",
              "    }\n",
              "\n",
              "    .dataframe thead th {\n",
              "        text-align: right;\n",
              "    }\n",
              "</style>\n",
              "<table border=\"1\" class=\"dataframe\">\n",
              "  <thead>\n",
              "    <tr style=\"text-align: right;\">\n",
              "      <th></th>\n",
              "      <th>IDHM</th>\n",
              "      <th>IDHM_E</th>\n",
              "      <th>IDHM_L</th>\n",
              "      <th>IDHM_R</th>\n",
              "    </tr>\n",
              "  </thead>\n",
              "  <tbody>\n",
              "    <tr>\n",
              "      <th>count</th>\n",
              "      <td>5565.000000</td>\n",
              "      <td>5565.000000</td>\n",
              "      <td>5565.000000</td>\n",
              "      <td>5565.000000</td>\n",
              "    </tr>\n",
              "    <tr>\n",
              "      <th>mean</th>\n",
              "      <td>0.381372</td>\n",
              "      <td>0.178705</td>\n",
              "      <td>0.645658</td>\n",
              "      <td>0.514515</td>\n",
              "    </tr>\n",
              "    <tr>\n",
              "      <th>std</th>\n",
              "      <td>0.103097</td>\n",
              "      <td>0.091976</td>\n",
              "      <td>0.078733</td>\n",
              "      <td>0.096943</td>\n",
              "    </tr>\n",
              "    <tr>\n",
              "      <th>min</th>\n",
              "      <td>0.120000</td>\n",
              "      <td>0.010000</td>\n",
              "      <td>0.433000</td>\n",
              "      <td>0.229000</td>\n",
              "    </tr>\n",
              "    <tr>\n",
              "      <th>25%</th>\n",
              "      <td>0.299000</td>\n",
              "      <td>0.106000</td>\n",
              "      <td>0.587000</td>\n",
              "      <td>0.435000</td>\n",
              "    </tr>\n",
              "    <tr>\n",
              "      <th>50%</th>\n",
              "      <td>0.382000</td>\n",
              "      <td>0.168000</td>\n",
              "      <td>0.658000</td>\n",
              "      <td>0.518000</td>\n",
              "    </tr>\n",
              "    <tr>\n",
              "      <th>75%</th>\n",
              "      <td>0.463000</td>\n",
              "      <td>0.245000</td>\n",
              "      <td>0.710000</td>\n",
              "      <td>0.590000</td>\n",
              "    </tr>\n",
              "    <tr>\n",
              "      <th>max</th>\n",
              "      <td>0.697000</td>\n",
              "      <td>0.557000</td>\n",
              "      <td>0.810000</td>\n",
              "      <td>0.803000</td>\n",
              "    </tr>\n",
              "  </tbody>\n",
              "</table>\n",
              "</div>"
            ],
            "text/plain": [
              "              IDHM       IDHM_E       IDHM_L       IDHM_R\n",
              "count  5565.000000  5565.000000  5565.000000  5565.000000\n",
              "mean      0.381372     0.178705     0.645658     0.514515\n",
              "std       0.103097     0.091976     0.078733     0.096943\n",
              "min       0.120000     0.010000     0.433000     0.229000\n",
              "25%       0.299000     0.106000     0.587000     0.435000\n",
              "50%       0.382000     0.168000     0.658000     0.518000\n",
              "75%       0.463000     0.245000     0.710000     0.590000\n",
              "max       0.697000     0.557000     0.810000     0.803000"
            ]
          },
          "metadata": {
            "tags": []
          },
          "execution_count": 8
        }
      ]
    },
    {
      "cell_type": "code",
      "metadata": {
        "id": "ILbmuyBrzdgI",
        "colab_type": "code",
        "colab": {}
      },
      "source": [
        ""
      ],
      "execution_count": 0,
      "outputs": []
    },
    {
      "cell_type": "markdown",
      "metadata": {
        "id": "6zDMAsB00hYw",
        "colab_type": "text"
      },
      "source": [
        "# 5. Explorando os dados"
      ]
    },
    {
      "cell_type": "code",
      "metadata": {
        "id": "w-EGgn-k0jzi",
        "colab_type": "code",
        "outputId": "aff26940-97c2-4593-e550-934f90696c22",
        "colab": {
          "base_uri": "https://localhost:8080/",
          "height": 297
        }
      },
      "source": [
        "dfIDH_1991[colunas_idh].describe()"
      ],
      "execution_count": 9,
      "outputs": [
        {
          "output_type": "execute_result",
          "data": {
            "text/html": [
              "<div>\n",
              "<style scoped>\n",
              "    .dataframe tbody tr th:only-of-type {\n",
              "        vertical-align: middle;\n",
              "    }\n",
              "\n",
              "    .dataframe tbody tr th {\n",
              "        vertical-align: top;\n",
              "    }\n",
              "\n",
              "    .dataframe thead th {\n",
              "        text-align: right;\n",
              "    }\n",
              "</style>\n",
              "<table border=\"1\" class=\"dataframe\">\n",
              "  <thead>\n",
              "    <tr style=\"text-align: right;\">\n",
              "      <th></th>\n",
              "      <th>IDHM</th>\n",
              "      <th>IDHM_E</th>\n",
              "      <th>IDHM_L</th>\n",
              "      <th>IDHM_R</th>\n",
              "    </tr>\n",
              "  </thead>\n",
              "  <tbody>\n",
              "    <tr>\n",
              "      <th>count</th>\n",
              "      <td>5565.000000</td>\n",
              "      <td>5565.000000</td>\n",
              "      <td>5565.000000</td>\n",
              "      <td>5565.000000</td>\n",
              "    </tr>\n",
              "    <tr>\n",
              "      <th>mean</th>\n",
              "      <td>0.381372</td>\n",
              "      <td>0.178705</td>\n",
              "      <td>0.645658</td>\n",
              "      <td>0.514515</td>\n",
              "    </tr>\n",
              "    <tr>\n",
              "      <th>std</th>\n",
              "      <td>0.103097</td>\n",
              "      <td>0.091976</td>\n",
              "      <td>0.078733</td>\n",
              "      <td>0.096943</td>\n",
              "    </tr>\n",
              "    <tr>\n",
              "      <th>min</th>\n",
              "      <td>0.120000</td>\n",
              "      <td>0.010000</td>\n",
              "      <td>0.433000</td>\n",
              "      <td>0.229000</td>\n",
              "    </tr>\n",
              "    <tr>\n",
              "      <th>25%</th>\n",
              "      <td>0.299000</td>\n",
              "      <td>0.106000</td>\n",
              "      <td>0.587000</td>\n",
              "      <td>0.435000</td>\n",
              "    </tr>\n",
              "    <tr>\n",
              "      <th>50%</th>\n",
              "      <td>0.382000</td>\n",
              "      <td>0.168000</td>\n",
              "      <td>0.658000</td>\n",
              "      <td>0.518000</td>\n",
              "    </tr>\n",
              "    <tr>\n",
              "      <th>75%</th>\n",
              "      <td>0.463000</td>\n",
              "      <td>0.245000</td>\n",
              "      <td>0.710000</td>\n",
              "      <td>0.590000</td>\n",
              "    </tr>\n",
              "    <tr>\n",
              "      <th>max</th>\n",
              "      <td>0.697000</td>\n",
              "      <td>0.557000</td>\n",
              "      <td>0.810000</td>\n",
              "      <td>0.803000</td>\n",
              "    </tr>\n",
              "  </tbody>\n",
              "</table>\n",
              "</div>"
            ],
            "text/plain": [
              "              IDHM       IDHM_E       IDHM_L       IDHM_R\n",
              "count  5565.000000  5565.000000  5565.000000  5565.000000\n",
              "mean      0.381372     0.178705     0.645658     0.514515\n",
              "std       0.103097     0.091976     0.078733     0.096943\n",
              "min       0.120000     0.010000     0.433000     0.229000\n",
              "25%       0.299000     0.106000     0.587000     0.435000\n",
              "50%       0.382000     0.168000     0.658000     0.518000\n",
              "75%       0.463000     0.245000     0.710000     0.590000\n",
              "max       0.697000     0.557000     0.810000     0.803000"
            ]
          },
          "metadata": {
            "tags": []
          },
          "execution_count": 9
        }
      ]
    },
    {
      "cell_type": "code",
      "metadata": {
        "id": "hzUoGjHS0kR-",
        "colab_type": "code",
        "outputId": "fb1fd6b6-20be-4dbe-c612-3aae73ffafb3",
        "colab": {
          "base_uri": "https://localhost:8080/",
          "height": 282
        }
      },
      "source": [
        "dfIDH_1991['IDHM'].hist(bins=50)"
      ],
      "execution_count": 10,
      "outputs": [
        {
          "output_type": "execute_result",
          "data": {
            "text/plain": [
              "<matplotlib.axes._subplots.AxesSubplot at 0x7f3fe035a208>"
            ]
          },
          "metadata": {
            "tags": []
          },
          "execution_count": 10
        },
        {
          "output_type": "display_data",
          "data": {
            "image/png": "[encoded data removed]",
            "text/plain": [
              "<Figure size 432x288 with 1 Axes>"
            ]
          },
          "metadata": {
            "tags": [],
            "needs_background": "light"
          }
        }
      ]
    },
    {
      "cell_type": "code",
      "metadata": {
        "id": "WrNmSZJC08J3",
        "colab_type": "code",
        "outputId": "9ead7865-3f6c-4598-ae85-0914833e8aa4",
        "colab": {
          "base_uri": "https://localhost:8080/",
          "height": 282
        }
      },
      "source": [
        "dfIDH_1991['IDHM_L'].hist(bins=50)"
      ],
      "execution_count": 11,
      "outputs": [
        {
          "output_type": "execute_result",
          "data": {
            "text/plain": [
              "<matplotlib.axes._subplots.AxesSubplot at 0x7f3fe02259b0>"
            ]
          },
          "metadata": {
            "tags": []
          },
          "execution_count": 11
        },
        {
          "output_type": "display_data",
          "data": {
            "image/png": "[encoded data removed]",
            "text/plain": [
              "<Figure size 432x288 with 1 Axes>"
            ]
          },
          "metadata": {
            "tags": [],
            "needs_background": "light"
          }
        }
      ]
    },
    {
      "cell_type": "code",
      "metadata": {
        "id": "ZjGER3GK1J0D",
        "colab_type": "code",
        "outputId": "1cc6695a-36a3-4802-8539-5b573cf07520",
        "colab": {
          "base_uri": "https://localhost:8080/",
          "height": 282
        }
      },
      "source": [
        "dfIDH_1991['RDPC'].hist(bins=50) # Renda per capita"
      ],
      "execution_count": 12,
      "outputs": [
        {
          "output_type": "execute_result",
          "data": {
            "text/plain": [
              "<matplotlib.axes._subplots.AxesSubplot at 0x7f3fdfcc5198>"
            ]
          },
          "metadata": {
            "tags": []
          },
          "execution_count": 12
        },
        {
          "output_type": "display_data",
          "data": {
            "image/png": "[encoded data removed]",
            "text/plain": [
              "<Figure size 432x288 with 1 Axes>"
            ]
          },
          "metadata": {
            "tags": [],
            "needs_background": "light"
          }
        }
      ]
    },
    {
      "cell_type": "code",
      "metadata": {
        "id": "NcljBZ912YI0",
        "colab_type": "code",
        "outputId": "1c5da5c5-e629-44a6-f133-b53ec1ea66a2",
        "colab": {
          "base_uri": "https://localhost:8080/",
          "height": 204
        }
      },
      "source": [
        "dfIDH_1991[['RDPC','IDHM', 'IDHM_E', 'IDHM_L', 'IDHM_R']].corr()"
      ],
      "execution_count": 13,
      "outputs": [
        {
          "output_type": "execute_result",
          "data": {
            "text/html": [
              "<div>\n",
              "<style scoped>\n",
              "    .dataframe tbody tr th:only-of-type {\n",
              "        vertical-align: middle;\n",
              "    }\n",
              "\n",
              "    .dataframe tbody tr th {\n",
              "        vertical-align: top;\n",
              "    }\n",
              "\n",
              "    .dataframe thead th {\n",
              "        text-align: right;\n",
              "    }\n",
              "</style>\n",
              "<table border=\"1\" class=\"dataframe\">\n",
              "  <thead>\n",
              "    <tr style=\"text-align: right;\">\n",
              "      <th></th>\n",
              "      <th>RDPC</th>\n",
              "      <th>IDHM</th>\n",
              "      <th>IDHM_E</th>\n",
              "      <th>IDHM_L</th>\n",
              "      <th>IDHM_R</th>\n",
              "    </tr>\n",
              "  </thead>\n",
              "  <tbody>\n",
              "    <tr>\n",
              "      <th>RDPC</th>\n",
              "      <td>1.000000</td>\n",
              "      <td>0.851182</td>\n",
              "      <td>0.791423</td>\n",
              "      <td>0.710204</td>\n",
              "      <td>0.943227</td>\n",
              "    </tr>\n",
              "    <tr>\n",
              "      <th>IDHM</th>\n",
              "      <td>0.851182</td>\n",
              "      <td>1.000000</td>\n",
              "      <td>0.968659</td>\n",
              "      <td>0.801583</td>\n",
              "      <td>0.897720</td>\n",
              "    </tr>\n",
              "    <tr>\n",
              "      <th>IDHM_E</th>\n",
              "      <td>0.791423</td>\n",
              "      <td>0.968659</td>\n",
              "      <td>1.000000</td>\n",
              "      <td>0.684742</td>\n",
              "      <td>0.802412</td>\n",
              "    </tr>\n",
              "    <tr>\n",
              "      <th>IDHM_L</th>\n",
              "      <td>0.710204</td>\n",
              "      <td>0.801583</td>\n",
              "      <td>0.684742</td>\n",
              "      <td>1.000000</td>\n",
              "      <td>0.789020</td>\n",
              "    </tr>\n",
              "    <tr>\n",
              "      <th>IDHM_R</th>\n",
              "      <td>0.943227</td>\n",
              "      <td>0.897720</td>\n",
              "      <td>0.802412</td>\n",
              "      <td>0.789020</td>\n",
              "      <td>1.000000</td>\n",
              "    </tr>\n",
              "  </tbody>\n",
              "</table>\n",
              "</div>"
            ],
            "text/plain": [
              "            RDPC      IDHM    IDHM_E    IDHM_L    IDHM_R\n",
              "RDPC    1.000000  0.851182  0.791423  0.710204  0.943227\n",
              "IDHM    0.851182  1.000000  0.968659  0.801583  0.897720\n",
              "IDHM_E  0.791423  0.968659  1.000000  0.684742  0.802412\n",
              "IDHM_L  0.710204  0.801583  0.684742  1.000000  0.789020\n",
              "IDHM_R  0.943227  0.897720  0.802412  0.789020  1.000000"
            ]
          },
          "metadata": {
            "tags": []
          },
          "execution_count": 13
        }
      ]
    },
    {
      "cell_type": "code",
      "metadata": {
        "id": "jiefuB7I2gRJ",
        "colab_type": "code",
        "outputId": "b3486954-e11a-4248-8812-03d316001479",
        "colab": {
          "base_uri": "https://localhost:8080/",
          "height": 204
        }
      },
      "source": [
        "dfIDH_2000[['RDPC','IDHM', 'IDHM_E', 'IDHM_L', 'IDHM_R']].corr()"
      ],
      "execution_count": 14,
      "outputs": [
        {
          "output_type": "execute_result",
          "data": {
            "text/html": [
              "<div>\n",
              "<style scoped>\n",
              "    .dataframe tbody tr th:only-of-type {\n",
              "        vertical-align: middle;\n",
              "    }\n",
              "\n",
              "    .dataframe tbody tr th {\n",
              "        vertical-align: top;\n",
              "    }\n",
              "\n",
              "    .dataframe thead th {\n",
              "        text-align: right;\n",
              "    }\n",
              "</style>\n",
              "<table border=\"1\" class=\"dataframe\">\n",
              "  <thead>\n",
              "    <tr style=\"text-align: right;\">\n",
              "      <th></th>\n",
              "      <th>RDPC</th>\n",
              "      <th>IDHM</th>\n",
              "      <th>IDHM_E</th>\n",
              "      <th>IDHM_L</th>\n",
              "      <th>IDHM_R</th>\n",
              "    </tr>\n",
              "  </thead>\n",
              "  <tbody>\n",
              "    <tr>\n",
              "      <th>RDPC</th>\n",
              "      <td>1.000000</td>\n",
              "      <td>0.878620</td>\n",
              "      <td>0.815036</td>\n",
              "      <td>0.773219</td>\n",
              "      <td>0.948658</td>\n",
              "    </tr>\n",
              "    <tr>\n",
              "      <th>IDHM</th>\n",
              "      <td>0.878620</td>\n",
              "      <td>1.000000</td>\n",
              "      <td>0.975847</td>\n",
              "      <td>0.870053</td>\n",
              "      <td>0.929387</td>\n",
              "    </tr>\n",
              "    <tr>\n",
              "      <th>IDHM_E</th>\n",
              "      <td>0.815036</td>\n",
              "      <td>0.975847</td>\n",
              "      <td>1.000000</td>\n",
              "      <td>0.782391</td>\n",
              "      <td>0.846917</td>\n",
              "    </tr>\n",
              "    <tr>\n",
              "      <th>IDHM_L</th>\n",
              "      <td>0.773219</td>\n",
              "      <td>0.870053</td>\n",
              "      <td>0.782391</td>\n",
              "      <td>1.000000</td>\n",
              "      <td>0.836550</td>\n",
              "    </tr>\n",
              "    <tr>\n",
              "      <th>IDHM_R</th>\n",
              "      <td>0.948658</td>\n",
              "      <td>0.929387</td>\n",
              "      <td>0.846917</td>\n",
              "      <td>0.836550</td>\n",
              "      <td>1.000000</td>\n",
              "    </tr>\n",
              "  </tbody>\n",
              "</table>\n",
              "</div>"
            ],
            "text/plain": [
              "            RDPC      IDHM    IDHM_E    IDHM_L    IDHM_R\n",
              "RDPC    1.000000  0.878620  0.815036  0.773219  0.948658\n",
              "IDHM    0.878620  1.000000  0.975847  0.870053  0.929387\n",
              "IDHM_E  0.815036  0.975847  1.000000  0.782391  0.846917\n",
              "IDHM_L  0.773219  0.870053  0.782391  1.000000  0.836550\n",
              "IDHM_R  0.948658  0.929387  0.846917  0.836550  1.000000"
            ]
          },
          "metadata": {
            "tags": []
          },
          "execution_count": 14
        }
      ]
    },
    {
      "cell_type": "code",
      "metadata": {
        "id": "kJDVw80e79zc",
        "colab_type": "code",
        "outputId": "fef53c01-5625-4847-c5d3-36192d993025",
        "colab": {
          "base_uri": "https://localhost:8080/",
          "height": 204
        }
      },
      "source": [
        "dfIDH_2010[['RDPC','IDHM', 'IDHM_E', 'IDHM_L', 'IDHM_R']].corr()"
      ],
      "execution_count": 15,
      "outputs": [
        {
          "output_type": "execute_result",
          "data": {
            "text/html": [
              "<div>\n",
              "<style scoped>\n",
              "    .dataframe tbody tr th:only-of-type {\n",
              "        vertical-align: middle;\n",
              "    }\n",
              "\n",
              "    .dataframe tbody tr th {\n",
              "        vertical-align: top;\n",
              "    }\n",
              "\n",
              "    .dataframe thead th {\n",
              "        text-align: right;\n",
              "    }\n",
              "</style>\n",
              "<table border=\"1\" class=\"dataframe\">\n",
              "  <thead>\n",
              "    <tr style=\"text-align: right;\">\n",
              "      <th></th>\n",
              "      <th>RDPC</th>\n",
              "      <th>IDHM</th>\n",
              "      <th>IDHM_E</th>\n",
              "      <th>IDHM_L</th>\n",
              "      <th>IDHM_R</th>\n",
              "    </tr>\n",
              "  </thead>\n",
              "  <tbody>\n",
              "    <tr>\n",
              "      <th>RDPC</th>\n",
              "      <td>1.000000</td>\n",
              "      <td>0.907988</td>\n",
              "      <td>0.791389</td>\n",
              "      <td>0.784216</td>\n",
              "      <td>0.961664</td>\n",
              "    </tr>\n",
              "    <tr>\n",
              "      <th>IDHM</th>\n",
              "      <td>0.907988</td>\n",
              "      <td>1.000000</td>\n",
              "      <td>0.950875</td>\n",
              "      <td>0.852149</td>\n",
              "      <td>0.948321</td>\n",
              "    </tr>\n",
              "    <tr>\n",
              "      <th>IDHM_E</th>\n",
              "      <td>0.791389</td>\n",
              "      <td>0.950875</td>\n",
              "      <td>1.000000</td>\n",
              "      <td>0.704460</td>\n",
              "      <td>0.819628</td>\n",
              "    </tr>\n",
              "    <tr>\n",
              "      <th>IDHM_L</th>\n",
              "      <td>0.784216</td>\n",
              "      <td>0.852149</td>\n",
              "      <td>0.704460</td>\n",
              "      <td>1.000000</td>\n",
              "      <td>0.833867</td>\n",
              "    </tr>\n",
              "    <tr>\n",
              "      <th>IDHM_R</th>\n",
              "      <td>0.961664</td>\n",
              "      <td>0.948321</td>\n",
              "      <td>0.819628</td>\n",
              "      <td>0.833867</td>\n",
              "      <td>1.000000</td>\n",
              "    </tr>\n",
              "  </tbody>\n",
              "</table>\n",
              "</div>"
            ],
            "text/plain": [
              "            RDPC      IDHM    IDHM_E    IDHM_L    IDHM_R\n",
              "RDPC    1.000000  0.907988  0.791389  0.784216  0.961664\n",
              "IDHM    0.907988  1.000000  0.950875  0.852149  0.948321\n",
              "IDHM_E  0.791389  0.950875  1.000000  0.704460  0.819628\n",
              "IDHM_L  0.784216  0.852149  0.704460  1.000000  0.833867\n",
              "IDHM_R  0.961664  0.948321  0.819628  0.833867  1.000000"
            ]
          },
          "metadata": {
            "tags": []
          },
          "execution_count": 15
        }
      ]
    },
    {
      "cell_type": "markdown",
      "metadata": {
        "id": "xHT1OItX8eaa",
        "colab_type": "text"
      },
      "source": [
        "## 5.1 Explorando o Índice Desenvolvimento Humano Municipal"
      ]
    },
    {
      "cell_type": "code",
      "metadata": {
        "id": "U06iwdhi8DmZ",
        "colab_type": "code",
        "colab": {
          "base_uri": "https://localhost:8080/",
          "height": 170
        },
        "outputId": "941d1e7f-14c6-4f8a-801d-1bde50d83092"
      },
      "source": [
        "dfIDH_2000.IDHM.describe()"
      ],
      "execution_count": 16,
      "outputs": [
        {
          "output_type": "execute_result",
          "data": {
            "text/plain": [
              "count    5565.000000\n",
              "mean        0.523481\n",
              "std         0.104396\n",
              "min         0.208000\n",
              "25%         0.436000\n",
              "50%         0.533000\n",
              "75%         0.609000\n",
              "max         0.820000\n",
              "Name: IDHM, dtype: float64"
            ]
          },
          "metadata": {
            "tags": []
          },
          "execution_count": 16
        }
      ]
    },
    {
      "cell_type": "markdown",
      "metadata": {
        "id": "kKazo9ZH-DED",
        "colab_type": "text"
      },
      "source": [
        "## <font color = 'red'> 75% dos IDHM estão concentrados entre **0.436** e **0.609** "
      ]
    },
    {
      "cell_type": "code",
      "metadata": {
        "id": "J89mzJAg3x5H",
        "colab_type": "code",
        "colab": {
          "base_uri": "https://localhost:8080/",
          "height": 437
        },
        "outputId": "86efe335-873c-4623-c77a-7e76fd8fcb9c"
      },
      "source": [
        "sns.set(style='whitegrid')\n",
        "ax = sns.boxplot(data=dfIDH_2000, x='IDHM', width=0.8, linewidth=1.5,palette=\"Set3\")\n",
        "ax.figure.set_size_inches(12,6)\n",
        "ax.set_title('Box plot', fontsize=20)\n",
        "ax.set_xlabel('Índice de Desenvolvimento Humano Municipal - IDHM', fontsize=16)\n",
        "ax"
      ],
      "execution_count": 36,
      "outputs": [
        {
          "output_type": "execute_result",
          "data": {
            "text/plain": [
              "<matplotlib.axes._subplots.AxesSubplot at 0x7f3fda26c5c0>"
            ]
          },
          "metadata": {
            "tags": []
          },
          "execution_count": 36
        },
        {
          "output_type": "display_data",
          "data": {
            "image/png": "[encoded data removed]",
            "text/plain": [
              "<Figure size 864x432 with 1 Axes>"
            ]
          },
          "metadata": {
            "tags": []
          }
        }
      ]
    },
    {
      "cell_type": "markdown",
      "metadata": {
        "id": "RnnsWqyT8zCq",
        "colab_type": "text"
      },
      "source": [
        "### <font color=green> Parece que os dados seguem quase uma distribuição normal. </font> \n",
        "\n",
        "<font color=blue> Quando vai chegando ao índice 0.500, vai diminuindo as frequências. Só que depois do 0.500, as frequências vão aumentando  </font>"
      ]
    },
    {
      "cell_type": "code",
      "metadata": {
        "id": "bkrBpnNZ4Btb",
        "colab_type": "code",
        "colab": {
          "base_uri": "https://localhost:8080/",
          "height": 440
        },
        "outputId": "a58e31ba-cf75-46e8-8cf3-68f27db13a3c"
      },
      "source": [
        "ax = sns.distplot(a=dfIDH_2000.IDHM, bins = 60)\n",
        "ax.figure.set_size_inches(12,6)\n",
        "ax.set_title('Distribuição do Índice de Desenvolvimento Humano Municipal no ano de 2000', fontsize=20)\n",
        "ax.set_xlabel('Índice de Desenvolvimento Humano Municipal - IDHM', fontsize=16)"
      ],
      "execution_count": 51,
      "outputs": [
        {
          "output_type": "execute_result",
          "data": {
            "text/plain": [
              "Text(0.5, 0, 'Índice de Desenvolvimento Humano Municipal - IDHM')"
            ]
          },
          "metadata": {
            "tags": []
          },
          "execution_count": 51
        },
        {
          "output_type": "display_data",
          "data": {
            "image/png": "[encoded data removed]",
            "text/plain": [
              "<Figure size 864x432 with 1 Axes>"
            ]
          },
          "metadata": {
            "tags": []
          }
        }
      ]
    },
    {
      "cell_type": "code",
      "metadata": {
        "id": "18vhOj5t4gRi",
        "colab_type": "code",
        "colab": {}
      },
      "source": [
        ""
      ],
      "execution_count": 0,
      "outputs": []
    },
    {
      "cell_type": "markdown",
      "metadata": {
        "id": "DgAQo4fI-hXj",
        "colab_type": "text"
      },
      "source": [
        "## 5.2 Explorando Renda per Capita (RDPC)"
      ]
    },
    {
      "cell_type": "code",
      "metadata": {
        "id": "zUvQccvi-kYc",
        "colab_type": "code",
        "colab": {
          "base_uri": "https://localhost:8080/",
          "height": 170
        },
        "outputId": "7c6e4702-e347-4551-f35f-b08f2326084d"
      },
      "source": [
        "dfIDH_2000.RDPC.describe()"
      ],
      "execution_count": 44,
      "outputs": [
        {
          "output_type": "execute_result",
          "data": {
            "text/plain": [
              "count    5565.000000\n",
              "mean      338.542322\n",
              "std       192.443425\n",
              "min        62.650000\n",
              "25%       173.490000\n",
              "50%       308.580000\n",
              "75%       463.200000\n",
              "max      1759.760000\n",
              "Name: RDPC, dtype: float64"
            ]
          },
          "metadata": {
            "tags": []
          },
          "execution_count": 44
        }
      ]
    },
    {
      "cell_type": "markdown",
      "metadata": {
        "id": "nqRG5Y47AMz9",
        "colab_type": "text"
      },
      "source": [
        "## <font color = 'red'> Justamente por ser uma variável de renda, é esperado que a concentração da Renda per Capita esteja nos menores valores. </font>\n",
        "\n",
        "<font color = 'blue'> Vou analisar as Rendas Per Capitas que aparecem como \"OutSiders\" </color>"
      ]
    },
    {
      "cell_type": "code",
      "metadata": {
        "id": "uFXIi_HU-t99",
        "colab_type": "code",
        "colab": {
          "base_uri": "https://localhost:8080/",
          "height": 434
        },
        "outputId": "36f09772-1faa-4cd1-ffc7-513de8425931"
      },
      "source": [
        "sns.set(style='whitegrid')\n",
        "ax = sns.boxplot(data=dfIDH_2000, x='RDPC', width=0.8, linewidth=1.5,palette=\"Set3\")\n",
        "ax.figure.set_size_inches(12,6)\n",
        "ax.set_title('Box plot de Renda per Capita dos municípios no ano de 2000', fontsize=20)\n",
        "ax.set_xlabel('Renda per Capita - RDPC em R$', fontsize=16)\n",
        "ax"
      ],
      "execution_count": 52,
      "outputs": [
        {
          "output_type": "execute_result",
          "data": {
            "text/plain": [
              "<matplotlib.axes._subplots.AxesSubplot at 0x7f3fd9525d68>"
            ]
          },
          "metadata": {
            "tags": []
          },
          "execution_count": 52
        },
        {
          "output_type": "display_data",
          "data": {
            "image/png": "[encoded data removed]",
            "text/plain": [
              "<Figure size 864x432 with 1 Axes>"
            ]
          },
          "metadata": {
            "tags": []
          }
        }
      ]
    },
    {
      "cell_type": "markdown",
      "metadata": {
        "id": "8kP4paE8A-Il",
        "colab_type": "text"
      },
      "source": [
        "### <font color = 'red'> Como disse no comentário acima, é esperado que o gráfico esteja com a distribuição maior do lado esquerdo. Justamente por ser distribuição de Renda Per Capita </font>"
      ]
    },
    {
      "cell_type": "code",
      "metadata": {
        "id": "nJ2oFmME_Y0K",
        "colab_type": "code",
        "colab": {
          "base_uri": "https://localhost:8080/",
          "height": 434
        },
        "outputId": "c2aeb77d-afa9-4529-faf1-f5f92d3b1296"
      },
      "source": [
        "ax = sns.distplot(a=dfIDH_2000.RDPC, bins = 60)\n",
        "ax.figure.set_size_inches(12,6)\n",
        "ax.set_title('Distribuição da Renda per Capita em 2000', fontsize=20)\n",
        "ax.set_xlabel('Renda per Capita - RDPC em (R$)', fontsize=16)"
      ],
      "execution_count": 60,
      "outputs": [
        {
          "output_type": "execute_result",
          "data": {
            "text/plain": [
              "Text(0.5, 0, 'Renda per Capita - RDPC em (R$)')"
            ]
          },
          "metadata": {
            "tags": []
          },
          "execution_count": 60
        },
        {
          "output_type": "display_data",
          "data": {
            "image/png": "[encoded data removed]",
            "text/plain": [
              "<Figure size 864x432 with 1 Axes>"
            ]
          },
          "metadata": {
            "tags": []
          }
        }
      ]
    },
    {
      "cell_type": "code",
      "metadata": {
        "id": "oxaZFmMmBwyv",
        "colab_type": "code",
        "colab": {
          "base_uri": "https://localhost:8080/",
          "height": 111
        },
        "outputId": "1cc5e828-3524-440f-844b-88d38065f22e"
      },
      "source": [
        "dfIDH_2000[['RDPC','IDHM_E']].corr()"
      ],
      "execution_count": 59,
      "outputs": [
        {
          "output_type": "execute_result",
          "data": {
            "text/html": [
              "<div>\n",
              "<style scoped>\n",
              "    .dataframe tbody tr th:only-of-type {\n",
              "        vertical-align: middle;\n",
              "    }\n",
              "\n",
              "    .dataframe tbody tr th {\n",
              "        vertical-align: top;\n",
              "    }\n",
              "\n",
              "    .dataframe thead th {\n",
              "        text-align: right;\n",
              "    }\n",
              "</style>\n",
              "<table border=\"1\" class=\"dataframe\">\n",
              "  <thead>\n",
              "    <tr style=\"text-align: right;\">\n",
              "      <th></th>\n",
              "      <th>RDPCT</th>\n",
              "      <th>IDHM_E</th>\n",
              "    </tr>\n",
              "  </thead>\n",
              "  <tbody>\n",
              "    <tr>\n",
              "      <th>RDPCT</th>\n",
              "      <td>1.000000</td>\n",
              "      <td>0.804376</td>\n",
              "    </tr>\n",
              "    <tr>\n",
              "      <th>IDHM_E</th>\n",
              "      <td>0.804376</td>\n",
              "      <td>1.000000</td>\n",
              "    </tr>\n",
              "  </tbody>\n",
              "</table>\n",
              "</div>"
            ],
            "text/plain": [
              "           RDPCT    IDHM_E\n",
              "RDPCT   1.000000  0.804376\n",
              "IDHM_E  0.804376  1.000000"
            ]
          },
          "metadata": {
            "tags": []
          },
          "execution_count": 59
        }
      ]
    },
    {
      "cell_type": "code",
      "metadata": {
        "id": "hqEbc15c_xgB",
        "colab_type": "code",
        "colab": {
          "base_uri": "https://localhost:8080/",
          "height": 241
        },
        "outputId": "03c06f1e-fe5e-49e9-d8a2-3b29b430d512"
      },
      "source": [
        "colunas = ['Município','ESPVIDA','MORT1','RDPC','RDPC5','R2040','IDHM','IDHM_E', 'IDHM_L','IDHM_R', 'PRENTRAB','pesotot','T_AGUA','AGUA_ESGOTO','REN0',\n",
        "           'REN1','REN2','REN3','PMPOB']\n",
        "dfIDH_2000[colunas].sort_values(by='RDPC', ascending=False).head(4)  "
      ],
      "execution_count": 100,
      "outputs": [
        {
          "output_type": "execute_result",
          "data": {
            "text/html": [
              "<div>\n",
              "<style scoped>\n",
              "    .dataframe tbody tr th:only-of-type {\n",
              "        vertical-align: middle;\n",
              "    }\n",
              "\n",
              "    .dataframe tbody tr th {\n",
              "        vertical-align: top;\n",
              "    }\n",
              "\n",
              "    .dataframe thead th {\n",
              "        text-align: right;\n",
              "    }\n",
              "</style>\n",
              "<table border=\"1\" class=\"dataframe\">\n",
              "  <thead>\n",
              "    <tr style=\"text-align: right;\">\n",
              "      <th></th>\n",
              "      <th>Município</th>\n",
              "      <th>ESPVIDA</th>\n",
              "      <th>MORT1</th>\n",
              "      <th>RDPC</th>\n",
              "      <th>RDPC5</th>\n",
              "      <th>R2040</th>\n",
              "      <th>IDHM</th>\n",
              "      <th>IDHM_E</th>\n",
              "      <th>IDHM_L</th>\n",
              "      <th>IDHM_R</th>\n",
              "      <th>PRENTRAB</th>\n",
              "      <th>pesotot</th>\n",
              "      <th>T_AGUA</th>\n",
              "      <th>AGUA_ESGOTO</th>\n",
              "      <th>REN0</th>\n",
              "      <th>REN1</th>\n",
              "      <th>REN2</th>\n",
              "      <th>REN3</th>\n",
              "      <th>PMPOB</th>\n",
              "    </tr>\n",
              "  </thead>\n",
              "  <tbody>\n",
              "    <tr>\n",
              "      <th>3272</th>\n",
              "      <td>ÁGUAS DE SÃO PEDRO</td>\n",
              "      <td>77.18</td>\n",
              "      <td>11.40</td>\n",
              "      <td>1759.76</td>\n",
              "      <td>5380.11</td>\n",
              "      <td>15.71</td>\n",
              "      <td>0.791</td>\n",
              "      <td>0.657</td>\n",
              "      <td>0.870</td>\n",
              "      <td>0.867</td>\n",
              "      <td>62.48</td>\n",
              "      <td>1883</td>\n",
              "      <td>100.00</td>\n",
              "      <td>0.00</td>\n",
              "      <td>2.89</td>\n",
              "      <td>19.67</td>\n",
              "      <td>52.18</td>\n",
              "      <td>62.37</td>\n",
              "      <td>0.70</td>\n",
              "    </tr>\n",
              "    <tr>\n",
              "      <th>3811</th>\n",
              "      <td>SÃO CAETANO DO SUL</td>\n",
              "      <td>77.18</td>\n",
              "      <td>11.40</td>\n",
              "      <td>1639.93</td>\n",
              "      <td>4502.58</td>\n",
              "      <td>9.32</td>\n",
              "      <td>0.820</td>\n",
              "      <td>0.740</td>\n",
              "      <td>0.870</td>\n",
              "      <td>0.855</td>\n",
              "      <td>81.10</td>\n",
              "      <td>140159</td>\n",
              "      <td>99.36</td>\n",
              "      <td>0.00</td>\n",
              "      <td>1.31</td>\n",
              "      <td>8.44</td>\n",
              "      <td>33.33</td>\n",
              "      <td>44.98</td>\n",
              "      <td>1.38</td>\n",
              "    </tr>\n",
              "    <tr>\n",
              "      <th>3221</th>\n",
              "      <td>NITERÓI</td>\n",
              "      <td>72.26</td>\n",
              "      <td>14.04</td>\n",
              "      <td>1596.51</td>\n",
              "      <td>4871.07</td>\n",
              "      <td>16.80</td>\n",
              "      <td>0.771</td>\n",
              "      <td>0.684</td>\n",
              "      <td>0.788</td>\n",
              "      <td>0.851</td>\n",
              "      <td>67.53</td>\n",
              "      <td>459451</td>\n",
              "      <td>87.83</td>\n",
              "      <td>3.72</td>\n",
              "      <td>1.51</td>\n",
              "      <td>21.28</td>\n",
              "      <td>46.81</td>\n",
              "      <td>56.54</td>\n",
              "      <td>6.60</td>\n",
              "    </tr>\n",
              "    <tr>\n",
              "      <th>3794</th>\n",
              "      <td>SANTANA DE PARNAÍBA</td>\n",
              "      <td>73.29</td>\n",
              "      <td>17.40</td>\n",
              "      <td>1565.51</td>\n",
              "      <td>6064.71</td>\n",
              "      <td>32.53</td>\n",
              "      <td>0.713</td>\n",
              "      <td>0.530</td>\n",
              "      <td>0.805</td>\n",
              "      <td>0.848</td>\n",
              "      <td>84.07</td>\n",
              "      <td>74828</td>\n",
              "      <td>90.62</td>\n",
              "      <td>4.20</td>\n",
              "      <td>1.33</td>\n",
              "      <td>16.67</td>\n",
              "      <td>55.74</td>\n",
              "      <td>64.53</td>\n",
              "      <td>11.53</td>\n",
              "    </tr>\n",
              "  </tbody>\n",
              "</table>\n",
              "</div>"
            ],
            "text/plain": [
              "                Município  ESPVIDA  MORT1     RDPC  ...   REN1   REN2   REN3  PMPOB\n",
              "3272   ÁGUAS DE SÃO PEDRO    77.18  11.40  1759.76  ...  19.67  52.18  62.37   0.70\n",
              "3811   SÃO CAETANO DO SUL    77.18  11.40  1639.93  ...   8.44  33.33  44.98   1.38\n",
              "3221              NITERÓI    72.26  14.04  1596.51  ...  21.28  46.81  56.54   6.60\n",
              "3794  SANTANA DE PARNAÍBA    73.29  17.40  1565.51  ...  16.67  55.74  64.53  11.53\n",
              "\n",
              "[4 rows x 19 columns]"
            ]
          },
          "metadata": {
            "tags": []
          },
          "execution_count": 100
        }
      ]
    },
    {
      "cell_type": "code",
      "metadata": {
        "id": "ZMxUtu1PCiyJ",
        "colab_type": "code",
        "colab": {
          "base_uri": "https://localhost:8080/",
          "height": 351
        },
        "outputId": "2d93f50a-d24c-4c98-8916-e97a25f418d0"
      },
      "source": [
        "dfIDH_2000[colunas].sample(n = 8, random_state = 25454)"
      ],
      "execution_count": 101,
      "outputs": [
        {
          "output_type": "execute_result",
          "data": {
            "text/html": [
              "<div>\n",
              "<style scoped>\n",
              "    .dataframe tbody tr th:only-of-type {\n",
              "        vertical-align: middle;\n",
              "    }\n",
              "\n",
              "    .dataframe tbody tr th {\n",
              "        vertical-align: top;\n",
              "    }\n",
              "\n",
              "    .dataframe thead th {\n",
              "        text-align: right;\n",
              "    }\n",
              "</style>\n",
              "<table border=\"1\" class=\"dataframe\">\n",
              "  <thead>\n",
              "    <tr style=\"text-align: right;\">\n",
              "      <th></th>\n",
              "      <th>Município</th>\n",
              "      <th>ESPVIDA</th>\n",
              "      <th>MORT1</th>\n",
              "      <th>RDPC</th>\n",
              "      <th>RDPC5</th>\n",
              "      <th>R2040</th>\n",
              "      <th>IDHM</th>\n",
              "      <th>IDHM_E</th>\n",
              "      <th>IDHM_L</th>\n",
              "      <th>IDHM_R</th>\n",
              "      <th>PRENTRAB</th>\n",
              "      <th>pesotot</th>\n",
              "      <th>T_AGUA</th>\n",
              "      <th>AGUA_ESGOTO</th>\n",
              "      <th>REN0</th>\n",
              "      <th>REN1</th>\n",
              "      <th>REN2</th>\n",
              "      <th>REN3</th>\n",
              "      <th>PMPOB</th>\n",
              "    </tr>\n",
              "  </thead>\n",
              "  <tbody>\n",
              "    <tr>\n",
              "      <th>918</th>\n",
              "      <td>BELA CRUZ</td>\n",
              "      <td>62.24</td>\n",
              "      <td>63.28</td>\n",
              "      <td>124.25</td>\n",
              "      <td>352.85</td>\n",
              "      <td>11.84</td>\n",
              "      <td>0.406</td>\n",
              "      <td>0.244</td>\n",
              "      <td>0.621</td>\n",
              "      <td>0.441</td>\n",
              "      <td>67.77</td>\n",
              "      <td>28358</td>\n",
              "      <td>28.39</td>\n",
              "      <td>31.07</td>\n",
              "      <td>13.53</td>\n",
              "      <td>89.32</td>\n",
              "      <td>95.75</td>\n",
              "      <td>97.22</td>\n",
              "      <td>74.07</td>\n",
              "    </tr>\n",
              "    <tr>\n",
              "      <th>2177</th>\n",
              "      <td>SÃO DESIDÉRIO</td>\n",
              "      <td>64.30</td>\n",
              "      <td>44.73</td>\n",
              "      <td>163.73</td>\n",
              "      <td>462.30</td>\n",
              "      <td>14.22</td>\n",
              "      <td>0.398</td>\n",
              "      <td>0.199</td>\n",
              "      <td>0.655</td>\n",
              "      <td>0.485</td>\n",
              "      <td>73.38</td>\n",
              "      <td>19325</td>\n",
              "      <td>47.32</td>\n",
              "      <td>4.58</td>\n",
              "      <td>7.73</td>\n",
              "      <td>68.34</td>\n",
              "      <td>92.54</td>\n",
              "      <td>96.92</td>\n",
              "      <td>60.62</td>\n",
              "    </tr>\n",
              "    <tr>\n",
              "      <th>5482</th>\n",
              "      <td>NOVA VENEZA</td>\n",
              "      <td>68.82</td>\n",
              "      <td>29.70</td>\n",
              "      <td>320.19</td>\n",
              "      <td>840.64</td>\n",
              "      <td>7.61</td>\n",
              "      <td>0.549</td>\n",
              "      <td>0.382</td>\n",
              "      <td>0.730</td>\n",
              "      <td>0.593</td>\n",
              "      <td>81.09</td>\n",
              "      <td>6414</td>\n",
              "      <td>94.31</td>\n",
              "      <td>1.59</td>\n",
              "      <td>4.63</td>\n",
              "      <td>63.69</td>\n",
              "      <td>89.11</td>\n",
              "      <td>93.45</td>\n",
              "      <td>26.21</td>\n",
              "    </tr>\n",
              "    <tr>\n",
              "      <th>1863</th>\n",
              "      <td>BARRA DO ROCHA</td>\n",
              "      <td>59.20</td>\n",
              "      <td>65.00</td>\n",
              "      <td>162.51</td>\n",
              "      <td>496.03</td>\n",
              "      <td>10.98</td>\n",
              "      <td>0.386</td>\n",
              "      <td>0.208</td>\n",
              "      <td>0.570</td>\n",
              "      <td>0.484</td>\n",
              "      <td>78.95</td>\n",
              "      <td>8302</td>\n",
              "      <td>35.68</td>\n",
              "      <td>24.73</td>\n",
              "      <td>2.44</td>\n",
              "      <td>83.26</td>\n",
              "      <td>94.65</td>\n",
              "      <td>96.57</td>\n",
              "      <td>70.07</td>\n",
              "    </tr>\n",
              "    <tr>\n",
              "      <th>1513</th>\n",
              "      <td>CHÃ GRANDE</td>\n",
              "      <td>65.84</td>\n",
              "      <td>54.20</td>\n",
              "      <td>190.04</td>\n",
              "      <td>486.38</td>\n",
              "      <td>7.32</td>\n",
              "      <td>0.427</td>\n",
              "      <td>0.224</td>\n",
              "      <td>0.681</td>\n",
              "      <td>0.509</td>\n",
              "      <td>72.61</td>\n",
              "      <td>18407</td>\n",
              "      <td>49.51</td>\n",
              "      <td>21.41</td>\n",
              "      <td>8.80</td>\n",
              "      <td>81.17</td>\n",
              "      <td>93.62</td>\n",
              "      <td>95.57</td>\n",
              "      <td>51.97</td>\n",
              "    </tr>\n",
              "    <tr>\n",
              "      <th>3885</th>\n",
              "      <td>TURMALINA</td>\n",
              "      <td>71.95</td>\n",
              "      <td>19.70</td>\n",
              "      <td>391.28</td>\n",
              "      <td>991.00</td>\n",
              "      <td>6.86</td>\n",
              "      <td>0.653</td>\n",
              "      <td>0.568</td>\n",
              "      <td>0.783</td>\n",
              "      <td>0.625</td>\n",
              "      <td>80.40</td>\n",
              "      <td>2366</td>\n",
              "      <td>99.21</td>\n",
              "      <td>0.00</td>\n",
              "      <td>6.18</td>\n",
              "      <td>51.64</td>\n",
              "      <td>80.18</td>\n",
              "      <td>87.83</td>\n",
              "      <td>15.81</td>\n",
              "    </tr>\n",
              "    <tr>\n",
              "      <th>3679</th>\n",
              "      <td>PEDERNEIRAS</td>\n",
              "      <td>72.58</td>\n",
              "      <td>18.60</td>\n",
              "      <td>519.74</td>\n",
              "      <td>1451.64</td>\n",
              "      <td>8.75</td>\n",
              "      <td>0.663</td>\n",
              "      <td>0.548</td>\n",
              "      <td>0.793</td>\n",
              "      <td>0.671</td>\n",
              "      <td>78.07</td>\n",
              "      <td>36614</td>\n",
              "      <td>97.56</td>\n",
              "      <td>0.09</td>\n",
              "      <td>1.02</td>\n",
              "      <td>35.48</td>\n",
              "      <td>72.80</td>\n",
              "      <td>81.11</td>\n",
              "      <td>12.07</td>\n",
              "    </tr>\n",
              "    <tr>\n",
              "      <th>3277</th>\n",
              "      <td>ALTINÓPOLIS</td>\n",
              "      <td>73.55</td>\n",
              "      <td>16.90</td>\n",
              "      <td>772.55</td>\n",
              "      <td>2662.55</td>\n",
              "      <td>15.09</td>\n",
              "      <td>0.658</td>\n",
              "      <td>0.479</td>\n",
              "      <td>0.809</td>\n",
              "      <td>0.734</td>\n",
              "      <td>85.02</td>\n",
              "      <td>15481</td>\n",
              "      <td>99.70</td>\n",
              "      <td>0.11</td>\n",
              "      <td>0.98</td>\n",
              "      <td>39.09</td>\n",
              "      <td>75.90</td>\n",
              "      <td>84.36</td>\n",
              "      <td>11.34</td>\n",
              "    </tr>\n",
              "  </tbody>\n",
              "</table>\n",
              "</div>"
            ],
            "text/plain": [
              "           Município  ESPVIDA  MORT1    RDPC  ...   REN1   REN2   REN3  PMPOB\n",
              "918        BELA CRUZ    62.24  63.28  124.25  ...  89.32  95.75  97.22  74.07\n",
              "2177   SÃO DESIDÉRIO    64.30  44.73  163.73  ...  68.34  92.54  96.92  60.62\n",
              "5482     NOVA VENEZA    68.82  29.70  320.19  ...  63.69  89.11  93.45  26.21\n",
              "1863  BARRA DO ROCHA    59.20  65.00  162.51  ...  83.26  94.65  96.57  70.07\n",
              "1513      CHÃ GRANDE    65.84  54.20  190.04  ...  81.17  93.62  95.57  51.97\n",
              "3885       TURMALINA    71.95  19.70  391.28  ...  51.64  80.18  87.83  15.81\n",
              "3679     PEDERNEIRAS    72.58  18.60  519.74  ...  35.48  72.80  81.11  12.07\n",
              "3277     ALTINÓPOLIS    73.55  16.90  772.55  ...  39.09  75.90  84.36  11.34\n",
              "\n",
              "[8 rows x 19 columns]"
            ]
          },
          "metadata": {
            "tags": []
          },
          "execution_count": 101
        }
      ]
    },
    {
      "cell_type": "code",
      "metadata": {
        "id": "AKBha_veDZ1f",
        "colab_type": "code",
        "colab": {
          "base_uri": "https://localhost:8080/",
          "height": 173
        },
        "outputId": "b91d932a-aaf9-492a-c38d-b39e006b8456"
      },
      "source": [
        "dfIDH_2000[['T_AGUA','ESPVIDA','PRENTRAB','RDPC']].corr()"
      ],
      "execution_count": 88,
      "outputs": [
        {
          "output_type": "execute_result",
          "data": {
            "text/html": [
              "<div>\n",
              "<style scoped>\n",
              "    .dataframe tbody tr th:only-of-type {\n",
              "        vertical-align: middle;\n",
              "    }\n",
              "\n",
              "    .dataframe tbody tr th {\n",
              "        vertical-align: top;\n",
              "    }\n",
              "\n",
              "    .dataframe thead th {\n",
              "        text-align: right;\n",
              "    }\n",
              "</style>\n",
              "<table border=\"1\" class=\"dataframe\">\n",
              "  <thead>\n",
              "    <tr style=\"text-align: right;\">\n",
              "      <th></th>\n",
              "      <th>T_AGUA</th>\n",
              "      <th>ESPVIDA</th>\n",
              "      <th>PRENTRAB</th>\n",
              "      <th>RDPC</th>\n",
              "    </tr>\n",
              "  </thead>\n",
              "  <tbody>\n",
              "    <tr>\n",
              "      <th>T_AGUA</th>\n",
              "      <td>1.000000</td>\n",
              "      <td>0.778992</td>\n",
              "      <td>0.395475</td>\n",
              "      <td>0.732029</td>\n",
              "    </tr>\n",
              "    <tr>\n",
              "      <th>ESPVIDA</th>\n",
              "      <td>0.778992</td>\n",
              "      <td>1.000000</td>\n",
              "      <td>0.478533</td>\n",
              "      <td>0.773202</td>\n",
              "    </tr>\n",
              "    <tr>\n",
              "      <th>PRENTRAB</th>\n",
              "      <td>0.395475</td>\n",
              "      <td>0.478533</td>\n",
              "      <td>1.000000</td>\n",
              "      <td>0.491496</td>\n",
              "    </tr>\n",
              "    <tr>\n",
              "      <th>RDPC</th>\n",
              "      <td>0.732029</td>\n",
              "      <td>0.773202</td>\n",
              "      <td>0.491496</td>\n",
              "      <td>1.000000</td>\n",
              "    </tr>\n",
              "  </tbody>\n",
              "</table>\n",
              "</div>"
            ],
            "text/plain": [
              "            T_AGUA   ESPVIDA  PRENTRAB      RDPC\n",
              "T_AGUA    1.000000  0.778992  0.395475  0.732029\n",
              "ESPVIDA   0.778992  1.000000  0.478533  0.773202\n",
              "PRENTRAB  0.395475  0.478533  1.000000  0.491496\n",
              "RDPC      0.732029  0.773202  0.491496  1.000000"
            ]
          },
          "metadata": {
            "tags": []
          },
          "execution_count": 88
        }
      ]
    },
    {
      "cell_type": "code",
      "metadata": {
        "id": "bIP58XEyENkN",
        "colab_type": "code",
        "colab": {
          "base_uri": "https://localhost:8080/",
          "height": 833
        },
        "outputId": "7bd0086b-5577-4920-8399-0f1cf4ee6e68"
      },
      "source": [
        "dfIDH_2010.columns.to_numpy()"
      ],
      "execution_count": 78,
      "outputs": [
        {
          "output_type": "execute_result",
          "data": {
            "text/plain": [
              "array(['ANO', 'UF', 'Codmun6', 'Codmun7', 'Município', 'ESPVIDA',\n",
              "       'FECTOT', 'MORT1', 'MORT5', 'RAZDEP', 'SOBRE40', 'SOBRE60',\n",
              "       'T_ENV', 'E_ANOSESTUDO', 'T_ANALF11A14', 'T_ANALF15A17',\n",
              "       'T_ANALF15M', 'T_ANALF18A24', 'T_ANALF18M', 'T_ANALF25A29',\n",
              "       'T_ANALF25M', 'T_ATRASO_0_BASICO', 'T_ATRASO_0_FUND',\n",
              "       'T_ATRASO_0_MED', 'T_ATRASO_1_BASICO', 'T_ATRASO_1_FUND',\n",
              "       'T_ATRASO_1_MED', 'T_ATRASO_2_BASICO', 'T_ATRASO_2_FUND',\n",
              "       'T_ATRASO_2_MED', 'T_FBBAS', 'T_FBFUND', 'T_FBMED', 'T_FBPRE',\n",
              "       'T_FBSUPER', 'T_FLBAS', 'T_FLFUND', 'T_FLMED', 'T_FLPRE',\n",
              "       'T_FLSUPER', 'T_FREQ0A3', 'T_FREQ11A14', 'T_FREQ15A17',\n",
              "       'T_FREQ18A24', 'T_FREQ25A29', 'T_FREQ4A5', 'T_FREQ4A6',\n",
              "       'T_FREQ5A6', 'T_FREQ6', 'T_FREQ6A14', 'T_FREQ6A17',\n",
              "       'T_FREQFUND1517', 'T_FREQFUND1824', 'T_FREQFUND45',\n",
              "       'T_FREQMED1824', 'T_FREQMED614', 'T_FREQSUPER1517', 'T_FUND11A13',\n",
              "       'T_FUND12A14', 'T_FUND15A17', 'T_FUND16A18', 'T_FUND18A24',\n",
              "       'T_FUND18M', 'T_FUND25M', 'T_MED18A20', 'T_MED18A24', 'T_MED18M',\n",
              "       'T_MED19A21', 'T_MED25M', 'T_SUPER25M', 'CORTE1', 'CORTE2',\n",
              "       'CORTE3', 'CORTE4', 'CORTE9', 'GINI', 'PIND', 'PINDCRI', 'PMPOB',\n",
              "       'PMPOBCRI', 'PPOB', 'PPOBCRI', 'PREN10RICOS', 'PREN20',\n",
              "       'PREN20RICOS', 'PREN40', 'PREN60', 'PREN80', 'PRENTRAB', 'R1040',\n",
              "       'R2040', 'RDPC', 'RDPC1', 'RDPC10', 'RDPC2', 'RDPC3', 'RDPC4',\n",
              "       'RDPC5', 'RDPCT', 'RIND', 'RMPOB', 'RPOB', 'THEIL', 'CPR', 'EMP',\n",
              "       'P_AGRO', 'P_COM', 'P_CONSTR', 'P_EXTR', 'P_FORMAL', 'P_FUND',\n",
              "       'P_MED', 'P_SERV', 'P_SIUP', 'P_SUPER', 'P_TRANSF', 'REN0', 'REN1',\n",
              "       'REN2', 'REN3', 'REN5', 'RENOCUP', 'T_ATIV', 'T_ATIV1014',\n",
              "       'T_ATIV1517', 'T_ATIV1824', 'T_ATIV18M', 'T_ATIV2529', 'T_DES',\n",
              "       'T_DES1014', 'T_DES1517', 'T_DES1824', 'T_DES18M', 'T_DES2529',\n",
              "       'THEILtrab', 'TRABCC', 'TRABPUB', 'TRABSC', 'T_AGUA', 'T_BANAGUA',\n",
              "       'T_DENS', 'T_LIXO', 'T_LUZ', 'AGUA_ESGOTO', 'PAREDE',\n",
              "       'T_CRIFUNDIN_TODOS', 'T_FORA4A5', 'T_FORA6A14', 'T_FUNDIN_TODOS',\n",
              "       'T_FUNDIN_TODOS_MMEIO', 'T_FUNDIN18MINF', 'T_M10A14CF',\n",
              "       'T_M15A17CF', 'T_MULCHEFEFIF014', 'T_NESTUDA_NTRAB_MMEIO',\n",
              "       'T_OCUPDESLOC_1', 'T_RMAXIDOSO', 'T_SLUZ', 'HOMEM0A4',\n",
              "       'HOMEM10A14', 'HOMEM15A19', 'HOMEM20A24', 'HOMEM25A29',\n",
              "       'HOMEM30A34', 'HOMEM35A39', 'HOMEM40A44', 'HOMEM45A49',\n",
              "       'HOMEM50A54', 'HOMEM55A59', 'HOMEM5A9', 'HOMEM60A64', 'HOMEM65A69',\n",
              "       'HOMEM70A74', 'HOMEM75A79', 'HOMEMTOT', 'HOMENS80', 'MULH0A4',\n",
              "       'MULH10A14', 'MULH15A19', 'MULH20A24', 'MULH25A29', 'MULH30A34',\n",
              "       'MULH35A39', 'MULH40A44', 'MULH45A49', 'MULH50A54', 'MULH55A59',\n",
              "       'MULH5A9', 'MULH60A64', 'MULH65A69', 'MULH70A74', 'MULH75A79',\n",
              "       'MULHER80', 'MULHERTOT', 'PEA', 'PEA1014', 'PEA1517', 'PEA18M',\n",
              "       'peso1', 'PESO1114', 'PESO1113', 'PESO1214', 'peso13', 'PESO15',\n",
              "       'peso1517', 'PESO1524', 'PESO1618', 'PESO18', 'Peso1820',\n",
              "       'PESO1824', 'Peso1921', 'PESO25', 'peso4', 'peso5', 'peso6',\n",
              "       'PESO610', 'Peso617', 'PESO65', 'PESOM1014', 'PESOM1517',\n",
              "       'PESOM15M', 'PESOM25M', 'pesoRUR', 'pesotot', 'pesourb', 'PIA',\n",
              "       'PIA1014', 'PIA1517', 'PIA18M', 'POP', 'POPT', 'I_ESCOLARIDADE',\n",
              "       'I_FREQ_PROP', 'IDHM', 'IDHM_E', 'IDHM_L', 'IDHM_R'], dtype=object)"
            ]
          },
          "metadata": {
            "tags": []
          },
          "execution_count": 78
        }
      ]
    },
    {
      "cell_type": "code",
      "metadata": {
        "id": "yhNBJoWEFAa1",
        "colab_type": "code",
        "colab": {
          "base_uri": "https://localhost:8080/",
          "height": 390
        },
        "outputId": "984cc738-cb1b-47f2-9ca1-67c8021fc40d"
      },
      "source": [
        "dfIDH_2000[colunas].corr()"
      ],
      "execution_count": 90,
      "outputs": [
        {
          "output_type": "execute_result",
          "data": {
            "text/html": [
              "<div>\n",
              "<style scoped>\n",
              "    .dataframe tbody tr th:only-of-type {\n",
              "        vertical-align: middle;\n",
              "    }\n",
              "\n",
              "    .dataframe tbody tr th {\n",
              "        vertical-align: top;\n",
              "    }\n",
              "\n",
              "    .dataframe thead th {\n",
              "        text-align: right;\n",
              "    }\n",
              "</style>\n",
              "<table border=\"1\" class=\"dataframe\">\n",
              "  <thead>\n",
              "    <tr style=\"text-align: right;\">\n",
              "      <th></th>\n",
              "      <th>ESPVIDA</th>\n",
              "      <th>RDPC</th>\n",
              "      <th>RDPC5</th>\n",
              "      <th>R2040</th>\n",
              "      <th>IDHM</th>\n",
              "      <th>IDHM_E</th>\n",
              "      <th>IDHM_L</th>\n",
              "      <th>IDHM_R</th>\n",
              "      <th>PRENTRAB</th>\n",
              "      <th>pesotot</th>\n",
              "      <th>T_AGUA</th>\n",
              "    </tr>\n",
              "  </thead>\n",
              "  <tbody>\n",
              "    <tr>\n",
              "      <th>ESPVIDA</th>\n",
              "      <td>1.000000</td>\n",
              "      <td>0.773202</td>\n",
              "      <td>0.716352</td>\n",
              "      <td>-0.047916</td>\n",
              "      <td>0.870046</td>\n",
              "      <td>0.782401</td>\n",
              "      <td>0.999991</td>\n",
              "      <td>0.836525</td>\n",
              "      <td>0.478533</td>\n",
              "      <td>0.063670</td>\n",
              "      <td>0.778992</td>\n",
              "    </tr>\n",
              "    <tr>\n",
              "      <th>RDPC</th>\n",
              "      <td>0.773202</td>\n",
              "      <td>1.000000</td>\n",
              "      <td>0.978076</td>\n",
              "      <td>-0.047968</td>\n",
              "      <td>0.878620</td>\n",
              "      <td>0.815036</td>\n",
              "      <td>0.773219</td>\n",
              "      <td>0.948658</td>\n",
              "      <td>0.491496</td>\n",
              "      <td>0.217053</td>\n",
              "      <td>0.732029</td>\n",
              "    </tr>\n",
              "    <tr>\n",
              "      <th>RDPC5</th>\n",
              "      <td>0.716352</td>\n",
              "      <td>0.978076</td>\n",
              "      <td>1.000000</td>\n",
              "      <td>-0.036335</td>\n",
              "      <td>0.827650</td>\n",
              "      <td>0.759186</td>\n",
              "      <td>0.716367</td>\n",
              "      <td>0.919738</td>\n",
              "      <td>0.486461</td>\n",
              "      <td>0.232588</td>\n",
              "      <td>0.679381</td>\n",
              "    </tr>\n",
              "    <tr>\n",
              "      <th>R2040</th>\n",
              "      <td>-0.047916</td>\n",
              "      <td>-0.047968</td>\n",
              "      <td>-0.036335</td>\n",
              "      <td>1.000000</td>\n",
              "      <td>-0.070258</td>\n",
              "      <td>-0.064759</td>\n",
              "      <td>-0.047812</td>\n",
              "      <td>-0.068827</td>\n",
              "      <td>-0.036129</td>\n",
              "      <td>-0.001692</td>\n",
              "      <td>-0.067374</td>\n",
              "    </tr>\n",
              "    <tr>\n",
              "      <th>IDHM</th>\n",
              "      <td>0.870046</td>\n",
              "      <td>0.878620</td>\n",
              "      <td>0.827650</td>\n",
              "      <td>-0.070258</td>\n",
              "      <td>1.000000</td>\n",
              "      <td>0.975847</td>\n",
              "      <td>0.870053</td>\n",
              "      <td>0.929387</td>\n",
              "      <td>0.463161</td>\n",
              "      <td>0.127402</td>\n",
              "      <td>0.864543</td>\n",
              "    </tr>\n",
              "    <tr>\n",
              "      <th>IDHM_E</th>\n",
              "      <td>0.782401</td>\n",
              "      <td>0.815036</td>\n",
              "      <td>0.759186</td>\n",
              "      <td>-0.064759</td>\n",
              "      <td>0.975847</td>\n",
              "      <td>1.000000</td>\n",
              "      <td>0.782391</td>\n",
              "      <td>0.846917</td>\n",
              "      <td>0.370575</td>\n",
              "      <td>0.133621</td>\n",
              "      <td>0.819870</td>\n",
              "    </tr>\n",
              "    <tr>\n",
              "      <th>IDHM_L</th>\n",
              "      <td>0.999991</td>\n",
              "      <td>0.773219</td>\n",
              "      <td>0.716367</td>\n",
              "      <td>-0.047812</td>\n",
              "      <td>0.870053</td>\n",
              "      <td>0.782391</td>\n",
              "      <td>1.000000</td>\n",
              "      <td>0.836550</td>\n",
              "      <td>0.478629</td>\n",
              "      <td>0.063657</td>\n",
              "      <td>0.779022</td>\n",
              "    </tr>\n",
              "    <tr>\n",
              "      <th>IDHM_R</th>\n",
              "      <td>0.836525</td>\n",
              "      <td>0.948658</td>\n",
              "      <td>0.919738</td>\n",
              "      <td>-0.068827</td>\n",
              "      <td>0.929387</td>\n",
              "      <td>0.846917</td>\n",
              "      <td>0.836550</td>\n",
              "      <td>1.000000</td>\n",
              "      <td>0.584028</td>\n",
              "      <td>0.145678</td>\n",
              "      <td>0.825421</td>\n",
              "    </tr>\n",
              "    <tr>\n",
              "      <th>PRENTRAB</th>\n",
              "      <td>0.478533</td>\n",
              "      <td>0.491496</td>\n",
              "      <td>0.486461</td>\n",
              "      <td>-0.036129</td>\n",
              "      <td>0.463161</td>\n",
              "      <td>0.370575</td>\n",
              "      <td>0.478629</td>\n",
              "      <td>0.584028</td>\n",
              "      <td>1.000000</td>\n",
              "      <td>0.024013</td>\n",
              "      <td>0.395475</td>\n",
              "    </tr>\n",
              "    <tr>\n",
              "      <th>pesotot</th>\n",
              "      <td>0.063670</td>\n",
              "      <td>0.217053</td>\n",
              "      <td>0.232588</td>\n",
              "      <td>-0.001692</td>\n",
              "      <td>0.127402</td>\n",
              "      <td>0.133621</td>\n",
              "      <td>0.063657</td>\n",
              "      <td>0.145678</td>\n",
              "      <td>0.024013</td>\n",
              "      <td>1.000000</td>\n",
              "      <td>0.072851</td>\n",
              "    </tr>\n",
              "    <tr>\n",
              "      <th>T_AGUA</th>\n",
              "      <td>0.778992</td>\n",
              "      <td>0.732029</td>\n",
              "      <td>0.679381</td>\n",
              "      <td>-0.067374</td>\n",
              "      <td>0.864543</td>\n",
              "      <td>0.819870</td>\n",
              "      <td>0.779022</td>\n",
              "      <td>0.825421</td>\n",
              "      <td>0.395475</td>\n",
              "      <td>0.072851</td>\n",
              "      <td>1.000000</td>\n",
              "    </tr>\n",
              "  </tbody>\n",
              "</table>\n",
              "</div>"
            ],
            "text/plain": [
              "           ESPVIDA      RDPC     RDPC5  ...  PRENTRAB   pesotot    T_AGUA\n",
              "ESPVIDA   1.000000  0.773202  0.716352  ...  0.478533  0.063670  0.778992\n",
              "RDPC      0.773202  1.000000  0.978076  ...  0.491496  0.217053  0.732029\n",
              "RDPC5     0.716352  0.978076  1.000000  ...  0.486461  0.232588  0.679381\n",
              "R2040    -0.047916 -0.047968 -0.036335  ... -0.036129 -0.001692 -0.067374\n",
              "IDHM      0.870046  0.878620  0.827650  ...  0.463161  0.127402  0.864543\n",
              "IDHM_E    0.782401  0.815036  0.759186  ...  0.370575  0.133621  0.819870\n",
              "IDHM_L    0.999991  0.773219  0.716367  ...  0.478629  0.063657  0.779022\n",
              "IDHM_R    0.836525  0.948658  0.919738  ...  0.584028  0.145678  0.825421\n",
              "PRENTRAB  0.478533  0.491496  0.486461  ...  1.000000  0.024013  0.395475\n",
              "pesotot   0.063670  0.217053  0.232588  ...  0.024013  1.000000  0.072851\n",
              "T_AGUA    0.778992  0.732029  0.679381  ...  0.395475  0.072851  1.000000\n",
              "\n",
              "[11 rows x 11 columns]"
            ]
          },
          "metadata": {
            "tags": []
          },
          "execution_count": 90
        }
      ]
    },
    {
      "cell_type": "code",
      "metadata": {
        "id": "UFijkRzUGsRq",
        "colab_type": "code",
        "colab": {}
      },
      "source": [
        ""
      ],
      "execution_count": 0,
      "outputs": []
    }
  ]
}
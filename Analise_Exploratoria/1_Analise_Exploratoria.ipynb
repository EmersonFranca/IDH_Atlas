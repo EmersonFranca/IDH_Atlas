{
  "nbformat": 4,
  "nbformat_minor": 0,
  "metadata": {
    "colab": {
      "name": "1 Analise Exploratoria.ipynb",
      "provenance": [],
      "authorship_tag": "ABX9TyOgu09KlF0kA7aokkSBP//u",
      "include_colab_link": true
    },
    "kernelspec": {
      "name": "python3",
      "display_name": "Python 3"
    }
  },
  "cells": [
    {
      "cell_type": "markdown",
      "metadata": {
        "id": "view-in-github",
        "colab_type": "text"
      },
      "source": [
        "<a href=\"https://colab.research.google.com/github/EmersonFranca/IDH_Atlas/blob/master/Analise_Exploratoria/1_Analise_Exploratoria.ipynb\" target=\"_parent\"><img src=\"https://colab.research.google.com/assets/colab-badge.svg\" alt=\"Open In Colab\"/></a>"
      ]
    },
    {
      "cell_type": "markdown",
      "metadata": {
        "id": "OPjPkFy652St",
        "colab_type": "text"
      },
      "source": [
        "# 1. Importando bibliotecas"
      ]
    },
    {
      "cell_type": "code",
      "metadata": {
        "id": "m-MErDYB5TKu",
        "colab_type": "code",
        "outputId": "e94d1e6d-d343-469c-880e-fd2af3415877",
        "colab": {
          "base_uri": "https://localhost:8080/",
          "height": 71
        }
      },
      "source": [
        "import pandas as pd\n",
        "import numpy as np\n",
        "import seaborn as sns\n",
        "import matplotlib.pyplot as plt"
      ],
      "execution_count": 2,
      "outputs": [
        {
          "output_type": "stream",
          "text": [
            "/usr/local/lib/python3.6/dist-packages/statsmodels/tools/_testing.py:19: FutureWarning: pandas.util.testing is deprecated. Use the functions in the public API at pandas.testing instead.\n",
            "  import pandas.util.testing as tm\n"
          ],
          "name": "stderr"
        }
      ]
    },
    {
      "cell_type": "markdown",
      "metadata": {
        "id": "UiEJFeS159_s",
        "colab_type": "text"
      },
      "source": [
        "# 2. Versões das bibliotecas importadas"
      ]
    },
    {
      "cell_type": "code",
      "metadata": {
        "id": "vs0pijWG51ck",
        "colab_type": "code",
        "outputId": "25400d5e-1783-4d41-9314-3643fed1d2a5",
        "colab": {
          "base_uri": "https://localhost:8080/",
          "height": 68
        }
      },
      "source": [
        "print(pd.__version__)\n",
        "print(np.__version__)\n",
        "print(sns.__version__)\n"
      ],
      "execution_count": 3,
      "outputs": [
        {
          "output_type": "stream",
          "text": [
            "1.0.3\n",
            "1.18.4\n",
            "0.10.1\n"
          ],
          "name": "stdout"
        }
      ]
    },
    {
      "cell_type": "markdown",
      "metadata": {
        "id": "QzpvS3WG6WWp",
        "colab_type": "text"
      },
      "source": [
        "# 3. Importando os dados"
      ]
    },
    {
      "cell_type": "code",
      "metadata": {
        "id": "uv6OHjnJ6Ti8",
        "colab_type": "code",
        "colab": {}
      },
      "source": [
        "URL_IDH_1991 = \"https://github.com/EmersonFranca/IDH_Atlas/blob/master/Dados/IDH_1991.csv?raw=true\"\n",
        "URL_IDH_2000 = \"https://github.com/EmersonFranca/IDH_Atlas/blob/master/Dados/IDH_2000.csv?raw=true\"\n",
        "URL_IDH_2010 = \"https://github.com/EmersonFranca/IDH_Atlas/blob/master/Dados/IDH_2010.csv?raw=true\""
      ],
      "execution_count": 0,
      "outputs": []
    },
    {
      "cell_type": "code",
      "metadata": {
        "id": "TAjihqeN626b",
        "colab_type": "code",
        "colab": {}
      },
      "source": [
        "dfIDH_2000 = pd.read_csv(URL_IDH_2000,sep=';')"
      ],
      "execution_count": 0,
      "outputs": []
    },
    {
      "cell_type": "code",
      "metadata": {
        "id": "JKxr2hzH6599",
        "colab_type": "code",
        "outputId": "8e72f646-094c-482f-927a-d4faf34aedc0",
        "colab": {
          "base_uri": "https://localhost:8080/",
          "height": 287
        }
      },
      "source": [
        "dfIDH_2000.head()"
      ],
      "execution_count": 6,
      "outputs": [
        {
          "output_type": "execute_result",
          "data": {
            "text/html": [
              "<div>\n",
              "<style scoped>\n",
              "    .dataframe tbody tr th:only-of-type {\n",
              "        vertical-align: middle;\n",
              "    }\n",
              "\n",
              "    .dataframe tbody tr th {\n",
              "        vertical-align: top;\n",
              "    }\n",
              "\n",
              "    .dataframe thead th {\n",
              "        text-align: right;\n",
              "    }\n",
              "</style>\n",
              "<table border=\"1\" class=\"dataframe\">\n",
              "  <thead>\n",
              "    <tr style=\"text-align: right;\">\n",
              "      <th></th>\n",
              "      <th>ANO</th>\n",
              "      <th>UF</th>\n",
              "      <th>Codmun6</th>\n",
              "      <th>Codmun7</th>\n",
              "      <th>Município</th>\n",
              "      <th>ESPVIDA</th>\n",
              "      <th>FECTOT</th>\n",
              "      <th>MORT1</th>\n",
              "      <th>MORT5</th>\n",
              "      <th>RAZDEP</th>\n",
              "      <th>SOBRE40</th>\n",
              "      <th>SOBRE60</th>\n",
              "      <th>T_ENV</th>\n",
              "      <th>E_ANOSESTUDO</th>\n",
              "      <th>T_ANALF11A14</th>\n",
              "      <th>T_ANALF15A17</th>\n",
              "      <th>T_ANALF15M</th>\n",
              "      <th>T_ANALF18A24</th>\n",
              "      <th>T_ANALF18M</th>\n",
              "      <th>T_ANALF25A29</th>\n",
              "      <th>T_ANALF25M</th>\n",
              "      <th>T_ATRASO_0_BASICO</th>\n",
              "      <th>T_ATRASO_0_FUND</th>\n",
              "      <th>T_ATRASO_0_MED</th>\n",
              "      <th>T_ATRASO_1_BASICO</th>\n",
              "      <th>T_ATRASO_1_FUND</th>\n",
              "      <th>T_ATRASO_1_MED</th>\n",
              "      <th>T_ATRASO_2_BASICO</th>\n",
              "      <th>T_ATRASO_2_FUND</th>\n",
              "      <th>T_ATRASO_2_MED</th>\n",
              "      <th>T_FBBAS</th>\n",
              "      <th>T_FBFUND</th>\n",
              "      <th>T_FBMED</th>\n",
              "      <th>T_FBPRE</th>\n",
              "      <th>T_FBSUPER</th>\n",
              "      <th>T_FLBAS</th>\n",
              "      <th>T_FLFUND</th>\n",
              "      <th>T_FLMED</th>\n",
              "      <th>T_FLPRE</th>\n",
              "      <th>T_FLSUPER</th>\n",
              "      <th>...</th>\n",
              "      <th>PEA18M</th>\n",
              "      <th>peso1</th>\n",
              "      <th>PESO1114</th>\n",
              "      <th>PESO1113</th>\n",
              "      <th>PESO1214</th>\n",
              "      <th>peso13</th>\n",
              "      <th>PESO15</th>\n",
              "      <th>peso1517</th>\n",
              "      <th>PESO1524</th>\n",
              "      <th>PESO1618</th>\n",
              "      <th>PESO18</th>\n",
              "      <th>Peso1820</th>\n",
              "      <th>PESO1824</th>\n",
              "      <th>Peso1921</th>\n",
              "      <th>PESO25</th>\n",
              "      <th>peso4</th>\n",
              "      <th>peso5</th>\n",
              "      <th>peso6</th>\n",
              "      <th>PESO610</th>\n",
              "      <th>Peso617</th>\n",
              "      <th>PESO65</th>\n",
              "      <th>PESOM1014</th>\n",
              "      <th>PESOM1517</th>\n",
              "      <th>PESOM15M</th>\n",
              "      <th>PESOM25M</th>\n",
              "      <th>pesoRUR</th>\n",
              "      <th>pesotot</th>\n",
              "      <th>pesourb</th>\n",
              "      <th>PIA</th>\n",
              "      <th>PIA1014</th>\n",
              "      <th>PIA1517</th>\n",
              "      <th>PIA18M</th>\n",
              "      <th>POP</th>\n",
              "      <th>POPT</th>\n",
              "      <th>I_ESCOLARIDADE</th>\n",
              "      <th>I_FREQ_PROP</th>\n",
              "      <th>IDHM</th>\n",
              "      <th>IDHM_E</th>\n",
              "      <th>IDHM_L</th>\n",
              "      <th>IDHM_R</th>\n",
              "    </tr>\n",
              "  </thead>\n",
              "  <tbody>\n",
              "    <tr>\n",
              "      <th>0</th>\n",
              "      <td>2000</td>\n",
              "      <td>11</td>\n",
              "      <td>110001</td>\n",
              "      <td>1100015</td>\n",
              "      <td>ALTA FLORESTA D'OESTE</td>\n",
              "      <td>66,90</td>\n",
              "      <td>3,11</td>\n",
              "      <td>28,36</td>\n",
              "      <td>33,96</td>\n",
              "      <td>61,65</td>\n",
              "      <td>89,61</td>\n",
              "      <td>75,40</td>\n",
              "      <td>3,35</td>\n",
              "      <td>7,76</td>\n",
              "      <td>2,32</td>\n",
              "      <td>2,60</td>\n",
              "      <td>15,84</td>\n",
              "      <td>4,11</td>\n",
              "      <td>17,42</td>\n",
              "      <td>6,37</td>\n",
              "      <td>21,54</td>\n",
              "      <td>49,82</td>\n",
              "      <td>54,43</td>\n",
              "      <td>62,62</td>\n",
              "      <td>25,57</td>\n",
              "      <td>26,10</td>\n",
              "      <td>34,18</td>\n",
              "      <td>24,62</td>\n",
              "      <td>19,47</td>\n",
              "      <td>3,21</td>\n",
              "      <td>85,50</td>\n",
              "      <td>99,90</td>\n",
              "      <td>40,47</td>\n",
              "      <td>9,63</td>\n",
              "      <td>5,19</td>\n",
              "      <td>76,88</td>\n",
              "      <td>85,59</td>\n",
              "      <td>18,01</td>\n",
              "      <td>9,63</td>\n",
              "      <td>2,22</td>\n",
              "      <td>...</td>\n",
              "      <td>10724</td>\n",
              "      <td>515</td>\n",
              "      <td>2453</td>\n",
              "      <td>1899</td>\n",
              "      <td>1780</td>\n",
              "      <td>1747</td>\n",
              "      <td>17300</td>\n",
              "      <td>1848</td>\n",
              "      <td>5502</td>\n",
              "      <td>1793</td>\n",
              "      <td>15458</td>\n",
              "      <td>1699</td>\n",
              "      <td>3654</td>\n",
              "      <td>1588</td>\n",
              "      <td>11802</td>\n",
              "      <td>606</td>\n",
              "      <td>655</td>\n",
              "      <td>634</td>\n",
              "      <td>3251</td>\n",
              "      <td>7552</td>\n",
              "      <td>890</td>\n",
              "      <td>1532</td>\n",
              "      <td>895</td>\n",
              "      <td>8123</td>\n",
              "      <td>5437</td>\n",
              "      <td>14192</td>\n",
              "      <td>26533</td>\n",
              "      <td>12341</td>\n",
              "      <td>20346</td>\n",
              "      <td>3040</td>\n",
              "      <td>1830</td>\n",
              "      <td>15476</td>\n",
              "      <td>25920</td>\n",
              "      <td>24888</td>\n",
              "      <td>0,195</td>\n",
              "      <td>0,303</td>\n",
              "      <td>0,483</td>\n",
              "      <td>0,262</td>\n",
              "      <td>0,698</td>\n",
              "      <td>0,617</td>\n",
              "    </tr>\n",
              "    <tr>\n",
              "      <th>1</th>\n",
              "      <td>2000</td>\n",
              "      <td>11</td>\n",
              "      <td>110002</td>\n",
              "      <td>1100023</td>\n",
              "      <td>ARIQUEMES</td>\n",
              "      <td>69,52</td>\n",
              "      <td>2,77</td>\n",
              "      <td>21,68</td>\n",
              "      <td>25,99</td>\n",
              "      <td>59,88</td>\n",
              "      <td>91,91</td>\n",
              "      <td>80,15</td>\n",
              "      <td>2,92</td>\n",
              "      <td>7,61</td>\n",
              "      <td>2,64</td>\n",
              "      <td>2,52</td>\n",
              "      <td>11,77</td>\n",
              "      <td>3,57</td>\n",
              "      <td>12,81</td>\n",
              "      <td>5,28</td>\n",
              "      <td>15,76</td>\n",
              "      <td>52,48</td>\n",
              "      <td>58,38</td>\n",
              "      <td>54,89</td>\n",
              "      <td>21,16</td>\n",
              "      <td>21,67</td>\n",
              "      <td>24,89</td>\n",
              "      <td>26,35</td>\n",
              "      <td>19,96</td>\n",
              "      <td>20,22</td>\n",
              "      <td>65,70</td>\n",
              "      <td>76,08</td>\n",
              "      <td>34,92</td>\n",
              "      <td>20,81</td>\n",
              "      <td>6,57</td>\n",
              "      <td>55,27</td>\n",
              "      <td>61,64</td>\n",
              "      <td>13,88</td>\n",
              "      <td>18,93</td>\n",
              "      <td>2,03</td>\n",
              "      <td>...</td>\n",
              "      <td>29999</td>\n",
              "      <td>1784</td>\n",
              "      <td>6771</td>\n",
              "      <td>5112</td>\n",
              "      <td>5027</td>\n",
              "      <td>5075</td>\n",
              "      <td>48771</td>\n",
              "      <td>4922</td>\n",
              "      <td>15534</td>\n",
              "      <td>5040</td>\n",
              "      <td>43857</td>\n",
              "      <td>4812</td>\n",
              "      <td>10612</td>\n",
              "      <td>4550</td>\n",
              "      <td>33238</td>\n",
              "      <td>1816</td>\n",
              "      <td>1840</td>\n",
              "      <td>1720</td>\n",
              "      <td>8438</td>\n",
              "      <td>20131</td>\n",
              "      <td>2178</td>\n",
              "      <td>4206</td>\n",
              "      <td>2527</td>\n",
              "      <td>23904</td>\n",
              "      <td>16013</td>\n",
              "      <td>19385</td>\n",
              "      <td>74503</td>\n",
              "      <td>55118</td>\n",
              "      <td>57064</td>\n",
              "      <td>8285</td>\n",
              "      <td>5190</td>\n",
              "      <td>43589</td>\n",
              "      <td>71789</td>\n",
              "      <td>69829</td>\n",
              "      <td>0,314</td>\n",
              "      <td>0,358</td>\n",
              "      <td>0,556</td>\n",
              "      <td>0,343</td>\n",
              "      <td>0,742</td>\n",
              "      <td>0,674</td>\n",
              "    </tr>\n",
              "    <tr>\n",
              "      <th>2</th>\n",
              "      <td>2000</td>\n",
              "      <td>11</td>\n",
              "      <td>110003</td>\n",
              "      <td>1100031</td>\n",
              "      <td>CABIXI</td>\n",
              "      <td>65,62</td>\n",
              "      <td>2,95</td>\n",
              "      <td>31,99</td>\n",
              "      <td>38,27</td>\n",
              "      <td>60,81</td>\n",
              "      <td>88,40</td>\n",
              "      <td>73,03</td>\n",
              "      <td>4,56</td>\n",
              "      <td>8,02</td>\n",
              "      <td>3,24</td>\n",
              "      <td>2,46</td>\n",
              "      <td>17,50</td>\n",
              "      <td>2,99</td>\n",
              "      <td>19,42</td>\n",
              "      <td>5,31</td>\n",
              "      <td>23,80</td>\n",
              "      <td>46,67</td>\n",
              "      <td>53,61</td>\n",
              "      <td>53,44</td>\n",
              "      <td>23,55</td>\n",
              "      <td>24,82</td>\n",
              "      <td>29,98</td>\n",
              "      <td>29,79</td>\n",
              "      <td>21,57</td>\n",
              "      <td>16,58</td>\n",
              "      <td>87,72</td>\n",
              "      <td>108,11</td>\n",
              "      <td>35,20</td>\n",
              "      <td>35,97</td>\n",
              "      <td>8,50</td>\n",
              "      <td>78,95</td>\n",
              "      <td>87,31</td>\n",
              "      <td>18,52</td>\n",
              "      <td>31,32</td>\n",
              "      <td>0,00</td>\n",
              "      <td>...</td>\n",
              "      <td>2780</td>\n",
              "      <td>153</td>\n",
              "      <td>771</td>\n",
              "      <td>572</td>\n",
              "      <td>581</td>\n",
              "      <td>462</td>\n",
              "      <td>5018</td>\n",
              "      <td>570</td>\n",
              "      <td>1506</td>\n",
              "      <td>551</td>\n",
              "      <td>4448</td>\n",
              "      <td>449</td>\n",
              "      <td>936</td>\n",
              "      <td>412</td>\n",
              "      <td>3512</td>\n",
              "      <td>139</td>\n",
              "      <td>172</td>\n",
              "      <td>157</td>\n",
              "      <td>803</td>\n",
              "      <td>2144</td>\n",
              "      <td>343</td>\n",
              "      <td>451</td>\n",
              "      <td>277</td>\n",
              "      <td>2318</td>\n",
              "      <td>1601</td>\n",
              "      <td>4846</td>\n",
              "      <td>7518</td>\n",
              "      <td>2672</td>\n",
              "      <td>5945</td>\n",
              "      <td>927</td>\n",
              "      <td>591</td>\n",
              "      <td>4427</td>\n",
              "      <td>7474</td>\n",
              "      <td>7076</td>\n",
              "      <td>0,177</td>\n",
              "      <td>0,359</td>\n",
              "      <td>0,488</td>\n",
              "      <td>0,284</td>\n",
              "      <td>0,677</td>\n",
              "      <td>0,604</td>\n",
              "    </tr>\n",
              "    <tr>\n",
              "      <th>3</th>\n",
              "      <td>2000</td>\n",
              "      <td>11</td>\n",
              "      <td>110004</td>\n",
              "      <td>1100049</td>\n",
              "      <td>CACOAL</td>\n",
              "      <td>69,70</td>\n",
              "      <td>2,34</td>\n",
              "      <td>21,27</td>\n",
              "      <td>25,50</td>\n",
              "      <td>57,28</td>\n",
              "      <td>92,05</td>\n",
              "      <td>80,46</td>\n",
              "      <td>3,82</td>\n",
              "      <td>8,25</td>\n",
              "      <td>1,63</td>\n",
              "      <td>1,90</td>\n",
              "      <td>12,14</td>\n",
              "      <td>2,59</td>\n",
              "      <td>13,24</td>\n",
              "      <td>4,64</td>\n",
              "      <td>16,56</td>\n",
              "      <td>52,51</td>\n",
              "      <td>57,85</td>\n",
              "      <td>64,69</td>\n",
              "      <td>22,44</td>\n",
              "      <td>23,23</td>\n",
              "      <td>28,79</td>\n",
              "      <td>25,05</td>\n",
              "      <td>18,92</td>\n",
              "      <td>6,52</td>\n",
              "      <td>89,49</td>\n",
              "      <td>104,49</td>\n",
              "      <td>44,25</td>\n",
              "      <td>23,62</td>\n",
              "      <td>8,75</td>\n",
              "      <td>79,88</td>\n",
              "      <td>87,28</td>\n",
              "      <td>23,27</td>\n",
              "      <td>22,64</td>\n",
              "      <td>3,78</td>\n",
              "      <td>...</td>\n",
              "      <td>30480</td>\n",
              "      <td>1431</td>\n",
              "      <td>6691</td>\n",
              "      <td>5032</td>\n",
              "      <td>5015</td>\n",
              "      <td>4574</td>\n",
              "      <td>49586</td>\n",
              "      <td>4839</td>\n",
              "      <td>15456</td>\n",
              "      <td>4944</td>\n",
              "      <td>44752</td>\n",
              "      <td>4893</td>\n",
              "      <td>10617</td>\n",
              "      <td>4689</td>\n",
              "      <td>34132</td>\n",
              "      <td>1572</td>\n",
              "      <td>1615</td>\n",
              "      <td>1670</td>\n",
              "      <td>8094</td>\n",
              "      <td>19624</td>\n",
              "      <td>2813</td>\n",
              "      <td>4135</td>\n",
              "      <td>2361</td>\n",
              "      <td>24582</td>\n",
              "      <td>16848</td>\n",
              "      <td>22170</td>\n",
              "      <td>73568</td>\n",
              "      <td>51398</td>\n",
              "      <td>57913</td>\n",
              "      <td>8322</td>\n",
              "      <td>4926</td>\n",
              "      <td>44665</td>\n",
              "      <td>73104</td>\n",
              "      <td>71703</td>\n",
              "      <td>0,310</td>\n",
              "      <td>0,416</td>\n",
              "      <td>0,567</td>\n",
              "      <td>0,377</td>\n",
              "      <td>0,745</td>\n",
              "      <td>0,650</td>\n",
              "    </tr>\n",
              "    <tr>\n",
              "      <th>4</th>\n",
              "      <td>2000</td>\n",
              "      <td>11</td>\n",
              "      <td>110005</td>\n",
              "      <td>1100056</td>\n",
              "      <td>CEREJEIRAS</td>\n",
              "      <td>67,22</td>\n",
              "      <td>2,44</td>\n",
              "      <td>27,50</td>\n",
              "      <td>32,93</td>\n",
              "      <td>59,85</td>\n",
              "      <td>89,90</td>\n",
              "      <td>75,99</td>\n",
              "      <td>4,56</td>\n",
              "      <td>9,13</td>\n",
              "      <td>1,25</td>\n",
              "      <td>1,72</td>\n",
              "      <td>13,90</td>\n",
              "      <td>2,59</td>\n",
              "      <td>15,26</td>\n",
              "      <td>4,22</td>\n",
              "      <td>18,79</td>\n",
              "      <td>56,58</td>\n",
              "      <td>63,87</td>\n",
              "      <td>69,59</td>\n",
              "      <td>19,73</td>\n",
              "      <td>19,47</td>\n",
              "      <td>28,06</td>\n",
              "      <td>23,68</td>\n",
              "      <td>16,66</td>\n",
              "      <td>2,34</td>\n",
              "      <td>94,71</td>\n",
              "      <td>109,38</td>\n",
              "      <td>46,34</td>\n",
              "      <td>15,22</td>\n",
              "      <td>12,34</td>\n",
              "      <td>85,14</td>\n",
              "      <td>89,75</td>\n",
              "      <td>23,26</td>\n",
              "      <td>14,04</td>\n",
              "      <td>5,89</td>\n",
              "      <td>...</td>\n",
              "      <td>7488</td>\n",
              "      <td>332</td>\n",
              "      <td>1758</td>\n",
              "      <td>1303</td>\n",
              "      <td>1326</td>\n",
              "      <td>1091</td>\n",
              "      <td>12220</td>\n",
              "      <td>1223</td>\n",
              "      <td>3619</td>\n",
              "      <td>1201</td>\n",
              "      <td>10997</td>\n",
              "      <td>1102</td>\n",
              "      <td>2396</td>\n",
              "      <td>1041</td>\n",
              "      <td>8601</td>\n",
              "      <td>342</td>\n",
              "      <td>425</td>\n",
              "      <td>416</td>\n",
              "      <td>2039</td>\n",
              "      <td>5020</td>\n",
              "      <td>830</td>\n",
              "      <td>1050</td>\n",
              "      <td>600</td>\n",
              "      <td>5971</td>\n",
              "      <td>4178</td>\n",
              "      <td>3361</td>\n",
              "      <td>18207</td>\n",
              "      <td>14846</td>\n",
              "      <td>14358</td>\n",
              "      <td>2138</td>\n",
              "      <td>1169</td>\n",
              "      <td>11051</td>\n",
              "      <td>18056</td>\n",
              "      <td>17283</td>\n",
              "      <td>0,247</td>\n",
              "      <td>0,395</td>\n",
              "      <td>0,542</td>\n",
              "      <td>0,338</td>\n",
              "      <td>0,704</td>\n",
              "      <td>0,668</td>\n",
              "    </tr>\n",
              "  </tbody>\n",
              "</table>\n",
              "<p>5 rows × 237 columns</p>\n",
              "</div>"
            ],
            "text/plain": [
              "    ANO  UF  Codmun6  Codmun7  ...   IDHM IDHM_E IDHM_L IDHM_R\n",
              "0  2000  11   110001  1100015  ...  0,483  0,262  0,698  0,617\n",
              "1  2000  11   110002  1100023  ...  0,556  0,343  0,742  0,674\n",
              "2  2000  11   110003  1100031  ...  0,488  0,284  0,677  0,604\n",
              "3  2000  11   110004  1100049  ...  0,567  0,377  0,745  0,650\n",
              "4  2000  11   110005  1100056  ...  0,542  0,338  0,704  0,668\n",
              "\n",
              "[5 rows x 237 columns]"
            ]
          },
          "metadata": {
            "tags": []
          },
          "execution_count": 6
        }
      ]
    },
    {
      "cell_type": "markdown",
      "metadata": {
        "id": "4FWQoEzp7JD1",
        "colab_type": "text"
      },
      "source": [
        "# 4. Comparando com os outros anos"
      ]
    },
    {
      "cell_type": "code",
      "metadata": {
        "id": "vl1Qz_1P67qT",
        "colab_type": "code",
        "colab": {}
      },
      "source": [
        "dfIDH_1991 = pd.read_csv(URL_IDH_1991,sep=';')\n",
        "dfIDH_2010 = pd.read_csv(URL_IDH_2010,sep=';')"
      ],
      "execution_count": 0,
      "outputs": []
    },
    {
      "cell_type": "code",
      "metadata": {
        "id": "9A22oa74-NcM",
        "colab_type": "code",
        "colab": {}
      },
      "source": [
        "colunas_idh = ['IDHM', 'IDHM_E', 'IDHM_L', 'IDHM_R']"
      ],
      "execution_count": 0,
      "outputs": []
    },
    {
      "cell_type": "code",
      "metadata": {
        "id": "XfGxXvUp93qm",
        "colab_type": "code",
        "outputId": "eab027d7-0e6d-492e-aa77-6c3361e199f9",
        "colab": {
          "base_uri": "https://localhost:8080/",
          "height": 297
        }
      },
      "source": [
        "dfIDH_1991[colunas_idh].describe()"
      ],
      "execution_count": 13,
      "outputs": [
        {
          "output_type": "execute_result",
          "data": {
            "text/html": [
              "<div>\n",
              "<style scoped>\n",
              "    .dataframe tbody tr th:only-of-type {\n",
              "        vertical-align: middle;\n",
              "    }\n",
              "\n",
              "    .dataframe tbody tr th {\n",
              "        vertical-align: top;\n",
              "    }\n",
              "\n",
              "    .dataframe thead th {\n",
              "        text-align: right;\n",
              "    }\n",
              "</style>\n",
              "<table border=\"1\" class=\"dataframe\">\n",
              "  <thead>\n",
              "    <tr style=\"text-align: right;\">\n",
              "      <th></th>\n",
              "      <th>IDHM</th>\n",
              "      <th>IDHM_E</th>\n",
              "      <th>IDHM_L</th>\n",
              "      <th>IDHM_R</th>\n",
              "    </tr>\n",
              "  </thead>\n",
              "  <tbody>\n",
              "    <tr>\n",
              "      <th>count</th>\n",
              "      <td>5565.000000</td>\n",
              "      <td>5565.000000</td>\n",
              "      <td>5565.000000</td>\n",
              "      <td>5565.000000</td>\n",
              "    </tr>\n",
              "    <tr>\n",
              "      <th>mean</th>\n",
              "      <td>0.381372</td>\n",
              "      <td>0.178705</td>\n",
              "      <td>0.645658</td>\n",
              "      <td>0.514515</td>\n",
              "    </tr>\n",
              "    <tr>\n",
              "      <th>std</th>\n",
              "      <td>0.103097</td>\n",
              "      <td>0.091976</td>\n",
              "      <td>0.078733</td>\n",
              "      <td>0.096943</td>\n",
              "    </tr>\n",
              "    <tr>\n",
              "      <th>min</th>\n",
              "      <td>0.120000</td>\n",
              "      <td>0.010000</td>\n",
              "      <td>0.433000</td>\n",
              "      <td>0.229000</td>\n",
              "    </tr>\n",
              "    <tr>\n",
              "      <th>25%</th>\n",
              "      <td>0.299000</td>\n",
              "      <td>0.106000</td>\n",
              "      <td>0.587000</td>\n",
              "      <td>0.435000</td>\n",
              "    </tr>\n",
              "    <tr>\n",
              "      <th>50%</th>\n",
              "      <td>0.382000</td>\n",
              "      <td>0.168000</td>\n",
              "      <td>0.658000</td>\n",
              "      <td>0.518000</td>\n",
              "    </tr>\n",
              "    <tr>\n",
              "      <th>75%</th>\n",
              "      <td>0.463000</td>\n",
              "      <td>0.245000</td>\n",
              "      <td>0.710000</td>\n",
              "      <td>0.590000</td>\n",
              "    </tr>\n",
              "    <tr>\n",
              "      <th>max</th>\n",
              "      <td>0.697000</td>\n",
              "      <td>0.557000</td>\n",
              "      <td>0.810000</td>\n",
              "      <td>0.803000</td>\n",
              "    </tr>\n",
              "  </tbody>\n",
              "</table>\n",
              "</div>"
            ],
            "text/plain": [
              "              IDHM       IDHM_E       IDHM_L       IDHM_R\n",
              "count  5565.000000  5565.000000  5565.000000  5565.000000\n",
              "mean      0.381372     0.178705     0.645658     0.514515\n",
              "std       0.103097     0.091976     0.078733     0.096943\n",
              "min       0.120000     0.010000     0.433000     0.229000\n",
              "25%       0.299000     0.106000     0.587000     0.435000\n",
              "50%       0.382000     0.168000     0.658000     0.518000\n",
              "75%       0.463000     0.245000     0.710000     0.590000\n",
              "max       0.697000     0.557000     0.810000     0.803000"
            ]
          },
          "metadata": {
            "tags": []
          },
          "execution_count": 13
        }
      ]
    },
    {
      "cell_type": "code",
      "metadata": {
        "id": "ILbmuyBrzdgI",
        "colab_type": "code",
        "colab": {}
      },
      "source": [
        ""
      ],
      "execution_count": 0,
      "outputs": []
    },
    {
      "cell_type": "markdown",
      "metadata": {
        "id": "6zDMAsB00hYw",
        "colab_type": "text"
      },
      "source": [
        "# 5. Explorando os dados"
      ]
    },
    {
      "cell_type": "code",
      "metadata": {
        "id": "w-EGgn-k0jzi",
        "colab_type": "code",
        "colab": {
          "base_uri": "https://localhost:8080/",
          "height": 297
        },
        "outputId": "cd09e0b9-5d7b-4ae0-da03-afe5f8a142b1"
      },
      "source": [
        "dfIDH_1991[colunas_idh].describe()"
      ],
      "execution_count": 15,
      "outputs": [
        {
          "output_type": "execute_result",
          "data": {
            "text/html": [
              "<div>\n",
              "<style scoped>\n",
              "    .dataframe tbody tr th:only-of-type {\n",
              "        vertical-align: middle;\n",
              "    }\n",
              "\n",
              "    .dataframe tbody tr th {\n",
              "        vertical-align: top;\n",
              "    }\n",
              "\n",
              "    .dataframe thead th {\n",
              "        text-align: right;\n",
              "    }\n",
              "</style>\n",
              "<table border=\"1\" class=\"dataframe\">\n",
              "  <thead>\n",
              "    <tr style=\"text-align: right;\">\n",
              "      <th></th>\n",
              "      <th>IDHM</th>\n",
              "      <th>IDHM_E</th>\n",
              "      <th>IDHM_L</th>\n",
              "      <th>IDHM_R</th>\n",
              "    </tr>\n",
              "  </thead>\n",
              "  <tbody>\n",
              "    <tr>\n",
              "      <th>count</th>\n",
              "      <td>5565.000000</td>\n",
              "      <td>5565.000000</td>\n",
              "      <td>5565.000000</td>\n",
              "      <td>5565.000000</td>\n",
              "    </tr>\n",
              "    <tr>\n",
              "      <th>mean</th>\n",
              "      <td>0.381372</td>\n",
              "      <td>0.178705</td>\n",
              "      <td>0.645658</td>\n",
              "      <td>0.514515</td>\n",
              "    </tr>\n",
              "    <tr>\n",
              "      <th>std</th>\n",
              "      <td>0.103097</td>\n",
              "      <td>0.091976</td>\n",
              "      <td>0.078733</td>\n",
              "      <td>0.096943</td>\n",
              "    </tr>\n",
              "    <tr>\n",
              "      <th>min</th>\n",
              "      <td>0.120000</td>\n",
              "      <td>0.010000</td>\n",
              "      <td>0.433000</td>\n",
              "      <td>0.229000</td>\n",
              "    </tr>\n",
              "    <tr>\n",
              "      <th>25%</th>\n",
              "      <td>0.299000</td>\n",
              "      <td>0.106000</td>\n",
              "      <td>0.587000</td>\n",
              "      <td>0.435000</td>\n",
              "    </tr>\n",
              "    <tr>\n",
              "      <th>50%</th>\n",
              "      <td>0.382000</td>\n",
              "      <td>0.168000</td>\n",
              "      <td>0.658000</td>\n",
              "      <td>0.518000</td>\n",
              "    </tr>\n",
              "    <tr>\n",
              "      <th>75%</th>\n",
              "      <td>0.463000</td>\n",
              "      <td>0.245000</td>\n",
              "      <td>0.710000</td>\n",
              "      <td>0.590000</td>\n",
              "    </tr>\n",
              "    <tr>\n",
              "      <th>max</th>\n",
              "      <td>0.697000</td>\n",
              "      <td>0.557000</td>\n",
              "      <td>0.810000</td>\n",
              "      <td>0.803000</td>\n",
              "    </tr>\n",
              "  </tbody>\n",
              "</table>\n",
              "</div>"
            ],
            "text/plain": [
              "              IDHM       IDHM_E       IDHM_L       IDHM_R\n",
              "count  5565.000000  5565.000000  5565.000000  5565.000000\n",
              "mean      0.381372     0.178705     0.645658     0.514515\n",
              "std       0.103097     0.091976     0.078733     0.096943\n",
              "min       0.120000     0.010000     0.433000     0.229000\n",
              "25%       0.299000     0.106000     0.587000     0.435000\n",
              "50%       0.382000     0.168000     0.658000     0.518000\n",
              "75%       0.463000     0.245000     0.710000     0.590000\n",
              "max       0.697000     0.557000     0.810000     0.803000"
            ]
          },
          "metadata": {
            "tags": []
          },
          "execution_count": 15
        }
      ]
    },
    {
      "cell_type": "code",
      "metadata": {
        "id": "hzUoGjHS0kR-",
        "colab_type": "code",
        "colab": {
          "base_uri": "https://localhost:8080/",
          "height": 282
        },
        "outputId": "0ec89bb1-cb66-4b0f-cdbe-7a884ffb670e"
      },
      "source": [
        "dfIDH_1991['IDHM'].hist(bins=50)"
      ],
      "execution_count": 17,
      "outputs": [
        {
          "output_type": "execute_result",
          "data": {
            "text/plain": [
              "<matplotlib.axes._subplots.AxesSubplot at 0x7f5922b9a550>"
            ]
          },
          "metadata": {
            "tags": []
          },
          "execution_count": 17
        },
        {
          "output_type": "display_data",
          "data": {
            "image/png": "[encoded data removed]",
            "text/plain": [
              "<Figure size 432x288 with 1 Axes>"
            ]
          },
          "metadata": {
            "tags": [],
            "needs_background": "light"
          }
        }
      ]
    },
    {
      "cell_type": "code",
      "metadata": {
        "id": "WrNmSZJC08J3",
        "colab_type": "code",
        "colab": {
          "base_uri": "https://localhost:8080/",
          "height": 282
        },
        "outputId": "11974485-6b8f-439a-9b8c-8390c14bd03c"
      },
      "source": [
        "dfIDH_1991['IDHM_L'].hist(bins=50)"
      ],
      "execution_count": 18,
      "outputs": [
        {
          "output_type": "execute_result",
          "data": {
            "text/plain": [
              "<matplotlib.axes._subplots.AxesSubplot at 0x7f592266ae10>"
            ]
          },
          "metadata": {
            "tags": []
          },
          "execution_count": 18
        },
        {
          "output_type": "display_data",
          "data": {
            "image/png": "[encoded data removed]",
            "text/plain": [
              "<Figure size 432x288 with 1 Axes>"
            ]
          },
          "metadata": {
            "tags": [],
            "needs_background": "light"
          }
        }
      ]
    },
    {
      "cell_type": "code",
      "metadata": {
        "id": "ZjGER3GK1J0D",
        "colab_type": "code",
        "colab": {}
      },
      "source": [
        ""
      ],
      "execution_count": 0,
      "outputs": []
    }
  ]
}
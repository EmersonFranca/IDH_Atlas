{
  "nbformat": 4,
  "nbformat_minor": 0,
  "metadata": {
    "colab": {
      "name": "Funcoes_para_Previsao.ipynb",
      "provenance": [],
      "authorship_tag": "ABX9TyNy02aJUQPXr7AwH0i6PbbK",
      "include_colab_link": true
    },
    "kernelspec": {
      "name": "python3",
      "display_name": "Python 3"
    }
  },
  "cells": [
    {
      "cell_type": "markdown",
      "metadata": {
        "id": "view-in-github",
        "colab_type": "text"
      },
      "source": [
        "<a href=\"https://colab.research.google.com/github/EmersonFranca/IDH_Atlas/blob/master/Funcoes/Funcoes_para_Previsao.ipynb\" target=\"_parent\"><img src=\"https://colab.research.google.com/assets/colab-badge.svg\" alt=\"Open In Colab\"/></a>"
      ]
    },
    {
      "cell_type": "markdown",
      "metadata": {
        "id": "LfoTiIUws3zg",
        "colab_type": "text"
      },
      "source": [
        "# 1. Importando Bibliotecas"
      ]
    },
    {
      "cell_type": "code",
      "metadata": {
        "id": "x54pSm4CszGr",
        "colab_type": "code",
        "colab": {}
      },
      "source": [
        "import pandas as pd\n",
        "import numpy as np\n",
        "import seaborn as sns\n",
        "import matplotlib.pyplot as plt"
      ],
      "execution_count": 0,
      "outputs": []
    },
    {
      "cell_type": "code",
      "metadata": {
        "id": "X5jqMroCs6bT",
        "colab_type": "code",
        "colab": {}
      },
      "source": [
        "import xgboost\n",
        "from sklearn.metrics import mean_squared_error\n",
        "from sklearn.model_selection import train_test_split\n",
        "from sklearn import metrics\n",
        "from scipy.stats import probplot"
      ],
      "execution_count": 0,
      "outputs": []
    },
    {
      "cell_type": "code",
      "metadata": {
        "id": "x54PXLxPtA-4",
        "colab_type": "code",
        "colab": {}
      },
      "source": [
        ""
      ],
      "execution_count": 0,
      "outputs": []
    },
    {
      "cell_type": "markdown",
      "metadata": {
        "id": "UiEJFeS159_s",
        "colab_type": "text"
      },
      "source": [
        "# 2. Versões das bibliotecas importadas"
      ]
    },
    {
      "cell_type": "code",
      "metadata": {
        "id": "vs0pijWG51ck",
        "colab_type": "code",
        "outputId": "b65a1aa5-9145-4560-c417-9027ea709ab4",
        "colab": {
          "base_uri": "https://localhost:8080/",
          "height": 68
        }
      },
      "source": [
        "print(pd.__version__)\n",
        "print(np.__version__)\n",
        "print(sns.__version__)\n"
      ],
      "execution_count": 17,
      "outputs": [
        {
          "output_type": "stream",
          "text": [
            "1.0.3\n",
            "1.18.4\n",
            "0.10.1\n"
          ],
          "name": "stdout"
        }
      ]
    },
    {
      "cell_type": "markdown",
      "metadata": {
        "id": "QzpvS3WG6WWp",
        "colab_type": "text"
      },
      "source": [
        "# 3. Importando os dados"
      ]
    },
    {
      "cell_type": "code",
      "metadata": {
        "id": "uv6OHjnJ6Ti8",
        "colab_type": "code",
        "colab": {}
      },
      "source": [
        "URL_IDH_1991 = \"https://github.com/EmersonFranca/IDH_Atlas/blob/master/Dados/IDH_1991.csv?raw=true\"\n",
        "URL_IDH_2000 = \"https://github.com/EmersonFranca/IDH_Atlas/blob/master/Dados/IDH_2000.csv?raw=true\"\n",
        "URL_IDH_2010 = \"https://github.com/EmersonFranca/IDH_Atlas/blob/master/Dados/IDH_2010.csv?raw=true\""
      ],
      "execution_count": 0,
      "outputs": []
    },
    {
      "cell_type": "code",
      "metadata": {
        "id": "TAjihqeN626b",
        "colab_type": "code",
        "colab": {}
      },
      "source": [
        "dfIDH_2000 = pd.read_csv(URL_IDH_2000,sep=';')"
      ],
      "execution_count": 0,
      "outputs": []
    },
    {
      "cell_type": "markdown",
      "metadata": {
        "id": "mdrlZj7rtnrt",
        "colab_type": "text"
      },
      "source": [
        "# 4. Preparando os dados para testar as minhas funções"
      ]
    },
    {
      "cell_type": "code",
      "metadata": {
        "id": "y_R2mlhWtYDK",
        "colab_type": "code",
        "colab": {}
      },
      "source": [
        "colunas_analise = ['RDPC','T_AGUA','AGUA_ESGOTO','T_LIXO','T_LUZ','T_BANAGUA']"
      ],
      "execution_count": 0,
      "outputs": []
    },
    {
      "cell_type": "code",
      "metadata": {
        "id": "QmgWNkE8tm9Y",
        "colab_type": "code",
        "outputId": "c10ccef9-6883-4ce7-ab52-b5cd70f0dc06",
        "colab": {
          "base_uri": "https://localhost:8080/",
          "height": 204
        }
      },
      "source": [
        "df = dfIDH_2000[colunas_analise]\n",
        "df.head()"
      ],
      "execution_count": 21,
      "outputs": [
        {
          "output_type": "execute_result",
          "data": {
            "text/html": [
              "<div>\n",
              "<style scoped>\n",
              "    .dataframe tbody tr th:only-of-type {\n",
              "        vertical-align: middle;\n",
              "    }\n",
              "\n",
              "    .dataframe tbody tr th {\n",
              "        vertical-align: top;\n",
              "    }\n",
              "\n",
              "    .dataframe thead th {\n",
              "        text-align: right;\n",
              "    }\n",
              "</style>\n",
              "<table border=\"1\" class=\"dataframe\">\n",
              "  <thead>\n",
              "    <tr style=\"text-align: right;\">\n",
              "      <th></th>\n",
              "      <th>RDPC</th>\n",
              "      <th>T_AGUA</th>\n",
              "      <th>AGUA_ESGOTO</th>\n",
              "      <th>T_LIXO</th>\n",
              "      <th>T_LUZ</th>\n",
              "      <th>T_BANAGUA</th>\n",
              "    </tr>\n",
              "  </thead>\n",
              "  <tbody>\n",
              "    <tr>\n",
              "      <th>0</th>\n",
              "      <td>371.15</td>\n",
              "      <td>57.13</td>\n",
              "      <td>27.52</td>\n",
              "      <td>70.33</td>\n",
              "      <td>70.14</td>\n",
              "      <td>42.56</td>\n",
              "    </tr>\n",
              "    <tr>\n",
              "      <th>1</th>\n",
              "      <td>530.87</td>\n",
              "      <td>73.54</td>\n",
              "      <td>21.14</td>\n",
              "      <td>90.61</td>\n",
              "      <td>93.43</td>\n",
              "      <td>67.08</td>\n",
              "    </tr>\n",
              "    <tr>\n",
              "      <th>2</th>\n",
              "      <td>342.46</td>\n",
              "      <td>58.61</td>\n",
              "      <td>27.36</td>\n",
              "      <td>76.57</td>\n",
              "      <td>80.31</td>\n",
              "      <td>46.33</td>\n",
              "    </tr>\n",
              "    <tr>\n",
              "      <th>3</th>\n",
              "      <td>456.63</td>\n",
              "      <td>78.60</td>\n",
              "      <td>14.28</td>\n",
              "      <td>90.22</td>\n",
              "      <td>90.58</td>\n",
              "      <td>67.20</td>\n",
              "    </tr>\n",
              "    <tr>\n",
              "      <th>4</th>\n",
              "      <td>511.47</td>\n",
              "      <td>73.98</td>\n",
              "      <td>24.82</td>\n",
              "      <td>70.04</td>\n",
              "      <td>91.79</td>\n",
              "      <td>61.93</td>\n",
              "    </tr>\n",
              "  </tbody>\n",
              "</table>\n",
              "</div>"
            ],
            "text/plain": [
              "     RDPC  T_AGUA  AGUA_ESGOTO  T_LIXO  T_LUZ  T_BANAGUA\n",
              "0  371.15   57.13        27.52   70.33  70.14      42.56\n",
              "1  530.87   73.54        21.14   90.61  93.43      67.08\n",
              "2  342.46   58.61        27.36   76.57  80.31      46.33\n",
              "3  456.63   78.60        14.28   90.22  90.58      67.20\n",
              "4  511.47   73.98        24.82   70.04  91.79      61.93"
            ]
          },
          "metadata": {
            "tags": []
          },
          "execution_count": 21
        }
      ]
    },
    {
      "cell_type": "markdown",
      "metadata": {
        "id": "FFl8J7ZRtwMJ",
        "colab_type": "text"
      },
      "source": [
        "### <font color = 'green'> Definindo  minha variável dependente </font>\n",
        "\n",
        "###### RDPC -> Renda per Capita do Município"
      ]
    },
    {
      "cell_type": "code",
      "metadata": {
        "id": "UgTUilrqttm3",
        "colab_type": "code",
        "colab": {}
      },
      "source": [
        "df_y = df['RDPC']"
      ],
      "execution_count": 0,
      "outputs": []
    },
    {
      "cell_type": "markdown",
      "metadata": {
        "id": "Xlr_I6vxuHOx",
        "colab_type": "text"
      },
      "source": [
        "### <font color = 'green'> Definindo  minhas variáveis explicativas </font>"
      ]
    },
    {
      "cell_type": "code",
      "metadata": {
        "id": "cqgKErfNtvav",
        "colab_type": "code",
        "outputId": "84b1bb3d-8174-4435-f40a-f6288ad29fd2",
        "colab": {
          "base_uri": "https://localhost:8080/",
          "height": 204
        }
      },
      "source": [
        "df_X = df[['T_AGUA','AGUA_ESGOTO','T_LIXO','T_LUZ','T_BANAGUA']]\n",
        "df_X.head()"
      ],
      "execution_count": 23,
      "outputs": [
        {
          "output_type": "execute_result",
          "data": {
            "text/html": [
              "<div>\n",
              "<style scoped>\n",
              "    .dataframe tbody tr th:only-of-type {\n",
              "        vertical-align: middle;\n",
              "    }\n",
              "\n",
              "    .dataframe tbody tr th {\n",
              "        vertical-align: top;\n",
              "    }\n",
              "\n",
              "    .dataframe thead th {\n",
              "        text-align: right;\n",
              "    }\n",
              "</style>\n",
              "<table border=\"1\" class=\"dataframe\">\n",
              "  <thead>\n",
              "    <tr style=\"text-align: right;\">\n",
              "      <th></th>\n",
              "      <th>T_AGUA</th>\n",
              "      <th>AGUA_ESGOTO</th>\n",
              "      <th>T_LIXO</th>\n",
              "      <th>T_LUZ</th>\n",
              "      <th>T_BANAGUA</th>\n",
              "    </tr>\n",
              "  </thead>\n",
              "  <tbody>\n",
              "    <tr>\n",
              "      <th>0</th>\n",
              "      <td>57.13</td>\n",
              "      <td>27.52</td>\n",
              "      <td>70.33</td>\n",
              "      <td>70.14</td>\n",
              "      <td>42.56</td>\n",
              "    </tr>\n",
              "    <tr>\n",
              "      <th>1</th>\n",
              "      <td>73.54</td>\n",
              "      <td>21.14</td>\n",
              "      <td>90.61</td>\n",
              "      <td>93.43</td>\n",
              "      <td>67.08</td>\n",
              "    </tr>\n",
              "    <tr>\n",
              "      <th>2</th>\n",
              "      <td>58.61</td>\n",
              "      <td>27.36</td>\n",
              "      <td>76.57</td>\n",
              "      <td>80.31</td>\n",
              "      <td>46.33</td>\n",
              "    </tr>\n",
              "    <tr>\n",
              "      <th>3</th>\n",
              "      <td>78.60</td>\n",
              "      <td>14.28</td>\n",
              "      <td>90.22</td>\n",
              "      <td>90.58</td>\n",
              "      <td>67.20</td>\n",
              "    </tr>\n",
              "    <tr>\n",
              "      <th>4</th>\n",
              "      <td>73.98</td>\n",
              "      <td>24.82</td>\n",
              "      <td>70.04</td>\n",
              "      <td>91.79</td>\n",
              "      <td>61.93</td>\n",
              "    </tr>\n",
              "  </tbody>\n",
              "</table>\n",
              "</div>"
            ],
            "text/plain": [
              "   T_AGUA  AGUA_ESGOTO  T_LIXO  T_LUZ  T_BANAGUA\n",
              "0   57.13        27.52   70.33  70.14      42.56\n",
              "1   73.54        21.14   90.61  93.43      67.08\n",
              "2   58.61        27.36   76.57  80.31      46.33\n",
              "3   78.60        14.28   90.22  90.58      67.20\n",
              "4   73.98        24.82   70.04  91.79      61.93"
            ]
          },
          "metadata": {
            "tags": []
          },
          "execution_count": 23
        }
      ]
    },
    {
      "cell_type": "markdown",
      "metadata": {
        "id": "9lTURIlCuS8o",
        "colab_type": "text"
      },
      "source": [
        "### <font color = 'green'> Separando 30% dos dados para teste e 70% para treino </font>"
      ]
    },
    {
      "cell_type": "markdown",
      "metadata": {
        "id": "ipC5A8z3W6Ed",
        "colab_type": "text"
      },
      "source": [
        "# <font color = 'blue'> retorna_dfTeste_e_dfTreino </font>\n",
        "\n",
        "\n",
        "\n",
        "(parame_df, param_percentual_em_decimal_para_teste, param_random_state, paramm_nome_variavel_y)"
      ]
    },
    {
      "cell_type": "code",
      "metadata": {
        "id": "Wx-_xmt51yod",
        "colab_type": "code",
        "outputId": "0ec2691a-de90-49e9-86c1-94255af55f37",
        "colab": {
          "base_uri": "https://localhost:8080/",
          "height": 51
        }
      },
      "source": [
        "def retorna_dfTeste_e_dfTreino(parame_df, param_percentual_em_decimal_para_teste, param_random_state, paramm_nome_variavel_y):\n",
        "\n",
        "  #Definindo a quantidade de registros para teste, com base no % de registros do DataFrame e a quantidade total de registros do DataFrame. O % é definido pelo param_percentual_em_decimal_para_teste. EXEMPLO= se passar o param_percentual_em_decimal_para_teste como 0.3, vai ser pego 30% de linhas do dataframe\n",
        "  qt_para_teste = round(len(parame_df) * param_percentual_em_decimal_para_teste)\n",
        "  \n",
        "  #Seleciona uma quantidade de registros = qt_para_teste, de forma aleatória\n",
        "  fun_df_teste = parame_df.sample(n = qt_para_teste, random_state = param_random_state)\n",
        "\n",
        "  # deep = True indica que os dataFrames fun_df_treino e parame_df, são independentes, qualquer alteração em um deles, NÃO vai refletir no outro\n",
        "  fun_df_treino = parame_df.copy(deep = True) \n",
        "\n",
        "  # Gravo na series, com o índice(que será utilizado para comparar com o dataframe geral)\n",
        "  seriesRDPC_teste = fun_df_teste[paramm_nome_variavel_y]\n",
        "\n",
        "  # Estou gravando numa coluna nova, indicando se o registro está no Dataframe de Teste(=True) ou não(=False). O método \"isin\" compara pelo índice do dataframe passado por parâmetro, com a series \"seriesRDPC_teste\", retorna True, caso o índice da linha do dataframe seja igual a pelo menos um dos índices da seriesRDPC_teste\n",
        "  fun_df_treino['Registro_de_Teste'] = parame_df.isin(seriesRDPC_teste)[paramm_nome_variavel_y].copy()\n",
        "\n",
        "  # Selecionando apenas os registros que não são de treino\n",
        "  fun_df_treino.query('Registro_de_Teste == False', inplace = True)\n",
        "\n",
        "  # Exclui a coluna Registro_de_Teste\n",
        "  fun_df_treino.drop(labels='Registro_de_Teste', axis='columns', inplace=True)\n",
        "\n",
        "  return fun_df_teste,fun_df_treino\n",
        "\n",
        "teste,treino = retorna_dfTeste_e_dfTreino(df,0.3,123,'RDPC')  \n",
        "print(\"Quantidade de registros para Teste: \",len(teste))\n",
        "print(\"Quantidade de registros para Treino: \",len(treino))"
      ],
      "execution_count": 24,
      "outputs": [
        {
          "output_type": "stream",
          "text": [
            "Quantidade de registros para Teste:  1670\n",
            "Quantidade de registros para Treino:  3895\n"
          ],
          "name": "stdout"
        }
      ]
    },
    {
      "cell_type": "markdown",
      "metadata": {
        "id": "QAsGv_3TXghz",
        "colab_type": "text"
      },
      "source": [
        "# <font color = 'blue'> retorna_Colunas_Explicativas </font>\n",
        "\n",
        "(paramm_df, paramm_nome_variavel_y)"
      ]
    },
    {
      "cell_type": "code",
      "metadata": {
        "id": "qbrGByRbuIjA",
        "colab_type": "code",
        "outputId": "49478e65-9309-4af6-db93-6440daec1d78",
        "colab": {
          "base_uri": "https://localhost:8080/",
          "height": 119
        }
      },
      "source": [
        "def retorna_Colunas_Explicativas(paramm_df, paramm_nome_variavel_y):\n",
        "  _ = paramm_df.columns.to_frame(index=False, name = 'Coluna')\n",
        "  _ = _.query(\"Coluna != '\" + paramm_nome_variavel_y + \"'\")\n",
        "  _ = _[\"Coluna\"]\n",
        "\n",
        "  return _\n",
        " \n",
        "retorna_Colunas_Explicativas(df,'RDPC')"
      ],
      "execution_count": 25,
      "outputs": [
        {
          "output_type": "execute_result",
          "data": {
            "text/plain": [
              "1         T_AGUA\n",
              "2    AGUA_ESGOTO\n",
              "3         T_LIXO\n",
              "4          T_LUZ\n",
              "5      T_BANAGUA\n",
              "Name: Coluna, dtype: object"
            ]
          },
          "metadata": {
            "tags": []
          },
          "execution_count": 25
        }
      ]
    },
    {
      "cell_type": "markdown",
      "metadata": {
        "id": "HnFkQlyDXupy",
        "colab_type": "text"
      },
      "source": [
        "# <font color = 'blue'> retorna_y </font>\n",
        "\n",
        "(paramm_df, paramm_nome_variavel_y)"
      ]
    },
    {
      "cell_type": "code",
      "metadata": {
        "id": "lt7i6UHYyjAW",
        "colab_type": "code",
        "outputId": "1213cf27-6d9c-4db4-9709-a1049c2a2e4e",
        "colab": {
          "base_uri": "https://localhost:8080/",
          "height": 80
        }
      },
      "source": [
        "def retorna_y(param_df,param_nome_variavel_y):\n",
        "  _ = param_df[[param_nome_variavel_y]]\n",
        "  return _  \n",
        "\n",
        "retorna_y(df,'RDPC').head(1)  "
      ],
      "execution_count": 26,
      "outputs": [
        {
          "output_type": "execute_result",
          "data": {
            "text/html": [
              "<div>\n",
              "<style scoped>\n",
              "    .dataframe tbody tr th:only-of-type {\n",
              "        vertical-align: middle;\n",
              "    }\n",
              "\n",
              "    .dataframe tbody tr th {\n",
              "        vertical-align: top;\n",
              "    }\n",
              "\n",
              "    .dataframe thead th {\n",
              "        text-align: right;\n",
              "    }\n",
              "</style>\n",
              "<table border=\"1\" class=\"dataframe\">\n",
              "  <thead>\n",
              "    <tr style=\"text-align: right;\">\n",
              "      <th></th>\n",
              "      <th>RDPC</th>\n",
              "    </tr>\n",
              "  </thead>\n",
              "  <tbody>\n",
              "    <tr>\n",
              "      <th>0</th>\n",
              "      <td>371.15</td>\n",
              "    </tr>\n",
              "  </tbody>\n",
              "</table>\n",
              "</div>"
            ],
            "text/plain": [
              "     RDPC\n",
              "0  371.15"
            ]
          },
          "metadata": {
            "tags": []
          },
          "execution_count": 26
        }
      ]
    },
    {
      "cell_type": "markdown",
      "metadata": {
        "id": "0OjePoXPX2ws",
        "colab_type": "text"
      },
      "source": [
        "# <font color = 'blue'> retorna_X </font>\n",
        "\n",
        "(paramm_df, paramm_nome_variavel_y)"
      ]
    },
    {
      "cell_type": "code",
      "metadata": {
        "id": "us3M0kNezMV4",
        "colab_type": "code",
        "outputId": "897d11e0-d1ab-401e-9c7f-a7a04c154806",
        "colab": {
          "base_uri": "https://localhost:8080/",
          "height": 80
        }
      },
      "source": [
        "def retorna_X(paramm_df, paramm_nome_variavel_y):\n",
        "  _ = retorna_Colunas_Explicativas(paramm_df,paramm_nome_variavel_y)\n",
        "\n",
        "  return paramm_df[_]   \n",
        "\n",
        "retorna_X(df,'RDPC').head(1)"
      ],
      "execution_count": 27,
      "outputs": [
        {
          "output_type": "execute_result",
          "data": {
            "text/html": [
              "<div>\n",
              "<style scoped>\n",
              "    .dataframe tbody tr th:only-of-type {\n",
              "        vertical-align: middle;\n",
              "    }\n",
              "\n",
              "    .dataframe tbody tr th {\n",
              "        vertical-align: top;\n",
              "    }\n",
              "\n",
              "    .dataframe thead th {\n",
              "        text-align: right;\n",
              "    }\n",
              "</style>\n",
              "<table border=\"1\" class=\"dataframe\">\n",
              "  <thead>\n",
              "    <tr style=\"text-align: right;\">\n",
              "      <th></th>\n",
              "      <th>T_AGUA</th>\n",
              "      <th>AGUA_ESGOTO</th>\n",
              "      <th>T_LIXO</th>\n",
              "      <th>T_LUZ</th>\n",
              "      <th>T_BANAGUA</th>\n",
              "    </tr>\n",
              "  </thead>\n",
              "  <tbody>\n",
              "    <tr>\n",
              "      <th>0</th>\n",
              "      <td>57.13</td>\n",
              "      <td>27.52</td>\n",
              "      <td>70.33</td>\n",
              "      <td>70.14</td>\n",
              "      <td>42.56</td>\n",
              "    </tr>\n",
              "  </tbody>\n",
              "</table>\n",
              "</div>"
            ],
            "text/plain": [
              "   T_AGUA  AGUA_ESGOTO  T_LIXO  T_LUZ  T_BANAGUA\n",
              "0   57.13        27.52   70.33  70.14      42.56"
            ]
          },
          "metadata": {
            "tags": []
          },
          "execution_count": 27
        }
      ]
    },
    {
      "cell_type": "markdown",
      "metadata": {
        "id": "Fwbvfe66X8XM",
        "colab_type": "text"
      },
      "source": [
        "# <font color = 'blue'> plota_regressaolinear_RDPC_yprevisto </font>\n",
        "\n",
        "(param_regressaolinear_plot_df)"
      ]
    },
    {
      "cell_type": "code",
      "metadata": {
        "id": "opW0N_39kLHb",
        "colab_type": "code",
        "colab": {}
      },
      "source": [
        "def plota_regressaolinear_RDPC_yprevisto(param_regressaolinear_plot_df):\n",
        "\n",
        "  ax = sns.lmplot(data=param_regressaolinear_plot_df,x='RDPC', y='Residuo', palette='Set2')\n",
        "  ax.fig.set_size_inches(12, 6)\n",
        "  ax.fig.suptitle('Reta de Regressão', fontsize=16, y=1.02)\n",
        "  return ax"
      ],
      "execution_count": 0,
      "outputs": []
    },
    {
      "cell_type": "markdown",
      "metadata": {
        "id": "iSUstC8sYJJ9",
        "colab_type": "text"
      },
      "source": [
        "# <font color = 'blue'> plota_probplot_residuos </font>\n",
        "\n",
        "(param_regressaolinear_plot_df)"
      ]
    },
    {
      "cell_type": "code",
      "metadata": {
        "id": "E3rJ_Rv2kLBR",
        "colab_type": "code",
        "colab": {}
      },
      "source": [
        "def plota_probplot_residuos(param_probplot_df):\n",
        "\n",
        "  (_, (_, _, _)) = probplot(df_teste_retorno.Residuo, plot = plt)\n",
        "  return (_, (_, _, _))"
      ],
      "execution_count": 0,
      "outputs": []
    },
    {
      "cell_type": "markdown",
      "metadata": {
        "id": "HKmJnjHLYYQv",
        "colab_type": "text"
      },
      "source": [
        "# <font color = 'blue'> plota_residuos_vs_yprevisto </font>\n",
        "\n",
        "(param_plot_df)"
      ]
    },
    {
      "cell_type": "code",
      "metadata": {
        "id": "imZTfW_d52XU",
        "colab_type": "code",
        "colab": {}
      },
      "source": [
        "def plota_residuos_vs_yprevisto(param_plot_df):\n",
        "\n",
        "  ax = sns.scatterplot(x=param_plot_df.y_previsto, y=param_plot_df.Residuo)\n",
        "  ax.figure.set_size_inches(12,6)\n",
        "  ax.set_title('Resíduos vs Variável Independente (y)', fontsize=18)\n",
        "  return ax"
      ],
      "execution_count": 0,
      "outputs": []
    },
    {
      "cell_type": "markdown",
      "metadata": {
        "id": "rE7QJ4ODYfxW",
        "colab_type": "text"
      },
      "source": [
        "# <font color = 'blue'> plota_geral </font>\n",
        "\n",
        "(param_plotgeral_df)"
      ]
    },
    {
      "cell_type": "code",
      "metadata": {
        "id": "nUMTQz8gkLMC",
        "colab_type": "code",
        "colab": {}
      },
      "source": [
        "def plota_geral(param_plotgeral_df):\n",
        "\n",
        "  plota_regressaolinear_RDPC_yprevisto(param_plotgeral_df)\n",
        "  plota_probplot_residuos(param_plotgeral_df)\n",
        "  plota_residuos_vs_yprevisto(param_plotgeral_df)\n",
        "\n"
      ],
      "execution_count": 0,
      "outputs": []
    },
    {
      "cell_type": "markdown",
      "metadata": {
        "id": "_hlVlH6PYqvZ",
        "colab_type": "text"
      },
      "source": [
        "# <font color = 'blue'> testa_modelo </font>\n",
        "\n",
        "(parametro_modelo,parametro_df_teste, parametro_df_treino)"
      ]
    },
    {
      "cell_type": "code",
      "metadata": {
        "id": "r4XXQaWquR6J",
        "colab_type": "code",
        "outputId": "ea4ee52b-2c84-4eeb-bcd5-6cded0c30e08",
        "colab": {
          "base_uri": "https://localhost:8080/",
          "height": 85
        }
      },
      "source": [
        "def testa_modelo(parametro_modelo,parametro_df_teste, parametro_df_treino):\n",
        "\n",
        "  df_X_teste = retorna_X(parametro_df_teste,'RDPC')\n",
        "  df_y_teste = retorna_y(parametro_df_teste,'RDPC')\n",
        "\n",
        "  df_X_treino = retorna_X(parametro_df_treino, 'RDPC')\n",
        "  df_y_treino = retorna_y(parametro_df_treino, 'RDPC')\n",
        "\n",
        "  # Preenche o modelo com os dados de treino\n",
        "  parametro_modelo.fit(df_X_treino,df_y_treino)\n",
        "\n",
        "\n",
        "  # Aqui eu faço a predição com os dados de teste, retornando o y previsto\n",
        "  retorno_y_previsto_teste = parametro_modelo.predict(df_X_teste)\n",
        "\n",
        "  # Aqui retorno o erro quadratico medio comparando o y de teste com o y previsto\n",
        "  retorno_raiz_do_erro_quadratico_medio = np.sqrt(  mean_squared_error(df_y_teste, retorno_y_previsto_teste)  )\n",
        "\n",
        "  # Retornando o R² comparando o y de teste com o y previsto\n",
        "  retorno_r2_Score = metrics.r2_score(df_y_teste, retorno_y_previsto_teste)\n",
        "\n",
        "  # deep = True indica que os retorno_df_teste e parametro_df_teste, são independentes, qualquer alteração em um deles, NÃO vai refletir no outro\n",
        "  retorno_df_teste = parametro_df_teste.copy(deep=True)\n",
        "\n",
        "  # Criando variáveis que me ajudarão na análise do modelo preditivo\n",
        "  retorno_df_teste['y_previsto'] = retorno_y_previsto_teste\n",
        "  retorno_df_teste['Residuo'] = retorno_df_teste['RDPC'] - retorno_df_teste['y_previsto']\n",
        "  retorno_df_teste['Residuo_Absoluto'] = np.sqrt(retorno_df_teste['Residuo'] ** 2)\n",
        "\n",
        "  # Aqui retorno tudo\n",
        "  return retorno_df_teste, retorno_r2_Score ,retorno_raiz_do_erro_quadratico_medio\n",
        "\n",
        "#--------------------------------------------------\n",
        "#----------------------***FIM***-------------------\n",
        "#--------------------------------------------------\n",
        "\n"
      ],
      "execution_count": 45,
      "outputs": [
        {
          "output_type": "stream",
          "text": [
            "[10:41:26] WARNING: /workspace/src/objective/regression_obj.cu:152: reg:linear is now deprecated in favor of reg:squarederror.\n",
            "df_teste_retorno:  (1670, 9)\n",
            "r2_score:  0.6615025330789903\n",
            "raiz_do_erro_quadratico_medio:  114.70502325202254\n"
          ],
          "name": "stdout"
        }
      ]
    },
    {
      "cell_type": "markdown",
      "metadata": {
        "id": "r7fCCTQkY0w8",
        "colab_type": "text"
      },
      "source": [
        "# <font color = 'green'> Testando as funções </font>\n",
        "\n",
        "\n"
      ]
    },
    {
      "cell_type": "code",
      "metadata": {
        "id": "TLqc0YJMGOcr",
        "colab_type": "code",
        "colab": {
          "base_uri": "https://localhost:8080/",
          "height": 85
        },
        "outputId": "b118a2f3-f409-47be-ec7c-57624826e47d"
      },
      "source": [
        "modelo = xgboost.XGBRegressor(learning_rate=0.1,max_depth=3,n_estimators=100,reg_alpha=0.80,seed=180) \n",
        "\n",
        "df_2teste, df_2treino = retorna_dfTeste_e_dfTreino(df,0.3,123,'RDPC')\n",
        "\n",
        "df_teste_retorno, r2_Score ,raiz_do_erro_quadratico_medio = testa_modelo(modelo,df_2teste,df_2treino)\n",
        "\n",
        "print (\"df_teste_retorno: \", df_teste_retorno.shape)\n",
        "print (\"r2_score: \", r2_Score)\n",
        "print(\"raiz_do_erro_quadratico_medio: \", raiz_do_erro_quadratico_medio)"
      ],
      "execution_count": 46,
      "outputs": [
        {
          "output_type": "stream",
          "text": [
            "[10:41:38] WARNING: /workspace/src/objective/regression_obj.cu:152: reg:linear is now deprecated in favor of reg:squarederror.\n",
            "df_teste_retorno:  (1670, 9)\n",
            "r2_score:  0.6615025330789903\n",
            "raiz_do_erro_quadratico_medio:  114.70502325202254\n"
          ],
          "name": "stdout"
        }
      ]
    },
    {
      "cell_type": "code",
      "metadata": {
        "id": "sUuKpIvixYq9",
        "colab_type": "code",
        "colab": {}
      },
      "source": [
        "testandoplot = plota_geral(df_teste_retorno)\n",
        "testandoplot"
      ],
      "execution_count": 0,
      "outputs": []
    },
    {
      "cell_type": "code",
      "metadata": {
        "id": "GIDuMeKKxYyA",
        "colab_type": "code",
        "colab": {}
      },
      "source": [
        "df_2treino.head()"
      ],
      "execution_count": 0,
      "outputs": []
    },
    {
      "cell_type": "code",
      "metadata": {
        "id": "aeb32qmwxYvX",
        "colab_type": "code",
        "colab": {}
      },
      "source": [
        ""
      ],
      "execution_count": 0,
      "outputs": []
    },
    {
      "cell_type": "code",
      "metadata": {
        "id": "Y5IkPqfz1bg8",
        "colab_type": "code",
        "colab": {}
      },
      "source": [
        ""
      ],
      "execution_count": 0,
      "outputs": []
    }
  ]
}
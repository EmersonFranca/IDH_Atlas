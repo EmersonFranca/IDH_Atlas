{
  "nbformat": 4,
  "nbformat_minor": 0,
  "metadata": {
    "colab": {
      "name": "Funcoes_para_Previsao.ipynb",
      "provenance": [],
      "authorship_tag": "ABX9TyPSj9OUUZaV6e8pAYZ/Btss",
      "include_colab_link": true
    },
    "kernelspec": {
      "name": "python3",
      "display_name": "Python 3"
    }
  },
  "cells": [
    {
      "cell_type": "markdown",
      "metadata": {
        "id": "view-in-github",
        "colab_type": "text"
      },
      "source": [
        "<a href=\"https://colab.research.google.com/github/EmersonFranca/IDH_Atlas/blob/master/Funcoes/Funcoes_para_Previsao.ipynb\" target=\"_parent\"><img src=\"https://colab.research.google.com/assets/colab-badge.svg\" alt=\"Open In Colab\"/></a>"
      ]
    },
    {
      "cell_type": "markdown",
      "metadata": {
        "id": "LfoTiIUws3zg",
        "colab_type": "text"
      },
      "source": [
        "# 1. Importando Bibliotecas"
      ]
    },
    {
      "cell_type": "code",
      "metadata": {
        "id": "x54pSm4CszGr",
        "colab_type": "code",
        "colab": {}
      },
      "source": [
        "import pandas as pd\n",
        "import numpy as np\n",
        "import seaborn as sns\n",
        "import matplotlib.pyplot as plt"
      ],
      "execution_count": 0,
      "outputs": []
    },
    {
      "cell_type": "code",
      "metadata": {
        "id": "X5jqMroCs6bT",
        "colab_type": "code",
        "colab": {}
      },
      "source": [
        "import xgboost\n",
        "from sklearn.metrics import mean_squared_error\n",
        "from sklearn.model_selection import train_test_split\n",
        "from sklearn import metrics\n",
        "from scipy.stats import probplot"
      ],
      "execution_count": 0,
      "outputs": []
    },
    {
      "cell_type": "code",
      "metadata": {
        "id": "x54PXLxPtA-4",
        "colab_type": "code",
        "colab": {}
      },
      "source": [
        ""
      ],
      "execution_count": 0,
      "outputs": []
    },
    {
      "cell_type": "markdown",
      "metadata": {
        "id": "UiEJFeS159_s",
        "colab_type": "text"
      },
      "source": [
        "# 2. Versões das bibliotecas importadas"
      ]
    },
    {
      "cell_type": "code",
      "metadata": {
        "id": "vs0pijWG51ck",
        "colab_type": "code",
        "outputId": "a461ff95-0f80-42a0-a745-6ad71c8452bc",
        "colab": {
          "base_uri": "https://localhost:8080/",
          "height": 68
        }
      },
      "source": [
        "print(pd.__version__)\n",
        "print(np.__version__)\n",
        "print(sns.__version__)\n"
      ],
      "execution_count": 78,
      "outputs": [
        {
          "output_type": "stream",
          "text": [
            "1.0.3\n",
            "1.18.4\n",
            "0.10.1\n"
          ],
          "name": "stdout"
        }
      ]
    },
    {
      "cell_type": "markdown",
      "metadata": {
        "id": "QzpvS3WG6WWp",
        "colab_type": "text"
      },
      "source": [
        "# 3. Importando os dados"
      ]
    },
    {
      "cell_type": "code",
      "metadata": {
        "id": "uv6OHjnJ6Ti8",
        "colab_type": "code",
        "colab": {}
      },
      "source": [
        "URL_IDH_1991 = \"https://github.com/EmersonFranca/IDH_Atlas/blob/master/Dados/IDH_1991.csv?raw=true\"\n",
        "URL_IDH_2000 = \"https://github.com/EmersonFranca/IDH_Atlas/blob/master/Dados/IDH_2000.csv?raw=true\"\n",
        "URL_IDH_2010 = \"https://github.com/EmersonFranca/IDH_Atlas/blob/master/Dados/IDH_2010.csv?raw=true\""
      ],
      "execution_count": 0,
      "outputs": []
    },
    {
      "cell_type": "code",
      "metadata": {
        "id": "TAjihqeN626b",
        "colab_type": "code",
        "colab": {}
      },
      "source": [
        "dfIDH_2000 = pd.read_csv(URL_IDH_2000,sep=';')"
      ],
      "execution_count": 0,
      "outputs": []
    },
    {
      "cell_type": "markdown",
      "metadata": {
        "id": "mdrlZj7rtnrt",
        "colab_type": "text"
      },
      "source": [
        "# 4. Preparando os dados para testar as minhas funções"
      ]
    },
    {
      "cell_type": "code",
      "metadata": {
        "id": "y_R2mlhWtYDK",
        "colab_type": "code",
        "colab": {
          "base_uri": "https://localhost:8080/",
          "height": 34
        },
        "outputId": "356e816b-df3a-4a9a-9f01-ea9526edf20a"
      },
      "source": [
        "colunas_analise = ['RDPC','T_AGUA','AGUA_ESGOTO','T_LIXO','T_LUZ','T_BANAGUA']"
      ],
      "execution_count": 81,
      "outputs": [
        {
          "output_type": "execute_result",
          "data": {
            "text/plain": [
              "list"
            ]
          },
          "metadata": {
            "tags": []
          },
          "execution_count": 81
        }
      ]
    },
    {
      "cell_type": "code",
      "metadata": {
        "id": "QmgWNkE8tm9Y",
        "colab_type": "code",
        "colab": {
          "base_uri": "https://localhost:8080/",
          "height": 204
        },
        "outputId": "a2a2651c-0f37-4593-807c-d5e1fc3e4e4d"
      },
      "source": [
        "df = dfIDH_2000[colunas_analise]\n",
        "df.head()"
      ],
      "execution_count": 82,
      "outputs": [
        {
          "output_type": "execute_result",
          "data": {
            "text/html": [
              "<div>\n",
              "<style scoped>\n",
              "    .dataframe tbody tr th:only-of-type {\n",
              "        vertical-align: middle;\n",
              "    }\n",
              "\n",
              "    .dataframe tbody tr th {\n",
              "        vertical-align: top;\n",
              "    }\n",
              "\n",
              "    .dataframe thead th {\n",
              "        text-align: right;\n",
              "    }\n",
              "</style>\n",
              "<table border=\"1\" class=\"dataframe\">\n",
              "  <thead>\n",
              "    <tr style=\"text-align: right;\">\n",
              "      <th></th>\n",
              "      <th>RDPC</th>\n",
              "      <th>T_AGUA</th>\n",
              "      <th>AGUA_ESGOTO</th>\n",
              "      <th>T_LIXO</th>\n",
              "      <th>T_LUZ</th>\n",
              "      <th>T_BANAGUA</th>\n",
              "    </tr>\n",
              "  </thead>\n",
              "  <tbody>\n",
              "    <tr>\n",
              "      <th>0</th>\n",
              "      <td>371.15</td>\n",
              "      <td>57.13</td>\n",
              "      <td>27.52</td>\n",
              "      <td>70.33</td>\n",
              "      <td>70.14</td>\n",
              "      <td>42.56</td>\n",
              "    </tr>\n",
              "    <tr>\n",
              "      <th>1</th>\n",
              "      <td>530.87</td>\n",
              "      <td>73.54</td>\n",
              "      <td>21.14</td>\n",
              "      <td>90.61</td>\n",
              "      <td>93.43</td>\n",
              "      <td>67.08</td>\n",
              "    </tr>\n",
              "    <tr>\n",
              "      <th>2</th>\n",
              "      <td>342.46</td>\n",
              "      <td>58.61</td>\n",
              "      <td>27.36</td>\n",
              "      <td>76.57</td>\n",
              "      <td>80.31</td>\n",
              "      <td>46.33</td>\n",
              "    </tr>\n",
              "    <tr>\n",
              "      <th>3</th>\n",
              "      <td>456.63</td>\n",
              "      <td>78.60</td>\n",
              "      <td>14.28</td>\n",
              "      <td>90.22</td>\n",
              "      <td>90.58</td>\n",
              "      <td>67.20</td>\n",
              "    </tr>\n",
              "    <tr>\n",
              "      <th>4</th>\n",
              "      <td>511.47</td>\n",
              "      <td>73.98</td>\n",
              "      <td>24.82</td>\n",
              "      <td>70.04</td>\n",
              "      <td>91.79</td>\n",
              "      <td>61.93</td>\n",
              "    </tr>\n",
              "  </tbody>\n",
              "</table>\n",
              "</div>"
            ],
            "text/plain": [
              "     RDPC  T_AGUA  AGUA_ESGOTO  T_LIXO  T_LUZ  T_BANAGUA\n",
              "0  371.15   57.13        27.52   70.33  70.14      42.56\n",
              "1  530.87   73.54        21.14   90.61  93.43      67.08\n",
              "2  342.46   58.61        27.36   76.57  80.31      46.33\n",
              "3  456.63   78.60        14.28   90.22  90.58      67.20\n",
              "4  511.47   73.98        24.82   70.04  91.79      61.93"
            ]
          },
          "metadata": {
            "tags": []
          },
          "execution_count": 82
        }
      ]
    },
    {
      "cell_type": "markdown",
      "metadata": {
        "id": "FFl8J7ZRtwMJ",
        "colab_type": "text"
      },
      "source": [
        "### <font color = 'green'> Definindo  minha variável dependente </font>\n",
        "\n",
        "###### RDPC -> Renda per Capita do Município"
      ]
    },
    {
      "cell_type": "code",
      "metadata": {
        "id": "UgTUilrqttm3",
        "colab_type": "code",
        "colab": {}
      },
      "source": [
        "df_y = df['RDPC']"
      ],
      "execution_count": 0,
      "outputs": []
    },
    {
      "cell_type": "markdown",
      "metadata": {
        "id": "Xlr_I6vxuHOx",
        "colab_type": "text"
      },
      "source": [
        "### <font color = 'green'> Definindo  minhas variáveis explicativas </font>"
      ]
    },
    {
      "cell_type": "code",
      "metadata": {
        "id": "cqgKErfNtvav",
        "colab_type": "code",
        "colab": {
          "base_uri": "https://localhost:8080/",
          "height": 204
        },
        "outputId": "672086d7-5a36-431d-92d1-fe06ec2d63d2"
      },
      "source": [
        "df_X = df[['T_AGUA','AGUA_ESGOTO','T_LIXO','T_LUZ','T_BANAGUA']]\n",
        "df_X.head()"
      ],
      "execution_count": 84,
      "outputs": [
        {
          "output_type": "execute_result",
          "data": {
            "text/html": [
              "<div>\n",
              "<style scoped>\n",
              "    .dataframe tbody tr th:only-of-type {\n",
              "        vertical-align: middle;\n",
              "    }\n",
              "\n",
              "    .dataframe tbody tr th {\n",
              "        vertical-align: top;\n",
              "    }\n",
              "\n",
              "    .dataframe thead th {\n",
              "        text-align: right;\n",
              "    }\n",
              "</style>\n",
              "<table border=\"1\" class=\"dataframe\">\n",
              "  <thead>\n",
              "    <tr style=\"text-align: right;\">\n",
              "      <th></th>\n",
              "      <th>T_AGUA</th>\n",
              "      <th>AGUA_ESGOTO</th>\n",
              "      <th>T_LIXO</th>\n",
              "      <th>T_LUZ</th>\n",
              "      <th>T_BANAGUA</th>\n",
              "    </tr>\n",
              "  </thead>\n",
              "  <tbody>\n",
              "    <tr>\n",
              "      <th>0</th>\n",
              "      <td>57.13</td>\n",
              "      <td>27.52</td>\n",
              "      <td>70.33</td>\n",
              "      <td>70.14</td>\n",
              "      <td>42.56</td>\n",
              "    </tr>\n",
              "    <tr>\n",
              "      <th>1</th>\n",
              "      <td>73.54</td>\n",
              "      <td>21.14</td>\n",
              "      <td>90.61</td>\n",
              "      <td>93.43</td>\n",
              "      <td>67.08</td>\n",
              "    </tr>\n",
              "    <tr>\n",
              "      <th>2</th>\n",
              "      <td>58.61</td>\n",
              "      <td>27.36</td>\n",
              "      <td>76.57</td>\n",
              "      <td>80.31</td>\n",
              "      <td>46.33</td>\n",
              "    </tr>\n",
              "    <tr>\n",
              "      <th>3</th>\n",
              "      <td>78.60</td>\n",
              "      <td>14.28</td>\n",
              "      <td>90.22</td>\n",
              "      <td>90.58</td>\n",
              "      <td>67.20</td>\n",
              "    </tr>\n",
              "    <tr>\n",
              "      <th>4</th>\n",
              "      <td>73.98</td>\n",
              "      <td>24.82</td>\n",
              "      <td>70.04</td>\n",
              "      <td>91.79</td>\n",
              "      <td>61.93</td>\n",
              "    </tr>\n",
              "  </tbody>\n",
              "</table>\n",
              "</div>"
            ],
            "text/plain": [
              "   T_AGUA  AGUA_ESGOTO  T_LIXO  T_LUZ  T_BANAGUA\n",
              "0   57.13        27.52   70.33  70.14      42.56\n",
              "1   73.54        21.14   90.61  93.43      67.08\n",
              "2   58.61        27.36   76.57  80.31      46.33\n",
              "3   78.60        14.28   90.22  90.58      67.20\n",
              "4   73.98        24.82   70.04  91.79      61.93"
            ]
          },
          "metadata": {
            "tags": []
          },
          "execution_count": 84
        }
      ]
    },
    {
      "cell_type": "markdown",
      "metadata": {
        "id": "9lTURIlCuS8o",
        "colab_type": "text"
      },
      "source": [
        "### <font color = 'green'> Separando 30% dos dados para teste e 70% para treino </font>"
      ]
    },
    {
      "cell_type": "code",
      "metadata": {
        "id": "Wx-_xmt51yod",
        "colab_type": "code",
        "colab": {
          "base_uri": "https://localhost:8080/",
          "height": 51
        },
        "outputId": "44e1603b-70b0-4618-e2e3-7caa3aab892d"
      },
      "source": [
        "def retorna_dfTeste_e_dfTreino(parame_df, param_percentual_em_decimal_para_teste, param_random_state, paramm_nome_variavel_y):\n",
        "\n",
        "  #Definindo a quantidade de registros para teste, com base no % de registros do DataFrame e a quantidade total de registros do DataFrame. O % é definido pelo param_percentual_em_decimal_para_teste. EXEMPLO= se passar o param_percentual_em_decimal_para_teste como 0.3, vai ser pego 30% de linhas do dataframe\n",
        "  qt_para_teste = round(len(parame_df) * param_percentual_em_decimal_para_teste)\n",
        "  \n",
        "  #Seleciona uma quantidade de registros = qt_para_teste, de forma aleatória\n",
        "  fun_df_teste = parame_df.sample(n = qt_para_teste, random_state = param_random_state)\n",
        "\n",
        "  # deep = True indica que os dataFrames fun_df_treino e parame_df, são independentes, qualquer alteração em um deles, NÃO vai refletir no outro\n",
        "  fun_df_treino = parame_df.copy(deep = True) \n",
        "\n",
        "  # Gravo na series, com o índice(que será utilizado para comparar com o dataframe geral)\n",
        "  seriesRDPC_teste = fun_df_teste[paramm_nome_variavel_y]\n",
        "\n",
        "  # Estou gravando numa coluna nova, indicando se o registro está no Dataframe de Teste(=True) ou não(=False). O método \"isin\" compara pelo índice do dataframe passado por parâmetro, com a series \"seriesRDPC_teste\", retorna True, caso o índice da linha do dataframe seja igual a pelo menos um dos índices da seriesRDPC_teste\n",
        "  fun_df_treino['Registro_de_Teste'] = parame_df.isin(seriesRDPC_teste)[paramm_nome_variavel_y].copy()\n",
        "\n",
        "  # Selecionando apenas os registros que não são de treino\n",
        "  fun_df_treino.query('Registro_de_Teste == False', inplace = True)\n",
        "\n",
        "  # Exclui a coluna Registro_de_Teste\n",
        "  fun_df_treino.drop(labels='Registro_de_Teste', axis='columns', inplace=True)\n",
        "\n",
        "  return fun_df_teste,fun_df_treino\n",
        "\n",
        "teste,treino = retorna_dfTeste_e_dfTreino(df,0.3,123,'RDPC')  \n",
        "print(\"Quantidade de registros para Teste: \",len(teste))\n",
        "print(\"Quantidade de registros para Treino: \",len(treino))"
      ],
      "execution_count": 100,
      "outputs": [
        {
          "output_type": "stream",
          "text": [
            "Quantidade de registros para Teste:  1670\n",
            "Quantidade de registros para Treino:  3895\n"
          ],
          "name": "stdout"
        }
      ]
    },
    {
      "cell_type": "code",
      "metadata": {
        "id": "qbrGByRbuIjA",
        "colab_type": "code",
        "colab": {
          "base_uri": "https://localhost:8080/",
          "height": 119
        },
        "outputId": "220e70e9-4062-4317-c5a7-9f105f9e21f6"
      },
      "source": [
        "def retorna_Colunas_Explicativas(paramm_df, paramm_nome_variavel_y):\n",
        "  _ = paramm_df.columns.to_frame(index=False, name = 'Coluna')\n",
        "  _ = _.query(\"Coluna != '\" + paramm_nome_variavel_y + \"'\")\n",
        "  _ = _[\"Coluna\"]\n",
        "\n",
        "  return _\n",
        " \n",
        "retorna_Colunas_Explicativas(df,'RDPC')"
      ],
      "execution_count": 86,
      "outputs": [
        {
          "output_type": "execute_result",
          "data": {
            "text/plain": [
              "1         T_AGUA\n",
              "2    AGUA_ESGOTO\n",
              "3         T_LIXO\n",
              "4          T_LUZ\n",
              "5      T_BANAGUA\n",
              "Name: Coluna, dtype: object"
            ]
          },
          "metadata": {
            "tags": []
          },
          "execution_count": 86
        }
      ]
    },
    {
      "cell_type": "code",
      "metadata": {
        "id": "lt7i6UHYyjAW",
        "colab_type": "code",
        "colab": {
          "base_uri": "https://localhost:8080/",
          "height": 80
        },
        "outputId": "382e96e2-de60-4f31-9320-c475a3d6650e"
      },
      "source": [
        "def retorna_y(param_df,param_nome_variavel_y):\n",
        "  _ = param_df[[param_nome_variavel_y]]\n",
        "  return _  \n",
        "\n",
        "retorna_y(df,'RDPC').head(1)  "
      ],
      "execution_count": 87,
      "outputs": [
        {
          "output_type": "execute_result",
          "data": {
            "text/html": [
              "<div>\n",
              "<style scoped>\n",
              "    .dataframe tbody tr th:only-of-type {\n",
              "        vertical-align: middle;\n",
              "    }\n",
              "\n",
              "    .dataframe tbody tr th {\n",
              "        vertical-align: top;\n",
              "    }\n",
              "\n",
              "    .dataframe thead th {\n",
              "        text-align: right;\n",
              "    }\n",
              "</style>\n",
              "<table border=\"1\" class=\"dataframe\">\n",
              "  <thead>\n",
              "    <tr style=\"text-align: right;\">\n",
              "      <th></th>\n",
              "      <th>RDPC</th>\n",
              "    </tr>\n",
              "  </thead>\n",
              "  <tbody>\n",
              "    <tr>\n",
              "      <th>0</th>\n",
              "      <td>371.15</td>\n",
              "    </tr>\n",
              "  </tbody>\n",
              "</table>\n",
              "</div>"
            ],
            "text/plain": [
              "     RDPC\n",
              "0  371.15"
            ]
          },
          "metadata": {
            "tags": []
          },
          "execution_count": 87
        }
      ]
    },
    {
      "cell_type": "code",
      "metadata": {
        "id": "us3M0kNezMV4",
        "colab_type": "code",
        "colab": {
          "base_uri": "https://localhost:8080/",
          "height": 80
        },
        "outputId": "b1d1e6e7-4a9c-47d9-f1fa-7f3bd4b76854"
      },
      "source": [
        "def retorna_X(paramm_df, paramm_nome_variavel_y):\n",
        "  _ = retorna_Colunas_Explicativas(paramm_df,paramm_nome_variavel_y)\n",
        "\n",
        "  return paramm_df[_]   \n",
        "\n",
        "retorna_X(df,'RDPC').head(1)"
      ],
      "execution_count": 88,
      "outputs": [
        {
          "output_type": "execute_result",
          "data": {
            "text/html": [
              "<div>\n",
              "<style scoped>\n",
              "    .dataframe tbody tr th:only-of-type {\n",
              "        vertical-align: middle;\n",
              "    }\n",
              "\n",
              "    .dataframe tbody tr th {\n",
              "        vertical-align: top;\n",
              "    }\n",
              "\n",
              "    .dataframe thead th {\n",
              "        text-align: right;\n",
              "    }\n",
              "</style>\n",
              "<table border=\"1\" class=\"dataframe\">\n",
              "  <thead>\n",
              "    <tr style=\"text-align: right;\">\n",
              "      <th></th>\n",
              "      <th>T_AGUA</th>\n",
              "      <th>AGUA_ESGOTO</th>\n",
              "      <th>T_LIXO</th>\n",
              "      <th>T_LUZ</th>\n",
              "      <th>T_BANAGUA</th>\n",
              "    </tr>\n",
              "  </thead>\n",
              "  <tbody>\n",
              "    <tr>\n",
              "      <th>0</th>\n",
              "      <td>57.13</td>\n",
              "      <td>27.52</td>\n",
              "      <td>70.33</td>\n",
              "      <td>70.14</td>\n",
              "      <td>42.56</td>\n",
              "    </tr>\n",
              "  </tbody>\n",
              "</table>\n",
              "</div>"
            ],
            "text/plain": [
              "   T_AGUA  AGUA_ESGOTO  T_LIXO  T_LUZ  T_BANAGUA\n",
              "0   57.13        27.52   70.33  70.14      42.56"
            ]
          },
          "metadata": {
            "tags": []
          },
          "execution_count": 88
        }
      ]
    },
    {
      "cell_type": "code",
      "metadata": {
        "id": "r4XXQaWquR6J",
        "colab_type": "code",
        "colab": {
          "base_uri": "https://localhost:8080/",
          "height": 85
        },
        "outputId": "0b596228-c412-4a5c-80b9-8c1796e409d0"
      },
      "source": [
        "def testa_modelo(parametro_modelo,parametro_df_teste, parametro_df_treino):\n",
        "\n",
        "  df_X_teste = retorna_X(parametro_df_teste,'RDPC')\n",
        "  df_y_teste = retorna_y(parametro_df_teste,'RDPC')\n",
        "\n",
        "  df_X_treino = retorna_X(parametro_df_treino, 'RDPC')\n",
        "  df_y_treino = retorna_y(parametro_df_treino, 'RDPC')\n",
        "\n",
        "  # Preenche o modelo com os dados de treino\n",
        "  parametro_modelo.fit(df_X_treino,df_y_treino)\n",
        "\n",
        "\n",
        "  # Aqui eu faço a predição com os dados de teste, retornando o y previsto\n",
        "  retorno_y_previsto_teste = parametro_modelo.predict(df_X_teste)\n",
        "\n",
        "  # Aqui retorno o erro quadratico medio comparando o y de teste com o y previsto\n",
        "  retorno_raiz_do_erro_quadratico_medio = np.sqrt(  mean_squared_error(df_y_teste, retorno_y_previsto_teste)  )\n",
        "\n",
        "  # Retornando o R² comparando o y de teste com o y previsto\n",
        "  retorno_r2_Score = metrics.r2_score(df_y_teste, retorno_y_previsto_teste)\n",
        "\n",
        "  # deep = True indica que os retorno_df_teste e parametro_df_teste, são independentes, qualquer alteração em um deles, NÃO vai refletir no outro\n",
        "  retorno_df_teste = parametro_df_teste.copy(deep=True)\n",
        "\n",
        "  # Criando variáveis que me ajudarão na análise do modelo preditivo\n",
        "  retorno_df_teste['y_previsto'] = retorno_y_previsto_teste\n",
        "  retorno_df_teste['Residuo'] = retorno_df_teste['RDPC'] - retorno_df_teste['y_previsto']\n",
        "  retorno_df_teste['Residuo_Absoluto'] = np.sqrt(retorno_df_teste['Residuo'] ** 2)\n",
        "\n",
        "  #\n",
        "  ax = List()\n",
        "  plota_geral(retorno_df_teste)\n",
        "\n",
        "\n",
        "  # Aqui retorno tudo\n",
        "  return retorno_df_teste, retorno_r2_Score ,retorno_raiz_do_erro_quadratico_medio \n",
        "\n",
        "#--------------------------------------------------\n",
        "#----------------------***FIM***-------------------\n",
        "#--------------------------------------------------\n",
        "\n",
        "modelo = xgboost.XGBRegressor(learning_rate=0.1,max_depth=3,n_estimators=100,reg_alpha=0.80,seed=180) \n",
        "\n",
        "df_2teste, df_2treino = retorna_dfTeste_e_dfTreino(df,0.3,123,'RDPC')\n",
        "\n",
        "df_teste_retorno, r2_Score ,raiz_do_erro_quadratico_medio = testa_modelo(modelo,df_2teste,df_2treino)\n",
        "\n",
        "print (\"df_teste_retorno: \", df_teste_retorno.shape)\n",
        "print (\"r2_score: \", r2_Score)\n",
        "print(\"raiz_do_erro_quadratico_medio: \", raiz_do_erro_quadratico_medio)"
      ],
      "execution_count": 118,
      "outputs": [
        {
          "output_type": "stream",
          "text": [
            "[19:16:13] WARNING: /workspace/src/objective/regression_obj.cu:152: reg:linear is now deprecated in favor of reg:squarederror.\n",
            "df_teste_retorno:  (1670, 9)\n",
            "r2_score:  0.6615025330789903\n",
            "raiz_do_erro_quadratico_medio:  114.70502325202254\n"
          ],
          "name": "stdout"
        }
      ]
    },
    {
      "cell_type": "code",
      "metadata": {
        "id": "E3rJ_Rv2kLBR",
        "colab_type": "code",
        "colab": {}
      },
      "source": [
        "def plota_probplot_residuos(param_probplot_df):\n",
        "\n",
        "  (_, (_, _, _)) = probplot(df_teste_retorno.Residuo, plot = plt)\n",
        "  return (_, (_, _, _))"
      ],
      "execution_count": 0,
      "outputs": []
    },
    {
      "cell_type": "code",
      "metadata": {
        "id": "imZTfW_d52XU",
        "colab_type": "code",
        "colab": {}
      },
      "source": [
        "def plota_residuos_vs_yprevisto(param_plot_df):\n",
        "\n",
        "  ax = sns.scatterplot(x=param_plot_df.y_previsto, y=param_plot_df.Residuo)\n",
        "  ax.figure.set_size_inches(12,6)\n",
        "  ax.set_title('Resíduos vs Variável Independente (y)', fontsize=18)\n",
        "  return ax"
      ],
      "execution_count": 0,
      "outputs": []
    },
    {
      "cell_type": "code",
      "metadata": {
        "id": "opW0N_39kLHb",
        "colab_type": "code",
        "colab": {}
      },
      "source": [
        "def plota_regressaolinear_RDPC_yprevisto(param_regressaolinear_plot_df):\n",
        "\n",
        "  ax = sns.lmplot(data=param_regressaolinear_plot_df,x='RDPC', y='Residuo', palette='Set2')\n",
        "  ax.fig.set_size_inches(12, 6)\n",
        "  ax.fig.suptitle('Reta de Regressão', fontsize=16, y=1.02)\n",
        "  return ax"
      ],
      "execution_count": 0,
      "outputs": []
    },
    {
      "cell_type": "code",
      "metadata": {
        "id": "nUMTQz8gkLMC",
        "colab_type": "code",
        "colab": {}
      },
      "source": [
        "def plota_geral(param_plotgeral_df):\n",
        "\n",
        "  lista_graficos = list()\n",
        "\n",
        "  lista_graficos.append(  plota_residuos_vs_yprevisto(param_plotgeral_df)  )\n",
        "  lista_graficos.append(  plota_regressaolinear_RDPC_yprevisto(param_plotgeral_df) )\n",
        "\n",
        "  \n",
        "\n",
        "  return lista_graficos"
      ],
      "execution_count": 0,
      "outputs": []
    },
    {
      "cell_type": "code",
      "metadata": {
        "id": "sUuKpIvixYq9",
        "colab_type": "code",
        "colab": {
          "base_uri": "https://localhost:8080/",
          "height": 878
        },
        "outputId": "b2fb8503-c563-4417-c2da-3bfdcd497277"
      },
      "source": [
        "testandoplot = plota_geral(df_teste_retorno)\n",
        "testandoplot"
      ],
      "execution_count": 155,
      "outputs": [
        {
          "output_type": "execute_result",
          "data": {
            "text/plain": [
              "[<matplotlib.axes._subplots.AxesSubplot at 0x7f9a5c3c5668>,\n",
              " <seaborn.axisgrid.FacetGrid at 0x7f9a5c3ebbe0>]"
            ]
          },
          "metadata": {
            "tags": []
          },
          "execution_count": 155
        },
        {
          "output_type": "display_data",
          "data": {
            "image/png": "[encoded data removed]",
            "text/plain": [
              "<Figure size 864x432 with 1 Axes>"
            ]
          },
          "metadata": {
            "tags": [],
            "needs_background": "light"
          }
        },
        {
          "output_type": "display_data",
          "data": {
            "image/png": "[encoded data removed]",
            "text/plain": [
              "<Figure size 864x432 with 1 Axes>"
            ]
          },
          "metadata": {
            "tags": [],
            "needs_background": "light"
          }
        }
      ]
    },
    {
      "cell_type": "code",
      "metadata": {
        "id": "GIDuMeKKxYyA",
        "colab_type": "code",
        "colab": {
          "base_uri": "https://localhost:8080/",
          "height": 204
        },
        "outputId": "16877fc0-13e5-46b8-ec14-1aac3d58ef65"
      },
      "source": [
        "df_2treino.head()"
      ],
      "execution_count": 103,
      "outputs": [
        {
          "output_type": "execute_result",
          "data": {
            "text/html": [
              "<div>\n",
              "<style scoped>\n",
              "    .dataframe tbody tr th:only-of-type {\n",
              "        vertical-align: middle;\n",
              "    }\n",
              "\n",
              "    .dataframe tbody tr th {\n",
              "        vertical-align: top;\n",
              "    }\n",
              "\n",
              "    .dataframe thead th {\n",
              "        text-align: right;\n",
              "    }\n",
              "</style>\n",
              "<table border=\"1\" class=\"dataframe\">\n",
              "  <thead>\n",
              "    <tr style=\"text-align: right;\">\n",
              "      <th></th>\n",
              "      <th>RDPC</th>\n",
              "      <th>T_AGUA</th>\n",
              "      <th>AGUA_ESGOTO</th>\n",
              "      <th>T_LIXO</th>\n",
              "      <th>T_LUZ</th>\n",
              "      <th>T_BANAGUA</th>\n",
              "    </tr>\n",
              "  </thead>\n",
              "  <tbody>\n",
              "    <tr>\n",
              "      <th>0</th>\n",
              "      <td>371.15</td>\n",
              "      <td>57.13</td>\n",
              "      <td>27.52</td>\n",
              "      <td>70.33</td>\n",
              "      <td>70.14</td>\n",
              "      <td>42.56</td>\n",
              "    </tr>\n",
              "    <tr>\n",
              "      <th>1</th>\n",
              "      <td>530.87</td>\n",
              "      <td>73.54</td>\n",
              "      <td>21.14</td>\n",
              "      <td>90.61</td>\n",
              "      <td>93.43</td>\n",
              "      <td>67.08</td>\n",
              "    </tr>\n",
              "    <tr>\n",
              "      <th>2</th>\n",
              "      <td>342.46</td>\n",
              "      <td>58.61</td>\n",
              "      <td>27.36</td>\n",
              "      <td>76.57</td>\n",
              "      <td>80.31</td>\n",
              "      <td>46.33</td>\n",
              "    </tr>\n",
              "    <tr>\n",
              "      <th>3</th>\n",
              "      <td>456.63</td>\n",
              "      <td>78.60</td>\n",
              "      <td>14.28</td>\n",
              "      <td>90.22</td>\n",
              "      <td>90.58</td>\n",
              "      <td>67.20</td>\n",
              "    </tr>\n",
              "    <tr>\n",
              "      <th>5</th>\n",
              "      <td>401.32</td>\n",
              "      <td>70.51</td>\n",
              "      <td>24.24</td>\n",
              "      <td>58.71</td>\n",
              "      <td>92.39</td>\n",
              "      <td>57.73</td>\n",
              "    </tr>\n",
              "  </tbody>\n",
              "</table>\n",
              "</div>"
            ],
            "text/plain": [
              "     RDPC  T_AGUA  AGUA_ESGOTO  T_LIXO  T_LUZ  T_BANAGUA\n",
              "0  371.15   57.13        27.52   70.33  70.14      42.56\n",
              "1  530.87   73.54        21.14   90.61  93.43      67.08\n",
              "2  342.46   58.61        27.36   76.57  80.31      46.33\n",
              "3  456.63   78.60        14.28   90.22  90.58      67.20\n",
              "5  401.32   70.51        24.24   58.71  92.39      57.73"
            ]
          },
          "metadata": {
            "tags": []
          },
          "execution_count": 103
        }
      ]
    },
    {
      "cell_type": "code",
      "metadata": {
        "id": "aeb32qmwxYvX",
        "colab_type": "code",
        "colab": {}
      },
      "source": [
        ""
      ],
      "execution_count": 0,
      "outputs": []
    },
    {
      "cell_type": "code",
      "metadata": {
        "id": "Y5IkPqfz1bg8",
        "colab_type": "code",
        "colab": {}
      },
      "source": [
        ""
      ],
      "execution_count": 0,
      "outputs": []
    }
  ]
}